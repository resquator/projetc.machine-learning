{
 "cells": [
  {
   "cell_type": "markdown",
   "id": "19409bfa-55cf-4b40-93f8-7e761d35427a",
   "metadata": {},
   "source": [
    "# Train and deploy a model on Cloud\n",
    "\n",
    "## Train model\n",
    "Create a model to predict rent price of appartment based on features\n",
    "\n",
    "- surface\n",
    "- number of rooms\n",
    "- levels\n",
    "- garden and/or garage\n",
    "\n",
    "## Create a Cloud structure\n",
    "\n",
    "## Push for deployment"
   ]
  },
  {
   "cell_type": "code",
   "execution_count": 1,
   "id": "c0e16bff-0efd-44a8-afa0-dadaf80b098e",
   "metadata": {},
   "outputs": [],
   "source": [
    "import pyforest\n",
    "from sklearn.linear_model import LinearRegression"
   ]
  },
  {
   "cell_type": "code",
   "execution_count": 2,
   "id": "612797a5-cd39-4417-accf-0938d5184adc",
   "metadata": {},
   "outputs": [
    {
     "data": {
      "application/javascript": [
       "\n",
       "        if (window._pyforest_update_imports_cell) { window._pyforest_update_imports_cell('import sklearn'); }\n",
       "    "
      ],
      "text/plain": [
       "<IPython.core.display.Javascript object>"
      ]
     },
     "metadata": {},
     "output_type": "display_data"
    },
    {
     "name": "stdout",
     "output_type": "stream",
     "text": [
      "Library sklearn version 0.24.1\n"
     ]
    }
   ],
   "source": [
    "print(f\"Library sklearn version {sklearn.__version__}\")"
   ]
  },
  {
   "cell_type": "code",
   "execution_count": 2,
   "id": "036492c4-48c1-4148-a1d9-f92e75c0893b",
   "metadata": {},
   "outputs": [
    {
     "data": {
      "application/javascript": [
       "\n",
       "        if (window._pyforest_update_imports_cell) { window._pyforest_update_imports_cell('import pandas as pd'); }\n",
       "    "
      ],
      "text/plain": [
       "<IPython.core.display.Javascript object>"
      ]
     },
     "metadata": {},
     "output_type": "display_data"
    },
    {
     "data": {
      "text/plain": [
       "(1000, 7)"
      ]
     },
     "execution_count": 2,
     "metadata": {},
     "output_type": "execute_result"
    }
   ],
   "source": [
    "# load dataset\n",
    "df = pd.read_csv('data/MOCK_DATA.csv')\n",
    "df.shape"
   ]
  },
  {
   "cell_type": "code",
   "execution_count": 3,
   "id": "c428d7d0-71fa-40c1-9f10-9f51b7bb98c7",
   "metadata": {},
   "outputs": [
    {
     "data": {
      "text/html": [
       "<div>\n",
       "<style scoped>\n",
       "    .dataframe tbody tr th:only-of-type {\n",
       "        vertical-align: middle;\n",
       "    }\n",
       "\n",
       "    .dataframe tbody tr th {\n",
       "        vertical-align: top;\n",
       "    }\n",
       "\n",
       "    .dataframe thead th {\n",
       "        text-align: right;\n",
       "    }\n",
       "</style>\n",
       "<table border=\"1\" class=\"dataframe\">\n",
       "  <thead>\n",
       "    <tr style=\"text-align: right;\">\n",
       "      <th></th>\n",
       "      <th>id</th>\n",
       "      <th>surface</th>\n",
       "      <th>level</th>\n",
       "      <th>room</th>\n",
       "      <th>garden</th>\n",
       "      <th>garage</th>\n",
       "      <th>price_rent</th>\n",
       "    </tr>\n",
       "  </thead>\n",
       "  <tbody>\n",
       "    <tr>\n",
       "      <th>0</th>\n",
       "      <td>1</td>\n",
       "      <td>153</td>\n",
       "      <td>1</td>\n",
       "      <td>2</td>\n",
       "      <td>0</td>\n",
       "      <td>1</td>\n",
       "      <td>2111</td>\n",
       "    </tr>\n",
       "    <tr>\n",
       "      <th>1</th>\n",
       "      <td>2</td>\n",
       "      <td>162</td>\n",
       "      <td>1</td>\n",
       "      <td>3</td>\n",
       "      <td>1</td>\n",
       "      <td>1</td>\n",
       "      <td>1684</td>\n",
       "    </tr>\n",
       "    <tr>\n",
       "      <th>2</th>\n",
       "      <td>3</td>\n",
       "      <td>163</td>\n",
       "      <td>3</td>\n",
       "      <td>3</td>\n",
       "      <td>0</td>\n",
       "      <td>0</td>\n",
       "      <td>1857</td>\n",
       "    </tr>\n",
       "    <tr>\n",
       "      <th>3</th>\n",
       "      <td>4</td>\n",
       "      <td>73</td>\n",
       "      <td>1</td>\n",
       "      <td>2</td>\n",
       "      <td>1</td>\n",
       "      <td>1</td>\n",
       "      <td>2756</td>\n",
       "    </tr>\n",
       "    <tr>\n",
       "      <th>4</th>\n",
       "      <td>5</td>\n",
       "      <td>94</td>\n",
       "      <td>3</td>\n",
       "      <td>1</td>\n",
       "      <td>1</td>\n",
       "      <td>0</td>\n",
       "      <td>1361</td>\n",
       "    </tr>\n",
       "  </tbody>\n",
       "</table>\n",
       "</div>"
      ],
      "text/plain": [
       "   id  surface  level  room  garden  garage  price_rent\n",
       "0   1      153      1     2       0       1        2111\n",
       "1   2      162      1     3       1       1        1684\n",
       "2   3      163      3     3       0       0        1857\n",
       "3   4       73      1     2       1       1        2756\n",
       "4   5       94      3     1       1       0        1361"
      ]
     },
     "execution_count": 3,
     "metadata": {},
     "output_type": "execute_result"
    }
   ],
   "source": [
    "df.head()"
   ]
  },
  {
   "cell_type": "code",
   "execution_count": 4,
   "id": "27c5184a-8b43-4bfe-a3a2-b9450b3b7498",
   "metadata": {},
   "outputs": [],
   "source": [
    "# define X, y\n",
    "X = df.drop(['id','price_rent'], axis=1).values\n",
    "y = df.price_rent.values"
   ]
  },
  {
   "cell_type": "code",
   "execution_count": 5,
   "id": "4a2e31f5-9ebb-44bd-8000-378fc672adcd",
   "metadata": {},
   "outputs": [
    {
     "data": {
      "text/plain": [
       "(array([[153,   1,   2,   0,   1],\n",
       "        [162,   1,   3,   1,   1],\n",
       "        [163,   3,   3,   0,   0],\n",
       "        ...,\n",
       "        [145,   2,   4,   0,   1],\n",
       "        [ 89,   3,   1,   0,   1],\n",
       "        [167,   1,   4,   0,   1]]),\n",
       " array([[134,   1,   3,   0,   1],\n",
       "        [124,   3,   2,   0,   1],\n",
       "        [243,   1,   1,   1,   1],\n",
       "        [122,   2,   3,   0,   1],\n",
       "        [199,   2,   3,   0,   0],\n",
       "        [176,   1,   3,   1,   0],\n",
       "        [ 91,   1,   1,   0,   1],\n",
       "        [ 84,   1,   1,   1,   0],\n",
       "        [131,   2,   4,   0,   1],\n",
       "        [159,   1,   4,   0,   1],\n",
       "        [223,   2,   3,   1,   1],\n",
       "        [237,   2,   4,   1,   1],\n",
       "        [161,   3,   3,   1,   0],\n",
       "        [129,   2,   2,   0,   1],\n",
       "        [166,   1,   2,   1,   1]]))"
      ]
     },
     "execution_count": 5,
     "metadata": {},
     "output_type": "execute_result"
    }
   ],
   "source": [
    "X[:985], X[-15:]"
   ]
  },
  {
   "cell_type": "code",
   "execution_count": 6,
   "id": "c5381394-381b-4980-a2a3-638a0cd78b7d",
   "metadata": {},
   "outputs": [],
   "source": [
    "# create a classifier\n",
    "clf = LinearRegression()"
   ]
  },
  {
   "cell_type": "code",
   "execution_count": 7,
   "id": "ab793976-dc5d-440c-86d5-5776659af293",
   "metadata": {},
   "outputs": [
    {
     "data": {
      "text/plain": [
       "array([2023.39986858, 1952.09161181, 2048.40321177, 1978.3317618 ,\n",
       "       2035.16745143, 2049.17984613, 2049.7917903 , 2067.79802697,\n",
       "       1963.15270378, 2010.75917493, 1968.85214685, 1954.4663277 ,\n",
       "       1960.47146252, 1996.04918419, 2019.58044527])"
      ]
     },
     "execution_count": 7,
     "metadata": {},
     "output_type": "execute_result"
    }
   ],
   "source": [
    "clf.fit(X[:985],y[:985]).predict(X[-15:])"
   ]
  },
  {
   "cell_type": "code",
   "execution_count": 8,
   "id": "64a1d320-abcd-4626-b194-153b4e81d3ba",
   "metadata": {},
   "outputs": [
    {
     "data": {
      "text/plain": [
       "-0.14452567030019337"
      ]
     },
     "execution_count": 8,
     "metadata": {},
     "output_type": "execute_result"
    }
   ],
   "source": [
    "clf.score(X[-15:],y[-15:])"
   ]
  },
  {
   "cell_type": "code",
   "execution_count": 9,
   "id": "cbb90b78-a795-4d42-ad5c-948441b4a6c0",
   "metadata": {},
   "outputs": [],
   "source": [
    "# save model for futur deployement\n",
    "model_file_path = 'rent_price_predictor.pkl'\n",
    "\n",
    "import pickle\n",
    "\n",
    "# save the model to disk\n",
    "pickle.dump(clf, open(model_file_path, 'wb'))"
   ]
  },
  {
   "cell_type": "code",
   "execution_count": 10,
   "id": "30459290-cc80-4af3-923b-40123987ca04",
   "metadata": {},
   "outputs": [
    {
     "data": {
      "application/javascript": [
       "\n",
       "        if (window._pyforest_update_imports_cell) { window._pyforest_update_imports_cell('import pandas as pd\\nimport numpy as np'); }\n",
       "    "
      ],
      "text/plain": [
       "<IPython.core.display.Javascript object>"
      ]
     },
     "metadata": {},
     "output_type": "display_data"
    },
    {
     "data": {
      "text/plain": [
       "array([1963.15270378])"
      ]
     },
     "execution_count": 10,
     "metadata": {},
     "output_type": "execute_result"
    }
   ],
   "source": [
    "row_one = np.array([131,   2,   4,   0,   1]).reshape(1,-1)\n",
    "model = pickle.load(open(model_file_path, 'rb'))\n",
    "model.predict(row_one)"
   ]
  },
  {
   "cell_type": "code",
   "execution_count": 11,
   "id": "f23a5ab9-cf89-4f85-aabd-d0e40a42e955",
   "metadata": {},
   "outputs": [],
   "source": [
    "#pip install flask\n"
   ]
  },
  {
   "cell_type": "code",
   "execution_count": null,
   "id": "446164ed-b99d-4e16-a4a2-13db6f679688",
   "metadata": {},
   "outputs": [],
   "source": []
  }
 ],
 "metadata": {
  "kernelspec": {
   "display_name": "Python 3",
   "language": "python",
   "name": "python3"
  },
  "language_info": {
   "codemirror_mode": {
    "name": "ipython",
    "version": 3
   },
   "file_extension": ".py",
   "mimetype": "text/x-python",
   "name": "python",
   "nbconvert_exporter": "python",
   "pygments_lexer": "ipython3",
   "version": "3.8.8"
  },
  "widgets": {
   "application/vnd.jupyter.widget-state+json": {
    "state": {},
    "version_major": 2,
    "version_minor": 0
   }
  }
 },
 "nbformat": 4,
 "nbformat_minor": 5
}
