{
 "cells": [
  {
   "cell_type": "markdown",
   "metadata": {},
   "source": [
    "# 07 - Modeling Notebook"
   ]
  },
  {
   "cell_type": "code",
   "execution_count": 1,
   "metadata": {},
   "outputs": [],
   "source": [
    "from sklearn.preprocessing import StandardScaler\n",
    "from sklearn.preprocessing import PowerTransformer\n",
    "from sklearn.preprocessing import LabelBinarizer\n",
    "\n",
    "from sklearn.impute import SimpleImputer\n",
    "from sklearn.metrics import accuracy_score, log_loss\n",
    "from yellowbrick.classifier import ROCAUC\n",
    "\n",
    "\n",
    "from sklearn.neighbors import KNeighborsClassifier\n",
    "from sklearn.svm import SVC, LinearSVC\n",
    "from sklearn.tree import DecisionTreeClassifier\n",
    "from sklearn.linear_model import LogisticRegression\n",
    "from sklearn.ensemble import RandomForestClassifier\n",
    "from sklearn.neural_network import MLPClassifier\n",
    "\n",
    "from sklearn.feature_selection import SelectKBest, f_classif\n",
    "\n",
    "from sklearn.preprocessing import OrdinalEncoder\n",
    "\n",
    "from sklearn.pipeline import Pipeline\n",
    "from sklearn.base import BaseEstimator\n",
    "from sklearn.base import TransformerMixin\n",
    "\n",
    "import pandas as pd\n",
    "import numpy as np\n",
    "\n",
    "from sklearn.model_selection import cross_val_score\n",
    "from sklearn.model_selection import GridSearchCV\n",
    "from sklearn.model_selection import KFold\n",
    "from sklearn.pipeline import Pipeline\n",
    "from sklearn.model_selection import train_test_split\n",
    "\n",
    "from sklearn.metrics import classification_report\n",
    "from sklearn.metrics import accuracy_score, precision_score, recall_score, f1_score\n",
    "from sklearn.metrics import confusion_matrix\n",
    "\n",
    "import logging\n",
    "from datetime import datetime\n",
    "from datetime import timedelta\n",
    "\n",
    "# import warnings filter\n",
    "from warnings import simplefilter\n",
    "# ignore all future warnings\n",
    "simplefilter(action='ignore', category=FutureWarning)\n",
    "simplefilter(action=\"ignore\", category=DeprecationWarning) \n",
    "\n",
    "import sweetviz as sv\n",
    "import matplotlib.pyplot as plt\n",
    "import json\n",
    "import tqdm"
   ]
  },
  {
   "cell_type": "code",
   "execution_count": 2,
   "metadata": {},
   "outputs": [],
   "source": [
    "import mytransformer as myt"
   ]
  },
  {
   "cell_type": "code",
   "execution_count": 3,
   "metadata": {},
   "outputs": [],
   "source": [
    "# create the log for this Notebook\n",
    "now = datetime.now()\n",
    "filename = 'logs/07-Modeling-' + now.strftime(\"%m%d%Y\") + '.log'\n",
    "\n",
    "logging.basicConfig(filename=filename ,format='%(asctime)s | %(levelname)s: %(message)s', level=20)\n",
    "logging.info('')\n",
    "logging.info('***************************************************************************************************')\n",
    "logging.info('***                                                                                             ***')\n",
    "logging.info('***   NEW RUN                                                                                   ***')\n",
    "logging.info('***                                                                                             ***')\n",
    "logging.info('***************************************************************************************************')\n",
    "\n",
    "logging.info('I start to run your Notebook ! -- Good Luck :-) It is:  '+ now.strftime(\"%m/%d/%Y, %H:%M:%S\"))\n"
   ]
  },
  {
   "cell_type": "code",
   "execution_count": 4,
   "metadata": {},
   "outputs": [],
   "source": [
    "# folder = '../../data source/_anonymized/'\n",
    "# declare some constants\n",
    "folder = '_anonymized/'\n",
    "sweetviz = True"
   ]
  },
  {
   "cell_type": "code",
   "execution_count": 5,
   "metadata": {},
   "outputs": [
    {
     "data": {
      "text/plain": [
       "(8902, 63)"
      ]
     },
     "execution_count": 5,
     "metadata": {},
     "output_type": "execute_result"
    }
   ],
   "source": [
    "# read the cleaned csv files\n",
    "\n",
    "df = pd.read_csv(folder + 'dataset_4_modelling.csv')\n",
    "try:\n",
    "    df.drop('Unnamed: 0', axis=1, inplace=True)\n",
    "except:\n",
    "    logging.warning('Unnamed: 0 not existing in this file.')\n",
    "    \n",
    "logging.info('{} rows and {} columns read in the CSV file'.format(df.shape[0], df.shape[1]))\n",
    "df.shape"
   ]
  },
  {
   "cell_type": "markdown",
   "metadata": {},
   "source": [
    "# Test the CustomTransformer\n",
    "The CustomTransformer is importedas a library. The next cells tests the call to the transformation with a sample configuration file."
   ]
  },
  {
   "cell_type": "code",
   "execution_count": 6,
   "metadata": {},
   "outputs": [],
   "source": [
    "# Create X and y\n",
    "X = df.drop('TARGET', axis=1)\n",
    "y = df.TARGET\n",
    "\n",
    "# define columns which will passed to transformer for the grouping (brk)\n",
    "# when applying method such as shift or expanding, I want to maintain the\n",
    "# fund grouping (or other attribute to set in brk).\n",
    "\n",
    "brk='SRC_UID'\n",
    "\n",
    "\n",
    "# Read configuration file\n",
    "try:\n",
    "    with open('config_transformation.json') as data_file:\n",
    "        data_loaded = json.load(data_file)\n",
    "        trans = data_loaded\n",
    "except:\n",
    "    logging.warning('No configuration file found. Create a sample file')\n",
    "    trans = []\n",
    "    dico= {}\n",
    "    dico['cols'] = ['NET_FLOWS']\n",
    "    dico['method'] = 'shift'\n",
    "    dico['period'] = [1]\n",
    "    dico['original'] = True\n",
    "    trans.append(dico)\n",
    "    # save the config\n",
    "    with open('config_transformation.json', 'w') as f:\n",
    "        json.dump(trans, f)\n",
    "    \n",
    "# create the steps and the transformation Pipeline\n",
    "steps = [('ts_2_supervised',myt.TS2Supervised(transformation=trans, breakdown=brk\n",
    "                                          , verbose=False, interpolation=True))]\n",
    "transformation_pipeline = Pipeline(steps)\n",
    "\n",
    "test_transformed_pipeline = transformation_pipeline.fit_transform(X, y)"
   ]
  },
  {
   "cell_type": "code",
   "execution_count": 7,
   "metadata": {},
   "outputs": [
    {
     "data": {
      "text/html": [
       "<div>\n",
       "<style scoped>\n",
       "    .dataframe tbody tr th:only-of-type {\n",
       "        vertical-align: middle;\n",
       "    }\n",
       "\n",
       "    .dataframe tbody tr th {\n",
       "        vertical-align: top;\n",
       "    }\n",
       "\n",
       "    .dataframe thead th {\n",
       "        text-align: right;\n",
       "    }\n",
       "</style>\n",
       "<table border=\"1\" class=\"dataframe\">\n",
       "  <thead>\n",
       "    <tr style=\"text-align: right;\">\n",
       "      <th></th>\n",
       "      <th>SRC_UID</th>\n",
       "      <th>FLOWS_YEAR</th>\n",
       "      <th>FLOWS_MONTH</th>\n",
       "      <th>IN_FLOWS-s1</th>\n",
       "      <th>IN_FLOWS-s2</th>\n",
       "      <th>IN_FLOWS-s3</th>\n",
       "      <th>AUM-r2</th>\n",
       "      <th>AUM-r5</th>\n",
       "      <th>AUM-r7</th>\n",
       "    </tr>\n",
       "  </thead>\n",
       "  <tbody>\n",
       "    <tr>\n",
       "      <th>0</th>\n",
       "      <td>206670688</td>\n",
       "      <td>2010</td>\n",
       "      <td>1</td>\n",
       "      <td>69669121.0</td>\n",
       "      <td>69669121.0</td>\n",
       "      <td>69669121.0</td>\n",
       "      <td>713840440.5</td>\n",
       "      <td>654958566.2</td>\n",
       "      <td>6.137747e+08</td>\n",
       "    </tr>\n",
       "    <tr>\n",
       "      <th>1</th>\n",
       "      <td>206670688</td>\n",
       "      <td>2010</td>\n",
       "      <td>2</td>\n",
       "      <td>69669121.0</td>\n",
       "      <td>69669121.0</td>\n",
       "      <td>69669121.0</td>\n",
       "      <td>713840440.5</td>\n",
       "      <td>654958566.2</td>\n",
       "      <td>6.137747e+08</td>\n",
       "    </tr>\n",
       "    <tr>\n",
       "      <th>2</th>\n",
       "      <td>206670688</td>\n",
       "      <td>2010</td>\n",
       "      <td>3</td>\n",
       "      <td>89408248.0</td>\n",
       "      <td>69669121.0</td>\n",
       "      <td>69669121.0</td>\n",
       "      <td>673792629.5</td>\n",
       "      <td>654958566.2</td>\n",
       "      <td>6.137747e+08</td>\n",
       "    </tr>\n",
       "    <tr>\n",
       "      <th>3</th>\n",
       "      <td>206670688</td>\n",
       "      <td>2010</td>\n",
       "      <td>4</td>\n",
       "      <td>68084125.0</td>\n",
       "      <td>89408248.0</td>\n",
       "      <td>69669121.0</td>\n",
       "      <td>634908810.0</td>\n",
       "      <td>654958566.2</td>\n",
       "      <td>6.137747e+08</td>\n",
       "    </tr>\n",
       "    <tr>\n",
       "      <th>4</th>\n",
       "      <td>206670688</td>\n",
       "      <td>2010</td>\n",
       "      <td>5</td>\n",
       "      <td>104779215.0</td>\n",
       "      <td>68084125.0</td>\n",
       "      <td>89408248.0</td>\n",
       "      <td>610520193.5</td>\n",
       "      <td>654958566.2</td>\n",
       "      <td>6.137747e+08</td>\n",
       "    </tr>\n",
       "    <tr>\n",
       "      <th>...</th>\n",
       "      <td>...</td>\n",
       "      <td>...</td>\n",
       "      <td>...</td>\n",
       "      <td>...</td>\n",
       "      <td>...</td>\n",
       "      <td>...</td>\n",
       "      <td>...</td>\n",
       "      <td>...</td>\n",
       "      <td>...</td>\n",
       "    </tr>\n",
       "    <tr>\n",
       "      <th>8897</th>\n",
       "      <td>213479867994200</td>\n",
       "      <td>2020</td>\n",
       "      <td>9</td>\n",
       "      <td>2226192.0</td>\n",
       "      <td>7838181.0</td>\n",
       "      <td>14258055.0</td>\n",
       "      <td>499453583.0</td>\n",
       "      <td>466825279.2</td>\n",
       "      <td>4.407168e+08</td>\n",
       "    </tr>\n",
       "    <tr>\n",
       "      <th>8898</th>\n",
       "      <td>213479867994200</td>\n",
       "      <td>2020</td>\n",
       "      <td>10</td>\n",
       "      <td>8479346.0</td>\n",
       "      <td>2226192.0</td>\n",
       "      <td>7838181.0</td>\n",
       "      <td>509903678.0</td>\n",
       "      <td>489066372.0</td>\n",
       "      <td>4.679802e+08</td>\n",
       "    </tr>\n",
       "    <tr>\n",
       "      <th>8899</th>\n",
       "      <td>213479867994200</td>\n",
       "      <td>2020</td>\n",
       "      <td>11</td>\n",
       "      <td>14776729.0</td>\n",
       "      <td>8479346.0</td>\n",
       "      <td>2226192.0</td>\n",
       "      <td>547350187.0</td>\n",
       "      <td>516972277.8</td>\n",
       "      <td>4.898324e+08</td>\n",
       "    </tr>\n",
       "    <tr>\n",
       "      <th>8900</th>\n",
       "      <td>213479867994200</td>\n",
       "      <td>2020</td>\n",
       "      <td>12</td>\n",
       "      <td>24501245.0</td>\n",
       "      <td>14776729.0</td>\n",
       "      <td>8479346.0</td>\n",
       "      <td>605626878.0</td>\n",
       "      <td>546329817.0</td>\n",
       "      <td>5.223694e+08</td>\n",
       "    </tr>\n",
       "    <tr>\n",
       "      <th>8901</th>\n",
       "      <td>213479867994200</td>\n",
       "      <td>2021</td>\n",
       "      <td>1</td>\n",
       "      <td>43874436.0</td>\n",
       "      <td>24501245.0</td>\n",
       "      <td>14776729.0</td>\n",
       "      <td>660801766.0</td>\n",
       "      <td>582924619.8</td>\n",
       "      <td>5.580664e+08</td>\n",
       "    </tr>\n",
       "  </tbody>\n",
       "</table>\n",
       "<p>8902 rows × 9 columns</p>\n",
       "</div>"
      ],
      "text/plain": [
       "              SRC_UID  FLOWS_YEAR  FLOWS_MONTH  IN_FLOWS-s1  IN_FLOWS-s2  \\\n",
       "0           206670688        2010            1   69669121.0   69669121.0   \n",
       "1           206670688        2010            2   69669121.0   69669121.0   \n",
       "2           206670688        2010            3   89408248.0   69669121.0   \n",
       "3           206670688        2010            4   68084125.0   89408248.0   \n",
       "4           206670688        2010            5  104779215.0   68084125.0   \n",
       "...               ...         ...          ...          ...          ...   \n",
       "8897  213479867994200        2020            9    2226192.0    7838181.0   \n",
       "8898  213479867994200        2020           10    8479346.0    2226192.0   \n",
       "8899  213479867994200        2020           11   14776729.0    8479346.0   \n",
       "8900  213479867994200        2020           12   24501245.0   14776729.0   \n",
       "8901  213479867994200        2021            1   43874436.0   24501245.0   \n",
       "\n",
       "      IN_FLOWS-s3       AUM-r2       AUM-r5        AUM-r7  \n",
       "0      69669121.0  713840440.5  654958566.2  6.137747e+08  \n",
       "1      69669121.0  713840440.5  654958566.2  6.137747e+08  \n",
       "2      69669121.0  673792629.5  654958566.2  6.137747e+08  \n",
       "3      69669121.0  634908810.0  654958566.2  6.137747e+08  \n",
       "4      89408248.0  610520193.5  654958566.2  6.137747e+08  \n",
       "...           ...          ...          ...           ...  \n",
       "8897   14258055.0  499453583.0  466825279.2  4.407168e+08  \n",
       "8898    7838181.0  509903678.0  489066372.0  4.679802e+08  \n",
       "8899    2226192.0  547350187.0  516972277.8  4.898324e+08  \n",
       "8900    8479346.0  605626878.0  546329817.0  5.223694e+08  \n",
       "8901   14776729.0  660801766.0  582924619.8  5.580664e+08  \n",
       "\n",
       "[8902 rows x 9 columns]"
      ]
     },
     "execution_count": 7,
     "metadata": {},
     "output_type": "execute_result"
    }
   ],
   "source": [
    "new_features = ['SRC_UID','FLOWS_YEAR','FLOWS_MONTH']\n",
    "new_features =new_features + [x for x in test_transformed_pipeline.columns if 's' in x or 'r' in x or 'e' in x or 'x' in x  ]\n",
    "test_transformed_pipeline[new_features]"
   ]
  },
  {
   "cell_type": "markdown",
   "metadata": {},
   "source": [
    "# Capstone Project\n",
    "## Modelling\n",
    "\n",
    "The modelling will implement classification models from Sklearn and evaluate the prediction. Prior to implement model, I will decide the metrics I will used to evaluate the modelling process.\n",
    "\n",
    "As in the previous Notebooks I prepared the dataset and created a personal transformer I will use it in the modelling pipeline with some other transformation such as “power transformation”.\n",
    "\n",
    "The modelling notebook will implement:\n",
    "1.\tDecide metrics\n",
    "2.\tPrepare configuration file for the personal transformer\n",
    "3.\tSplit the dataset\n",
    "a.\tBeginning -> 2019 training set\n",
    "b.\t2020 -> validation set\n",
    "c.\t2021 -> test set\n",
    "4.\tCompute a baseline\n",
    "a.\tBaseline will be done on a minimal dataset transformation\n",
    "5.\tCreate pipelines\n",
    "a.\tPre-processing steps\n",
    "i.\tScaling\n",
    "ii.\tAdding PolynomialFeatures\n",
    "iii.\tOneHotEncoding\n",
    "iv.\t36tEncoding\n",
    "b.\tCustom transformation\n",
    "c.\tClassifiers\n",
    "6.\tRun the modelling step with pipelines\n",
    "7.\tSelect the best estimator\n",
    "8.\tFine tune the best estimator\n",
    "9.\tRun the fine tunned estimator on the test set\n",
    "10.\tPresent and discuss the results\n",
    "\n",
    "Everything will be implemented mostly with scikit learn (https://scikit-learn.org/stable/user_guide.html)\n",
    "### Metrics\n",
    "I will work with 6 classification problems metrics to evaluate the performance of the models. Metrics are: Accuracy score, confusion matrix (3x3), Precision, Recall, F1 score and ROC Curve.\n",
    "1.\thttps://towardsdatascience.com/a-practical-guide-to-seven-essential-performance-metrics-for-classification-using-scikit-learn-2de0e0a8a040\n",
    "2.\thttps://towardsdatascience.com/6-useful-metrics-to-evaluate-binary-classification-models-55fd1fed6a20\n",
    "\n",
    "#### ROC Curve\n",
    "The ROC Curve will shows the tru positive rate against the false positive. The perfect classification represented by (0,1) will shows how the model how the model classify positives without missclassifying negative as positive.\n",
    "\n",
    "For this metrics I installed <i>yellowbrick</i> (https://www.scikit-yb.org/en/latest/) which has a ready to use method for multiclass ROC AUC plots that is very easy.\n",
    "\n",
    "- https://medium.com/swlh/how-to-create-an-auc-roc-plot-for-a-multiclass-model-9e13838dd3de#:~:text=For%20multiclass%20problems%2C%20ROC%20curves,calculated%20for%20each%20class%20individually.\n",
    "- https://medium.com/analytics-vidhya/understanding-roc-and-auc-metrics-in-classification-tasks-e5e7594cd6b\n",
    "\n",
    "### Configuration files for the custom transformer\n",
    "I will prepare 4 configuration files. The 1st one will be a minimal file to evaluate a simple baseline. It will shift the net flows for 1, 2 and 3 periods.\n",
    "\n",
    "The other configuration files will be more complicated. 2 will be based on the analysis and recommendation from the EDA Notebooks and the last one will a massive choice of features.\n",
    "\n",
    "### Split the dataset\n",
    "I decided to split my dataset in a training set [< 2020], a validation set [=2020] and a test set [=2021]. I will verify the balance of the target data after splitting the dataset.\n",
    "\n",
    "### Pipelines\n",
    "In the pipelines I will add pre-processing step, optional steps (as we did in the course) and transformation. I will use a grid search to evaluate multiple configurations of parameters.\n",
    "1.\thttps://medium.com/vickdata/a-simple-guide-to-scikit-learn-pipelines-4ac0d974bdcf\n",
    "\n",
    "#### Models\n",
    "•\tLogistic Regression (which is a linear model for classification problems).\n",
    "•\tSupport Vector Machine: (https://scikit-learn.org/stable/modules/svm.html)\n",
    "•\tNearest Neighbours Classification: (https://scikit-learn.org/stable/modules/neighbors.html#nearest-neighbors-classification)\n",
    "•\tDecision Trees Classification: (https://scikit-learn.org/stable/modules/tree.html#classification)\n",
    "•\tNeural Network Models (supervised) Classification: (https://scikit-learn.org/stable/modules/neural_networks_supervised.html#classification)\n",
    "\n",
    "A meta estimator which fits several decision trees:\n",
    "•\tRandom Forest Classifier: (https://scikit-learn.org/stable/modules/generated/sklearn.ensemble.RandomForestClassifier.html?highlight=random%20forest#sklearn.ensemble.RandomForestClassifier)\n",
    "\n",
    "I will run a grid search over multiple classifiers to elicit the best estimator.\n",
    "https://stackoverflow.com/questions/23045318/scikit-grid-search-over-multiple-classifiers\n",
    "### Best estimator, fine tuning, and test set evaluation\n",
    "At the end of the pipeline process, I will decide the best estimator, fine tune some parameters if needed and evaluate it against un unknown dataset which is the 2021 entry values (almost all Q1 data).\n",
    "\n",
    "\n",
    "\n"
   ]
  },
  {
   "cell_type": "markdown",
   "metadata": {},
   "source": [
    "# Split my dataset\n",
    "I decided to split my dataset as following:\n",
    "\n",
    "- training set (all data before 2020)\n",
    "- validation set (all data of 2020)\n",
    "- test set (all data of 2021)\n",
    "\n",
    "## Check if split is well distributed\n",
    "I will check and plot if the data after split are well distributed within the target value.\n",
    "\n",
    "I define 3 filters which I will apply to the full dataset. Then I will create 3 set and evaluate for each of them the ratio of:\n",
    "- in flows\n",
    "- no flows\n",
    "- out flows"
   ]
  },
  {
   "cell_type": "code",
   "execution_count": 8,
   "metadata": {},
   "outputs": [],
   "source": [
    "split_df = df.copy()"
   ]
  },
  {
   "cell_type": "code",
   "execution_count": 9,
   "metadata": {},
   "outputs": [],
   "source": [
    "f_training = split_df.FLOWS_YEAR < 2019\n",
    "f_validation_1 = split_df.FLOWS_YEAR == 2020\n",
    "f_validation_2 = split_df.FLOWS_YEAR == 2019\n",
    "f_test = split_df.FLOWS_YEAR == 2021"
   ]
  },
  {
   "cell_type": "code",
   "execution_count": 10,
   "metadata": {},
   "outputs": [
    {
     "data": {
      "image/png": "[encoded data removed]",
      "text/plain": [
       "<Figure size 1080x648 with 1 Axes>"
      ]
     },
     "metadata": {
      "needs_background": "light"
     },
     "output_type": "display_data"
    }
   ],
   "source": [
    "target_distrib = {}\n",
    "# distribution of test set\n",
    "(unique, counts) = np.unique(split_df.loc[f_test,'TARGET'], return_counts=True)\n",
    "frequencies = np.asarray((unique, counts)).T\n",
    "target_distrib['test']=frequencies\n",
    "# distribution of validation set\n",
    "(unique, counts) = np.unique(split_df.loc[((f_validation_1) | (f_validation_2)),'TARGET'], return_counts=True)\n",
    "frequencies = np.asarray((unique, counts)).T\n",
    "target_distrib['validation']=frequencies\n",
    "# distribution of training set\n",
    "(unique, counts) = np.unique(split_df.loc[f_training,'TARGET'], return_counts=True)\n",
    "frequencies = np.asarray((unique, counts)).T\n",
    "target_distrib['training']=frequencies\n",
    "\n",
    "\n",
    "\n",
    "\n",
    "labels = ['training', 'validation', 'test']\n",
    "out_flows = np.log([target_distrib['training'][0][1], target_distrib['validation'][0][1], target_distrib['test'][0][1]])\n",
    "no_flows = np.log([target_distrib['training'][1][1], target_distrib['validation'][1][1], target_distrib['test'][1][1]]) \n",
    "in_flows =np.log([target_distrib['training'][2][1], target_distrib['validation'][2][1], target_distrib['test'][2][1]])\n",
    "\n",
    "x = np.arange(len(labels))  # the label locations\n",
    "width =0.35 # the width of the bars\n",
    "\n",
    "fig, ax = plt.subplots(figsize=(15,9))\n",
    "\n",
    "rects1 = ax.bar(x - width/4, out_flows, width, label='out flows')\n",
    "rects3 = ax.bar(x + width/3, in_flows, width, label='in flows')\n",
    "rects2 = ax.bar(x + width/1, no_flows, width, label='no flows')\n",
    "\n",
    "\n",
    "# Add some text for labels, title and custom x-axis tick labels, etc.\n",
    "ax.set_ylabel('Distribution of TARGET after split')\n",
    "ax.set_title('Target grouped by set')\n",
    "ax.set_xticks(x)\n",
    "ax.set_xticklabels(labels)\n",
    "ax.legend()\n",
    "\n",
    "\n",
    "\n",
    "fig.tight_layout()\n",
    "\n",
    "plt.show()"
   ]
  },
  {
   "cell_type": "code",
   "execution_count": 11,
   "metadata": {},
   "outputs": [],
   "source": [
    "# define a function which will be called to split the dataset\n",
    "def split_dataset(df):\n",
    "    split_df = df.copy()\n",
    "    f_training = split_df.FLOWS_YEAR < 2019\n",
    "    f_validation = (split_df.FLOWS_YEAR == 2019) | ((split_df.FLOWS_YEAR == 2020) & (split_df.FLOWS_MONTH <=4) ) \n",
    "    f_test = (split_df.FLOWS_YEAR == 2021) | ((split_df.FLOWS_YEAR == 2020) & (split_df.FLOWS_MONTH >4) )\n",
    "    f_trainval = (split_df.FLOWS_YEAR < 2020) & ((split_df.FLOWS_YEAR == 2020) & (split_df.FLOWS_MONTH <=4) )\n",
    "    \n",
    "    X_train = split_df.loc[f_training,:].drop('TARGET', axis=1)\n",
    "    y_train = split_df.loc[f_training,'TARGET']\n",
    "    \n",
    "    X_validation = split_df.loc[f_validation,:].drop('TARGET', axis=1)\n",
    "    y_validation = split_df.loc[f_validation,'TARGET']\n",
    "    \n",
    "    X_test = split_df.loc[f_test,:].drop('TARGET', axis=1)\n",
    "    y_test = split_df.loc[f_test,'TARGET']\n",
    "    \n",
    "    X_trainval = split_df.loc[f_trainval,:].drop('TARGET', axis=1)\n",
    "    y_trainval = split_df.loc[f_trainval,'TARGET']\n",
    "    '''\n",
    "    X_train, X_validation, y_train, y_validation = train_test_split(\n",
    "        X_trainval, y_trainval, test_size=0.33, random_state=42, stratify=y_trainval)    \n",
    "    '''\n",
    "    logging.info('dataset split called')\n",
    "    return X_train, y_train, X_validation, y_validation, X_test, y_test, X_trainval, y_trainval\n",
    "    "
   ]
  },
  {
   "cell_type": "markdown",
   "metadata": {},
   "source": [
    "## Split Observation\n",
    "The split gives balanced set related to the target variables."
   ]
  },
  {
   "cell_type": "markdown",
   "metadata": {},
   "source": [
    "# Metrics report\n",
    "I wite a simple function to display modeling report. The function receive the target value fot the validation set and the predicted value (y_validation, y_pred) and displays results."
   ]
  },
  {
   "cell_type": "code",
   "execution_count": 12,
   "metadata": {},
   "outputs": [],
   "source": [
    "def metrics_report(y_validation, y_pred):\n",
    "    # confusion matrix\n",
    "    confusion = confusion_matrix(y_validation, y_pred)\n",
    "    print('Confusion Matrix\\n')\n",
    "    print(confusion)\n",
    "    logging.info('Confusion Matrix \\n {}'.format(confusion))\n",
    "\n",
    "    # accuracy_score, precision_score, recall_score, f1_score\n",
    "    print('\\nAccuracy: {:.2f}\\n'.format(accuracy_score(y_validation, y_pred)))\n",
    "    logging.info('\\nAccuracy: {:.2f}\\n'.format(accuracy_score(y_validation, y_pred)))\n",
    "\n",
    "    print('Micro Precision: {:.2f}'.format(precision_score(y_validation, y_pred, average='micro')))\n",
    "    print('Micro Recall: {:.2f}'.format(recall_score(y_validation, y_pred, average='micro')))\n",
    "    print('Micro F1-score: {:.2f}\\n'.format(f1_score(y_validation, y_pred, average='micro')))\n",
    "\n",
    "    print('Macro Precision: {:.2f}'.format(precision_score(y_validation, y_pred, average='macro')))\n",
    "    print('Macro Recall: {:.2f}'.format(recall_score(y_validation, y_pred, average='macro')))\n",
    "    print('Macro F1-score: {:.2f}\\n'.format(f1_score(y_validation, y_pred, average='macro')))\n",
    "\n",
    "    print('Weighted Precision: {:.2f}'.format(precision_score(y_validation, y_pred, average='weighted')))\n",
    "    print('Weighted Recall: {:.2f}'.format(recall_score(y_validation, y_pred, average='weighted')))\n",
    "    print('Weighted F1-score: {:.2f}'.format(f1_score(y_validation, y_pred, average='weighted')))\n",
    "\n",
    "\n",
    "    print('\\nClassification Report\\n')\n",
    "    print(classification_report(y_validation, y_pred, target_names=['Out Flows', 'NeutralFlows', 'In Flows']))\n",
    "    \n",
    "    return accuracy_score(y_validation, y_pred), confusion"
   ]
  },
  {
   "cell_type": "code",
   "execution_count": 13,
   "metadata": {},
   "outputs": [],
   "source": [
    "def plot_ROC_curve(model, xtrain, ytrain, xtest, ytest):\n",
    "\n",
    "    # Creating visualization with the readable labels\n",
    "    visualizer = ROCAUC(model, encoder={-1: 'Out flows', \n",
    "                                        0: 'no flows / neutral', \n",
    "                                        1: 'in flows'})\n",
    "                                        \n",
    "    # Fitting to the training data first then scoring with the test data                                    \n",
    "    visualizer.fit(xtrain, ytrain)\n",
    "    visualizer.score(xtest, ytest)\n",
    "    visualizer.show()\n",
    "    \n",
    "    return visualizer"
   ]
  },
  {
   "cell_type": "markdown",
   "metadata": {},
   "source": [
    "# Modelling Concept\n",
    "In the previous Notebooks I explored the data, make a review of the time series and build a CustomTransformer which help to adopt rolling window and other shifting method to transform the TS to a supervised learning dataset.\n",
    "\n",
    "<b>Time to apply these methods to the modelling steps of my project !</b>\n",
    "\n",
    "The concept is to extract features from the full dataset and apply Custom Transormation to get a subset of features. This subset will be arranged in a area for the traning/validation process and finally the test set (data that has not been involded in the training and evaluation process).\n",
    "\n",
    "The the modeling can be applied with different steps such as data pre-processing, features selections, features engineering (power transformation), dimensionality reduction and other method. I will mostly work with pipelines and grid search method."
   ]
  },
  {
   "attachments": {
    "image-2.png": {
     "image/png": "[encoded data removed]"
    }
   },
   "cell_type": "markdown",
   "metadata": {},
   "source": [
    "![image-2.png](attachment:image-2.png)"
   ]
  },
  {
   "cell_type": "markdown",
   "metadata": {},
   "source": [
    "# Baseline\n",
    "I will compute a baseline by extracting the net flows and apply a custom transformation to shift the feature over 3 periods (m-3, m-2, m-1). In the baseline I will add the nav/benchmark performance slope and nav/bench volatility slope.\n",
    "As a standard I will always add the <i>flows_yeays</i> and <i>flows_month</i> in the dataset."
   ]
  },
  {
   "cell_type": "code",
   "execution_count": 14,
   "metadata": {},
   "outputs": [
    {
     "data": {
      "text/html": [
       "<div>\n",
       "<style scoped>\n",
       "    .dataframe tbody tr th:only-of-type {\n",
       "        vertical-align: middle;\n",
       "    }\n",
       "\n",
       "    .dataframe tbody tr th {\n",
       "        vertical-align: top;\n",
       "    }\n",
       "\n",
       "    .dataframe thead th {\n",
       "        text-align: right;\n",
       "    }\n",
       "</style>\n",
       "<table border=\"1\" class=\"dataframe\">\n",
       "  <thead>\n",
       "    <tr style=\"text-align: right;\">\n",
       "      <th></th>\n",
       "      <th>SRC_UID</th>\n",
       "      <th>FLOWS_YEAR</th>\n",
       "      <th>FLOWS_MONTH</th>\n",
       "      <th>BENCH_PERF_SLOPE</th>\n",
       "      <th>BENCH_VOL_SLOPE</th>\n",
       "      <th>NAV_PERF_SLOPE</th>\n",
       "      <th>NAV_VOL_SLOPE</th>\n",
       "      <th>AUM</th>\n",
       "      <th>TARGET</th>\n",
       "    </tr>\n",
       "  </thead>\n",
       "  <tbody>\n",
       "    <tr>\n",
       "      <th>0</th>\n",
       "      <td>206670688</td>\n",
       "      <td>2010</td>\n",
       "      <td>1</td>\n",
       "      <td>-0.002294</td>\n",
       "      <td>-0.000033</td>\n",
       "      <td>-0.001929</td>\n",
       "      <td>-0.000154</td>\n",
       "      <td>706167185</td>\n",
       "      <td>-1</td>\n",
       "    </tr>\n",
       "    <tr>\n",
       "      <th>1</th>\n",
       "      <td>206670688</td>\n",
       "      <td>2010</td>\n",
       "      <td>2</td>\n",
       "      <td>-0.001882</td>\n",
       "      <td>-0.000032</td>\n",
       "      <td>-0.001646</td>\n",
       "      <td>-0.000127</td>\n",
       "      <td>721513696</td>\n",
       "      <td>1</td>\n",
       "    </tr>\n",
       "    <tr>\n",
       "      <th>2</th>\n",
       "      <td>206670688</td>\n",
       "      <td>2010</td>\n",
       "      <td>3</td>\n",
       "      <td>-0.001614</td>\n",
       "      <td>-0.000034</td>\n",
       "      <td>-0.001485</td>\n",
       "      <td>-0.000106</td>\n",
       "      <td>626071563</td>\n",
       "      <td>-1</td>\n",
       "    </tr>\n",
       "    <tr>\n",
       "      <th>3</th>\n",
       "      <td>206670688</td>\n",
       "      <td>2010</td>\n",
       "      <td>4</td>\n",
       "      <td>-0.001358</td>\n",
       "      <td>-0.000022</td>\n",
       "      <td>-0.001052</td>\n",
       "      <td>-0.000082</td>\n",
       "      <td>643746057</td>\n",
       "      <td>1</td>\n",
       "    </tr>\n",
       "    <tr>\n",
       "      <th>4</th>\n",
       "      <td>206670688</td>\n",
       "      <td>2010</td>\n",
       "      <td>5</td>\n",
       "      <td>-0.001117</td>\n",
       "      <td>-0.000016</td>\n",
       "      <td>-0.000743</td>\n",
       "      <td>-0.000062</td>\n",
       "      <td>577294330</td>\n",
       "      <td>-1</td>\n",
       "    </tr>\n",
       "  </tbody>\n",
       "</table>\n",
       "</div>"
      ],
      "text/plain": [
       "     SRC_UID  FLOWS_YEAR  FLOWS_MONTH  BENCH_PERF_SLOPE  BENCH_VOL_SLOPE  \\\n",
       "0  206670688        2010            1         -0.002294        -0.000033   \n",
       "1  206670688        2010            2         -0.001882        -0.000032   \n",
       "2  206670688        2010            3         -0.001614        -0.000034   \n",
       "3  206670688        2010            4         -0.001358        -0.000022   \n",
       "4  206670688        2010            5         -0.001117        -0.000016   \n",
       "\n",
       "   NAV_PERF_SLOPE  NAV_VOL_SLOPE        AUM  TARGET  \n",
       "0       -0.001929      -0.000154  706167185      -1  \n",
       "1       -0.001646      -0.000127  721513696       1  \n",
       "2       -0.001485      -0.000106  626071563      -1  \n",
       "3       -0.001052      -0.000082  643746057       1  \n",
       "4       -0.000743      -0.000062  577294330      -1  "
      ]
     },
     "execution_count": 14,
     "metadata": {},
     "output_type": "execute_result"
    }
   ],
   "source": [
    "# create a temporary dataset for the baseline modelling\n",
    "# I make a copy of specif columns from the full dataset to a baseline dataset\n",
    "baseline_features = ['SRC_UID','FLOWS_YEAR','FLOWS_MONTH','BENCH_PERF_SLOPE',\n",
    "       'BENCH_VOL_SLOPE', 'NAV_PERF_SLOPE', 'NAV_VOL_SLOPE','AUM', 'TARGET']\n",
    "baseline_df = df[baseline_features].copy()\n",
    "baseline_df.head()"
   ]
  },
  {
   "cell_type": "code",
   "execution_count": 15,
   "metadata": {},
   "outputs": [],
   "source": [
    "# define the X vector and y target for the new temprary dataset\n",
    "X = baseline_df.drop('TARGET', axis=1)\n",
    "y = baseline_df.TARGET"
   ]
  },
  {
   "cell_type": "code",
   "execution_count": 16,
   "metadata": {},
   "outputs": [
    {
     "data": {
      "text/html": [
       "<div>\n",
       "<style scoped>\n",
       "    .dataframe tbody tr th:only-of-type {\n",
       "        vertical-align: middle;\n",
       "    }\n",
       "\n",
       "    .dataframe tbody tr th {\n",
       "        vertical-align: top;\n",
       "    }\n",
       "\n",
       "    .dataframe thead th {\n",
       "        text-align: right;\n",
       "    }\n",
       "</style>\n",
       "<table border=\"1\" class=\"dataframe\">\n",
       "  <thead>\n",
       "    <tr style=\"text-align: right;\">\n",
       "      <th></th>\n",
       "      <th>SRC_UID</th>\n",
       "      <th>FLOWS_YEAR</th>\n",
       "      <th>FLOWS_MONTH</th>\n",
       "      <th>BENCH_PERF_SLOPE-s1</th>\n",
       "      <th>BENCH_VOL_SLOPE-s1</th>\n",
       "      <th>NAV_PERF_SLOPE-s1</th>\n",
       "      <th>NAV_VOL_SLOPE-s1</th>\n",
       "      <th>AUM-s1</th>\n",
       "      <th>TARGET</th>\n",
       "    </tr>\n",
       "  </thead>\n",
       "  <tbody>\n",
       "    <tr>\n",
       "      <th>1</th>\n",
       "      <td>206670688</td>\n",
       "      <td>2010</td>\n",
       "      <td>2</td>\n",
       "      <td>-0.002294</td>\n",
       "      <td>-0.000033</td>\n",
       "      <td>-0.001929</td>\n",
       "      <td>-0.000154</td>\n",
       "      <td>706167185.0</td>\n",
       "      <td>1</td>\n",
       "    </tr>\n",
       "    <tr>\n",
       "      <th>2</th>\n",
       "      <td>206670688</td>\n",
       "      <td>2010</td>\n",
       "      <td>3</td>\n",
       "      <td>-0.001882</td>\n",
       "      <td>-0.000032</td>\n",
       "      <td>-0.001646</td>\n",
       "      <td>-0.000127</td>\n",
       "      <td>721513696.0</td>\n",
       "      <td>-1</td>\n",
       "    </tr>\n",
       "    <tr>\n",
       "      <th>3</th>\n",
       "      <td>206670688</td>\n",
       "      <td>2010</td>\n",
       "      <td>4</td>\n",
       "      <td>-0.001614</td>\n",
       "      <td>-0.000034</td>\n",
       "      <td>-0.001485</td>\n",
       "      <td>-0.000106</td>\n",
       "      <td>626071563.0</td>\n",
       "      <td>1</td>\n",
       "    </tr>\n",
       "    <tr>\n",
       "      <th>4</th>\n",
       "      <td>206670688</td>\n",
       "      <td>2010</td>\n",
       "      <td>5</td>\n",
       "      <td>-0.001358</td>\n",
       "      <td>-0.000022</td>\n",
       "      <td>-0.001052</td>\n",
       "      <td>-0.000082</td>\n",
       "      <td>643746057.0</td>\n",
       "      <td>-1</td>\n",
       "    </tr>\n",
       "    <tr>\n",
       "      <th>5</th>\n",
       "      <td>206670688</td>\n",
       "      <td>2010</td>\n",
       "      <td>6</td>\n",
       "      <td>-0.001117</td>\n",
       "      <td>-0.000016</td>\n",
       "      <td>-0.000743</td>\n",
       "      <td>-0.000062</td>\n",
       "      <td>577294330.0</td>\n",
       "      <td>-1</td>\n",
       "    </tr>\n",
       "    <tr>\n",
       "      <th>...</th>\n",
       "      <td>...</td>\n",
       "      <td>...</td>\n",
       "      <td>...</td>\n",
       "      <td>...</td>\n",
       "      <td>...</td>\n",
       "      <td>...</td>\n",
       "      <td>...</td>\n",
       "      <td>...</td>\n",
       "      <td>...</td>\n",
       "    </tr>\n",
       "    <tr>\n",
       "      <th>8897</th>\n",
       "      <td>213479867994200</td>\n",
       "      <td>2020</td>\n",
       "      <td>9</td>\n",
       "      <td>0.002128</td>\n",
       "      <td>0.000035</td>\n",
       "      <td>-0.008795</td>\n",
       "      <td>-0.015355</td>\n",
       "      <td>500587973.0</td>\n",
       "      <td>1</td>\n",
       "    </tr>\n",
       "    <tr>\n",
       "      <th>8898</th>\n",
       "      <td>213479867994200</td>\n",
       "      <td>2020</td>\n",
       "      <td>10</td>\n",
       "      <td>0.002099</td>\n",
       "      <td>0.000035</td>\n",
       "      <td>-0.017896</td>\n",
       "      <td>-0.001291</td>\n",
       "      <td>498319193.0</td>\n",
       "      <td>1</td>\n",
       "    </tr>\n",
       "    <tr>\n",
       "      <th>8899</th>\n",
       "      <td>213479867994200</td>\n",
       "      <td>2020</td>\n",
       "      <td>11</td>\n",
       "      <td>0.002086</td>\n",
       "      <td>0.000063</td>\n",
       "      <td>-0.015975</td>\n",
       "      <td>-0.012080</td>\n",
       "      <td>521488163.0</td>\n",
       "      <td>1</td>\n",
       "    </tr>\n",
       "    <tr>\n",
       "      <th>8900</th>\n",
       "      <td>213479867994200</td>\n",
       "      <td>2020</td>\n",
       "      <td>12</td>\n",
       "      <td>0.002108</td>\n",
       "      <td>0.000040</td>\n",
       "      <td>-0.011221</td>\n",
       "      <td>-0.003275</td>\n",
       "      <td>573212211.0</td>\n",
       "      <td>1</td>\n",
       "    </tr>\n",
       "    <tr>\n",
       "      <th>8901</th>\n",
       "      <td>213479867994200</td>\n",
       "      <td>2021</td>\n",
       "      <td>1</td>\n",
       "      <td>0.002106</td>\n",
       "      <td>0.000051</td>\n",
       "      <td>-0.018773</td>\n",
       "      <td>-0.005920</td>\n",
       "      <td>638041545.0</td>\n",
       "      <td>1</td>\n",
       "    </tr>\n",
       "  </tbody>\n",
       "</table>\n",
       "<p>8821 rows × 9 columns</p>\n",
       "</div>"
      ],
      "text/plain": [
       "              SRC_UID  FLOWS_YEAR  FLOWS_MONTH  BENCH_PERF_SLOPE-s1  \\\n",
       "1           206670688        2010            2            -0.002294   \n",
       "2           206670688        2010            3            -0.001882   \n",
       "3           206670688        2010            4            -0.001614   \n",
       "4           206670688        2010            5            -0.001358   \n",
       "5           206670688        2010            6            -0.001117   \n",
       "...               ...         ...          ...                  ...   \n",
       "8897  213479867994200        2020            9             0.002128   \n",
       "8898  213479867994200        2020           10             0.002099   \n",
       "8899  213479867994200        2020           11             0.002086   \n",
       "8900  213479867994200        2020           12             0.002108   \n",
       "8901  213479867994200        2021            1             0.002106   \n",
       "\n",
       "      BENCH_VOL_SLOPE-s1  NAV_PERF_SLOPE-s1  NAV_VOL_SLOPE-s1       AUM-s1  \\\n",
       "1              -0.000033          -0.001929         -0.000154  706167185.0   \n",
       "2              -0.000032          -0.001646         -0.000127  721513696.0   \n",
       "3              -0.000034          -0.001485         -0.000106  626071563.0   \n",
       "4              -0.000022          -0.001052         -0.000082  643746057.0   \n",
       "5              -0.000016          -0.000743         -0.000062  577294330.0   \n",
       "...                  ...                ...               ...          ...   \n",
       "8897            0.000035          -0.008795         -0.015355  500587973.0   \n",
       "8898            0.000035          -0.017896         -0.001291  498319193.0   \n",
       "8899            0.000063          -0.015975         -0.012080  521488163.0   \n",
       "8900            0.000040          -0.011221         -0.003275  573212211.0   \n",
       "8901            0.000051          -0.018773         -0.005920  638041545.0   \n",
       "\n",
       "      TARGET  \n",
       "1          1  \n",
       "2         -1  \n",
       "3          1  \n",
       "4         -1  \n",
       "5         -1  \n",
       "...      ...  \n",
       "8897       1  \n",
       "8898       1  \n",
       "8899       1  \n",
       "8900       1  \n",
       "8901       1  \n",
       "\n",
       "[8821 rows x 9 columns]"
      ]
     },
     "execution_count": 16,
     "metadata": {},
     "output_type": "execute_result"
    }
   ],
   "source": [
    "# define the configuration dictionary for the baseline\n",
    "# I will only shift the NET FLOWS for 3 periods\n",
    "# Remove the NET_FLOWS columns\n",
    "trans = []\n",
    "dico= {}\n",
    "dico['cols'] = ['BENCH_PERF_SLOPE',\n",
    "       'BENCH_VOL_SLOPE', 'NAV_PERF_SLOPE', 'NAV_VOL_SLOPE','AUM']\n",
    "dico['method'] = 'shift'\n",
    "dico['period'] = [1]\n",
    "dico['original'] = False\n",
    "trans.append(dico)\n",
    "\n",
    "# create the steps and the transformation Pipeline\n",
    "steps = [('ts_2_supervised',myt.TS2Supervised(transformation=trans, breakdown=brk\n",
    "                                          , verbose=False, interpolation=False))]\n",
    "# create\n",
    "baseline_pipeline = Pipeline(steps)\n",
    "\n",
    "baseline_transformed_pipeline = baseline_pipeline.fit_transform(X, y)\n",
    "\n",
    "\n",
    "baseline_df = baseline_transformed_pipeline.merge(baseline_df.TARGET, left_index=True, right_index=True).copy()\n",
    "baseline_df.dropna(inplace=True)\n",
    "baseline_df"
   ]
  },
  {
   "cell_type": "code",
   "execution_count": 17,
   "metadata": {},
   "outputs": [
    {
     "data": {
      "text/plain": [
       "((7113, 8), (7113,), (1152, 8), (1152,), (556, 8), (556,))"
      ]
     },
     "execution_count": 17,
     "metadata": {},
     "output_type": "execute_result"
    }
   ],
   "source": [
    "X_train, y_train, X_validation, y_validation, X_test, y_test, _, _ = split_dataset(baseline_df)\n",
    "X_train.shape, y_train.shape, X_validation.shape, y_validation.shape, X_test.shape, y_test.shape"
   ]
  },
  {
   "cell_type": "code",
   "execution_count": 18,
   "metadata": {},
   "outputs": [
    {
     "data": {
      "text/plain": [
       "((array([-1,  0,  1]), array([2549, 1984, 2580])),\n",
       " (array([-1,  0,  1]), array([399, 400, 353])),\n",
       " (array([-1,  0,  1]), array([184, 198, 174])))"
      ]
     },
     "execution_count": 18,
     "metadata": {},
     "output_type": "execute_result"
    }
   ],
   "source": [
    "np.unique(y_train, return_counts=True), np.unique(y_validation, return_counts=True), np.unique(y_test, return_counts=True)"
   ]
  },
  {
   "cell_type": "markdown",
   "metadata": {},
   "source": [
    "###### Create the pipelines with simple scaling and classifiers"
   ]
  },
  {
   "cell_type": "code",
   "execution_count": 146,
   "metadata": {},
   "outputs": [],
   "source": [
    "# create a pipeline for the baseline\n",
    "pipelines = []\n",
    "pipelines.append(('LR', Pipeline([('Scaler', StandardScaler()),('Power', PowerTransformer()),('LR',LogisticRegression(solver='liblinear', random_state=42))])))\n",
    "# pipelines.append(('SVM', Pipeline([('Scaler', StandardScaler()),('Power', PowerTransformer()),('SVC',SVC(gamma='auto', random_state=42))])))\n",
    "# pipelines.append(('KNN', Pipeline([('Scaler', StandardScaler()),('Power', PowerTransformer()),('KNN',KNeighborsClassifier())])))\n",
    "pipelines.append(('TREE', Pipeline([('Scaler', StandardScaler()),('Power', PowerTransformer()),('TREE',DecisionTreeClassifier(random_state=42))])))\n",
    "# pipelines.append(('FOREST', Pipeline([('Scaler', StandardScaler()),('Power', PowerTransformer()),('FOREST',RandomForestClassifier(random_state=42))])))\n",
    "# pipelines.append(('MLP', Pipeline([('Scaler', StandardScaler()),('Power', PowerTransformer()),('MLP',MLPClassifier(solver='lbfgs'))])))"
   ]
  },
  {
   "cell_type": "code",
   "execution_count": 20,
   "metadata": {},
   "outputs": [
    {
     "name": "stderr",
     "output_type": "stream",
     "text": [
      "100%|██████████| 5/5 [00:33<00:00,  6.64s/it]"
     ]
    },
    {
     "name": "stdout",
     "output_type": "stream",
     "text": [
      "['LR: 0.427389 (0.017156)', 'SVM: 0.430760 (0.015104)', 'KNN: 0.435820 (0.010008)', 'TREE: 0.419236 (0.017887)', 'FOREST: 0.452271 (0.022579)']\n"
     ]
    },
    {
     "name": "stderr",
     "output_type": "stream",
     "text": [
      "\n"
     ]
    }
   ],
   "source": [
    "def run_pipelines(X_train, y_train):\n",
    "    # Test options and evaluation metric\n",
    "    num_folds = 10\n",
    "    seed = 7\n",
    "    scoring = 'accuracy'\n",
    "    \n",
    "    \n",
    "    X_train=X_train.astype('float64')\n",
    "    y_train=y_train.astype('float64')\n",
    "\n",
    "    results = []\n",
    "    names = []\n",
    "    msgs = []\n",
    "\n",
    "    with tqdm.tqdm(total=len(pipelines)) as pbar:\n",
    "        for name, model in pipelines:\n",
    "            try:\n",
    "                kfold = KFold(n_splits=num_folds, random_state=seed, shuffle=True)\n",
    "                cv_results = cross_val_score(model, X_train, y_train, cv=kfold, scoring=scoring)\n",
    "                results.append(cv_results)\n",
    "                names.append(name)\n",
    "                msg = \"%s: %f (%f)\" % (name, cv_results.mean(), cv_results.std())\n",
    "                msgs.append(msg)\n",
    "                logging.info(msg)\n",
    "            except:\n",
    "                logging.warning('UNABLE TO RUN THE CROSS VAL')\n",
    "            pbar.update(1)\n",
    "            #print(msg)\n",
    "\n",
    "    print(msgs)\n",
    "    return results, names\n",
    "    \n",
    "results, names = run_pipelines( X_train, y_train)"
   ]
  },
  {
   "cell_type": "code",
   "execution_count": 21,
   "metadata": {},
   "outputs": [
    {
     "data": {
      "image/png": "[encoded data removed]",
      "text/plain": [
       "<Figure size 1080x504 with 1 Axes>"
      ]
     },
     "metadata": {
      "needs_background": "light"
     },
     "output_type": "display_data"
    }
   ],
   "source": [
    "# Compare Algorithms\n",
    "fig = plt.figure(figsize=(15,7))\n",
    "fig.suptitle('Baseline Algorithm Comparison')\n",
    "ax = fig.add_subplot(111)\n",
    "plt.boxplot(results)\n",
    "ax.set_xticklabels(names)\n",
    "plt.show()"
   ]
  },
  {
   "cell_type": "markdown",
   "metadata": {},
   "source": [
    "## Baseline observations\n",
    "Logistic regression, Random Forest and Support Vector Machine give the best baseline results. I will keep all models for next step of modelling exploration because no one is completely out of the range of the result set."
   ]
  },
  {
   "cell_type": "markdown",
   "metadata": {},
   "source": [
    "# Model 01\n",
    "For the 1st model I will work with SelectKBest from sklearn to look for the best features related to the target and build dynamically a transformation dictionary with a <b>rolling</b> method on 3 month (usually a quarter is a good time frame for investors)."
   ]
  },
  {
   "cell_type": "code",
   "execution_count": 22,
   "metadata": {},
   "outputs": [
    {
     "data": {
      "text/html": [
       "<div>\n",
       "<style scoped>\n",
       "    .dataframe tbody tr th:only-of-type {\n",
       "        vertical-align: middle;\n",
       "    }\n",
       "\n",
       "    .dataframe tbody tr th {\n",
       "        vertical-align: top;\n",
       "    }\n",
       "\n",
       "    .dataframe thead th {\n",
       "        text-align: right;\n",
       "    }\n",
       "</style>\n",
       "<table border=\"1\" class=\"dataframe\">\n",
       "  <thead>\n",
       "    <tr style=\"text-align: right;\">\n",
       "      <th></th>\n",
       "      <th>SRC_UID</th>\n",
       "      <th>IS_STRATEGIC</th>\n",
       "      <th>ADMINSTRATION_FEES</th>\n",
       "      <th>MANAGEMENT_FEES</th>\n",
       "      <th>MULTI_MANAGER_STRUCTURE</th>\n",
       "      <th>SOFTCLOSING</th>\n",
       "      <th>CNT_SHARE</th>\n",
       "      <th>QUANTITY</th>\n",
       "      <th>IN_FLOWS</th>\n",
       "      <th>OUT_FLOWS</th>\n",
       "      <th>...</th>\n",
       "      <th>FLOWS_QUARTER</th>\n",
       "      <th>FUND_AGE</th>\n",
       "      <th>BENCH_PERF_SLOPE</th>\n",
       "      <th>BENCH_PERF_SLOPE_ERROR</th>\n",
       "      <th>BENCH_VOL_SLOPE</th>\n",
       "      <th>BENCH_VOL_SLOPE_ERROR</th>\n",
       "      <th>NAV_PERF_SLOPE</th>\n",
       "      <th>NAV_PERF_SLOPE_ERROR</th>\n",
       "      <th>NAV_VOL_SLOPE</th>\n",
       "      <th>NAV_VOL_SLOPE_ERROR</th>\n",
       "    </tr>\n",
       "  </thead>\n",
       "  <tbody>\n",
       "    <tr>\n",
       "      <th>0</th>\n",
       "      <td>206670688</td>\n",
       "      <td>0</td>\n",
       "      <td>0.000277</td>\n",
       "      <td>0.001631</td>\n",
       "      <td>1</td>\n",
       "      <td>0</td>\n",
       "      <td>12</td>\n",
       "      <td>5389079</td>\n",
       "      <td>69669121</td>\n",
       "      <td>-201496427</td>\n",
       "      <td>...</td>\n",
       "      <td>1</td>\n",
       "      <td>14.646575</td>\n",
       "      <td>-0.002294</td>\n",
       "      <td>0.005912</td>\n",
       "      <td>-0.000033</td>\n",
       "      <td>0.000171</td>\n",
       "      <td>-0.001929</td>\n",
       "      <td>0.004775</td>\n",
       "      <td>-0.000154</td>\n",
       "      <td>0.000694</td>\n",
       "    </tr>\n",
       "    <tr>\n",
       "      <th>1</th>\n",
       "      <td>206670688</td>\n",
       "      <td>0</td>\n",
       "      <td>0.000277</td>\n",
       "      <td>0.001631</td>\n",
       "      <td>1</td>\n",
       "      <td>0</td>\n",
       "      <td>12</td>\n",
       "      <td>5504541</td>\n",
       "      <td>89408248</td>\n",
       "      <td>-74310603</td>\n",
       "      <td>...</td>\n",
       "      <td>1</td>\n",
       "      <td>14.723288</td>\n",
       "      <td>-0.001882</td>\n",
       "      <td>0.004867</td>\n",
       "      <td>-0.000032</td>\n",
       "      <td>0.000159</td>\n",
       "      <td>-0.001646</td>\n",
       "      <td>0.003938</td>\n",
       "      <td>-0.000127</td>\n",
       "      <td>0.000652</td>\n",
       "    </tr>\n",
       "    <tr>\n",
       "      <th>2</th>\n",
       "      <td>206670688</td>\n",
       "      <td>0</td>\n",
       "      <td>0.000277</td>\n",
       "      <td>0.001631</td>\n",
       "      <td>1</td>\n",
       "      <td>0</td>\n",
       "      <td>12</td>\n",
       "      <td>4781963</td>\n",
       "      <td>68084125</td>\n",
       "      <td>-163602809</td>\n",
       "      <td>...</td>\n",
       "      <td>1</td>\n",
       "      <td>14.808219</td>\n",
       "      <td>-0.001614</td>\n",
       "      <td>0.004224</td>\n",
       "      <td>-0.000034</td>\n",
       "      <td>0.000128</td>\n",
       "      <td>-0.001485</td>\n",
       "      <td>0.003630</td>\n",
       "      <td>-0.000106</td>\n",
       "      <td>0.000647</td>\n",
       "    </tr>\n",
       "    <tr>\n",
       "      <th>3</th>\n",
       "      <td>206670688</td>\n",
       "      <td>0</td>\n",
       "      <td>0.000277</td>\n",
       "      <td>0.001631</td>\n",
       "      <td>1</td>\n",
       "      <td>0</td>\n",
       "      <td>12</td>\n",
       "      <td>4910848</td>\n",
       "      <td>104779215</td>\n",
       "      <td>-87141120</td>\n",
       "      <td>...</td>\n",
       "      <td>2</td>\n",
       "      <td>14.890411</td>\n",
       "      <td>-0.001358</td>\n",
       "      <td>0.003621</td>\n",
       "      <td>-0.000022</td>\n",
       "      <td>0.000126</td>\n",
       "      <td>-0.001052</td>\n",
       "      <td>0.002517</td>\n",
       "      <td>-0.000082</td>\n",
       "      <td>0.000607</td>\n",
       "    </tr>\n",
       "    <tr>\n",
       "      <th>4</th>\n",
       "      <td>206670688</td>\n",
       "      <td>0</td>\n",
       "      <td>0.000277</td>\n",
       "      <td>0.001631</td>\n",
       "      <td>1</td>\n",
       "      <td>0</td>\n",
       "      <td>12</td>\n",
       "      <td>4408949</td>\n",
       "      <td>65517596</td>\n",
       "      <td>-132116073</td>\n",
       "      <td>...</td>\n",
       "      <td>2</td>\n",
       "      <td>14.975342</td>\n",
       "      <td>-0.001117</td>\n",
       "      <td>0.003113</td>\n",
       "      <td>-0.000016</td>\n",
       "      <td>0.000112</td>\n",
       "      <td>-0.000743</td>\n",
       "      <td>0.001721</td>\n",
       "      <td>-0.000062</td>\n",
       "      <td>0.000610</td>\n",
       "    </tr>\n",
       "    <tr>\n",
       "      <th>5</th>\n",
       "      <td>206670688</td>\n",
       "      <td>0</td>\n",
       "      <td>0.000277</td>\n",
       "      <td>0.001631</td>\n",
       "      <td>1</td>\n",
       "      <td>0</td>\n",
       "      <td>12</td>\n",
       "      <td>3937689</td>\n",
       "      <td>43293193</td>\n",
       "      <td>-105390034</td>\n",
       "      <td>...</td>\n",
       "      <td>2</td>\n",
       "      <td>15.057534</td>\n",
       "      <td>-0.000958</td>\n",
       "      <td>0.002837</td>\n",
       "      <td>-0.000011</td>\n",
       "      <td>0.000133</td>\n",
       "      <td>-0.000540</td>\n",
       "      <td>0.001313</td>\n",
       "      <td>-0.000040</td>\n",
       "      <td>0.000655</td>\n",
       "    </tr>\n",
       "  </tbody>\n",
       "</table>\n",
       "<p>6 rows × 63 columns</p>\n",
       "</div>"
      ],
      "text/plain": [
       "     SRC_UID  IS_STRATEGIC  ADMINSTRATION_FEES  MANAGEMENT_FEES  \\\n",
       "0  206670688             0            0.000277         0.001631   \n",
       "1  206670688             0            0.000277         0.001631   \n",
       "2  206670688             0            0.000277         0.001631   \n",
       "3  206670688             0            0.000277         0.001631   \n",
       "4  206670688             0            0.000277         0.001631   \n",
       "5  206670688             0            0.000277         0.001631   \n",
       "\n",
       "   MULTI_MANAGER_STRUCTURE  SOFTCLOSING  CNT_SHARE  QUANTITY   IN_FLOWS  \\\n",
       "0                        1            0         12   5389079   69669121   \n",
       "1                        1            0         12   5504541   89408248   \n",
       "2                        1            0         12   4781963   68084125   \n",
       "3                        1            0         12   4910848  104779215   \n",
       "4                        1            0         12   4408949   65517596   \n",
       "5                        1            0         12   3937689   43293193   \n",
       "\n",
       "   OUT_FLOWS  ...  FLOWS_QUARTER   FUND_AGE  BENCH_PERF_SLOPE  \\\n",
       "0 -201496427  ...              1  14.646575         -0.002294   \n",
       "1  -74310603  ...              1  14.723288         -0.001882   \n",
       "2 -163602809  ...              1  14.808219         -0.001614   \n",
       "3  -87141120  ...              2  14.890411         -0.001358   \n",
       "4 -132116073  ...              2  14.975342         -0.001117   \n",
       "5 -105390034  ...              2  15.057534         -0.000958   \n",
       "\n",
       "   BENCH_PERF_SLOPE_ERROR  BENCH_VOL_SLOPE  BENCH_VOL_SLOPE_ERROR  \\\n",
       "0                0.005912        -0.000033               0.000171   \n",
       "1                0.004867        -0.000032               0.000159   \n",
       "2                0.004224        -0.000034               0.000128   \n",
       "3                0.003621        -0.000022               0.000126   \n",
       "4                0.003113        -0.000016               0.000112   \n",
       "5                0.002837        -0.000011               0.000133   \n",
       "\n",
       "   NAV_PERF_SLOPE  NAV_PERF_SLOPE_ERROR  NAV_VOL_SLOPE  NAV_VOL_SLOPE_ERROR  \n",
       "0       -0.001929              0.004775      -0.000154             0.000694  \n",
       "1       -0.001646              0.003938      -0.000127             0.000652  \n",
       "2       -0.001485              0.003630      -0.000106             0.000647  \n",
       "3       -0.001052              0.002517      -0.000082             0.000607  \n",
       "4       -0.000743              0.001721      -0.000062             0.000610  \n",
       "5       -0.000540              0.001313      -0.000040             0.000655  \n",
       "\n",
       "[6 rows x 63 columns]"
      ]
     },
     "execution_count": 22,
     "metadata": {},
     "output_type": "execute_result"
    }
   ],
   "source": [
    "df.head(6)"
   ]
  },
  {
   "cell_type": "code",
   "execution_count": 23,
   "metadata": {},
   "outputs": [],
   "source": [
    "\n",
    "# define the X vector and y target for the new temprary dataset\n",
    "features_df = df.drop(['NET_FLOWS','COMPUTED_FLOWS','SRC_UID','THRESHOLD'], axis=1).copy()\n",
    "target = df.TARGET\n",
    "\n",
    "X_train, y_train, X_validation, y_validation, X_test, y_test, _, _ = split_dataset(features_df)\n",
    "X_train.shape, y_train.shape, X_validation.shape, y_validation.shape, X_test.shape, y_test.shape\n",
    "\n",
    "# Create and fit selector\n",
    "n_features=10\n",
    "selector = SelectKBest(f_classif, k=n_features)\n",
    "\n",
    "# selector.fit(features_df, target)\n",
    "selector.fit(X_train, y_train)\n",
    "# Get columns to keep and create new dataframe with those only\n",
    "cols = selector.get_support(indices=True)\n",
    "\n",
    "features_df_new = features_df.iloc[:,cols]\n",
    "features_df_new\n",
    "\n",
    "features_df_new=features_df_new.merge(df[['SRC_UID','TARGET']], left_index=True, right_index=True)\n",
    "\n",
    "cols_config=features_df_new.drop(['SRC_UID','TARGET'],axis=1).columns\n",
    "features_df_new\n",
    "\n",
    "X = features_df_new.drop('TARGET', axis=1)\n",
    "y = features_df_new.TARGET\n",
    "\n",
    "trans = []\n",
    "for i in range(len(cols_config)):\n",
    "    dico= {}\n",
    "    dico['cols'] = [cols_config[i]]\n",
    "    dico['method'] = 'shift'\n",
    "    dico['period'] = [1,2,3]\n",
    "    dico['original'] = False\n",
    "    trans.append(dico)\n",
    "    \n",
    "trans"
   ]
  },
  {
   "cell_type": "code",
   "execution_count": 29,
   "metadata": {},
   "outputs": [
    {
     "data": {
      "text/plain": [
       "[{'cols': ['IN_FLOWS'],\n",
       "  'method': 'shift',\n",
       "  'period': [1, 2, 3],\n",
       "  'original': False},\n",
       " {'cols': ['OUT_FLOWS'],\n",
       "  'method': 'shift',\n",
       "  'period': [1, 2, 3],\n",
       "  'original': False},\n",
       " {'cols': ['BENCH_PERF_3_MONTH'],\n",
       "  'method': 'shift',\n",
       "  'period': [1, 2, 3],\n",
       "  'original': False},\n",
       " {'cols': ['NAV_PERF_1_YEAR'],\n",
       "  'method': 'shift',\n",
       "  'period': [1, 2, 3],\n",
       "  'original': False},\n",
       " {'cols': ['NAV_PERF_3_MONTH'],\n",
       "  'method': 'shift',\n",
       "  'period': [1, 2, 3],\n",
       "  'original': False},\n",
       " {'cols': ['NAV_PERF_6_MONTH'],\n",
       "  'method': 'shift',\n",
       "  'period': [1, 2, 3],\n",
       "  'original': False},\n",
       " {'cols': ['RISK_LEVEL_VALUE'],\n",
       "  'method': 'shift',\n",
       "  'period': [1, 2, 3],\n",
       "  'original': False},\n",
       " {'cols': ['FLOWS_QUARTER'],\n",
       "  'method': 'shift',\n",
       "  'period': [1, 2, 3],\n",
       "  'original': False},\n",
       " {'cols': ['BENCH_VOL_SLOPE_ERROR'],\n",
       "  'method': 'shift',\n",
       "  'period': [1, 2, 3],\n",
       "  'original': False},\n",
       " {'cols': ['NAV_PERF_SLOPE'],\n",
       "  'method': 'shift',\n",
       "  'period': [1, 2, 3],\n",
       "  'original': False}]"
      ]
     },
     "execution_count": 29,
     "metadata": {},
     "output_type": "execute_result"
    }
   ],
   "source": [
    "trans"
   ]
  },
  {
   "cell_type": "code",
   "execution_count": 30,
   "metadata": {},
   "outputs": [
    {
     "data": {
      "text/html": [
       "<div>\n",
       "<style scoped>\n",
       "    .dataframe tbody tr th:only-of-type {\n",
       "        vertical-align: middle;\n",
       "    }\n",
       "\n",
       "    .dataframe tbody tr th {\n",
       "        vertical-align: top;\n",
       "    }\n",
       "\n",
       "    .dataframe thead th {\n",
       "        text-align: right;\n",
       "    }\n",
       "</style>\n",
       "<table border=\"1\" class=\"dataframe\">\n",
       "  <thead>\n",
       "    <tr style=\"text-align: right;\">\n",
       "      <th></th>\n",
       "      <th>SRC_UID</th>\n",
       "      <th>IN_FLOWS-s1</th>\n",
       "      <th>IN_FLOWS-s2</th>\n",
       "      <th>IN_FLOWS-s3</th>\n",
       "      <th>OUT_FLOWS-s1</th>\n",
       "      <th>OUT_FLOWS-s2</th>\n",
       "      <th>OUT_FLOWS-s3</th>\n",
       "      <th>BENCH_PERF_3_MONTH-s1</th>\n",
       "      <th>BENCH_PERF_3_MONTH-s2</th>\n",
       "      <th>BENCH_PERF_3_MONTH-s3</th>\n",
       "      <th>...</th>\n",
       "      <th>FLOWS_QUARTER-s3</th>\n",
       "      <th>BENCH_VOL_SLOPE_ERROR-s1</th>\n",
       "      <th>BENCH_VOL_SLOPE_ERROR-s2</th>\n",
       "      <th>BENCH_VOL_SLOPE_ERROR-s3</th>\n",
       "      <th>NAV_PERF_SLOPE-s1</th>\n",
       "      <th>NAV_PERF_SLOPE-s2</th>\n",
       "      <th>NAV_PERF_SLOPE-s3</th>\n",
       "      <th>TARGET</th>\n",
       "      <th>FLOWS_YEAR</th>\n",
       "      <th>FLOWS_MONTH</th>\n",
       "    </tr>\n",
       "  </thead>\n",
       "  <tbody>\n",
       "    <tr>\n",
       "      <th>3</th>\n",
       "      <td>206670688</td>\n",
       "      <td>68084125.0</td>\n",
       "      <td>89408248.0</td>\n",
       "      <td>69669121.0</td>\n",
       "      <td>-163602809.0</td>\n",
       "      <td>-74310603.0</td>\n",
       "      <td>-201496427.0</td>\n",
       "      <td>0.000512</td>\n",
       "      <td>0.000512</td>\n",
       "      <td>0.000573</td>\n",
       "      <td>...</td>\n",
       "      <td>1.0</td>\n",
       "      <td>0.000128</td>\n",
       "      <td>0.000159</td>\n",
       "      <td>0.000171</td>\n",
       "      <td>-0.001485</td>\n",
       "      <td>-0.001646</td>\n",
       "      <td>-0.001929</td>\n",
       "      <td>1</td>\n",
       "      <td>2010</td>\n",
       "      <td>4</td>\n",
       "    </tr>\n",
       "    <tr>\n",
       "      <th>4</th>\n",
       "      <td>206670688</td>\n",
       "      <td>104779215.0</td>\n",
       "      <td>68084125.0</td>\n",
       "      <td>89408248.0</td>\n",
       "      <td>-87141120.0</td>\n",
       "      <td>-163602809.0</td>\n",
       "      <td>-74310603.0</td>\n",
       "      <td>0.000522</td>\n",
       "      <td>0.000512</td>\n",
       "      <td>0.000512</td>\n",
       "      <td>...</td>\n",
       "      <td>1.0</td>\n",
       "      <td>0.000126</td>\n",
       "      <td>0.000128</td>\n",
       "      <td>0.000159</td>\n",
       "      <td>-0.001052</td>\n",
       "      <td>-0.001485</td>\n",
       "      <td>-0.001646</td>\n",
       "      <td>-1</td>\n",
       "      <td>2010</td>\n",
       "      <td>5</td>\n",
       "    </tr>\n",
       "    <tr>\n",
       "      <th>5</th>\n",
       "      <td>206670688</td>\n",
       "      <td>65517596.0</td>\n",
       "      <td>104779215.0</td>\n",
       "      <td>68084125.0</td>\n",
       "      <td>-132116073.0</td>\n",
       "      <td>-87141120.0</td>\n",
       "      <td>-163602809.0</td>\n",
       "      <td>0.000605</td>\n",
       "      <td>0.000522</td>\n",
       "      <td>0.000512</td>\n",
       "      <td>...</td>\n",
       "      <td>1.0</td>\n",
       "      <td>0.000112</td>\n",
       "      <td>0.000126</td>\n",
       "      <td>0.000128</td>\n",
       "      <td>-0.000743</td>\n",
       "      <td>-0.001052</td>\n",
       "      <td>-0.001485</td>\n",
       "      <td>-1</td>\n",
       "      <td>2010</td>\n",
       "      <td>6</td>\n",
       "    </tr>\n",
       "    <tr>\n",
       "      <th>6</th>\n",
       "      <td>206670688</td>\n",
       "      <td>43293193.0</td>\n",
       "      <td>65517596.0</td>\n",
       "      <td>104779215.0</td>\n",
       "      <td>-105390034.0</td>\n",
       "      <td>-132116073.0</td>\n",
       "      <td>-87141120.0</td>\n",
       "      <td>0.000730</td>\n",
       "      <td>0.000605</td>\n",
       "      <td>0.000522</td>\n",
       "      <td>...</td>\n",
       "      <td>2.0</td>\n",
       "      <td>0.000133</td>\n",
       "      <td>0.000112</td>\n",
       "      <td>0.000126</td>\n",
       "      <td>-0.000540</td>\n",
       "      <td>-0.000743</td>\n",
       "      <td>-0.001052</td>\n",
       "      <td>-1</td>\n",
       "      <td>2010</td>\n",
       "      <td>7</td>\n",
       "    </tr>\n",
       "    <tr>\n",
       "      <th>7</th>\n",
       "      <td>206670688</td>\n",
       "      <td>33504675.0</td>\n",
       "      <td>43293193.0</td>\n",
       "      <td>65517596.0</td>\n",
       "      <td>-41136591.0</td>\n",
       "      <td>-105390034.0</td>\n",
       "      <td>-132116073.0</td>\n",
       "      <td>0.000920</td>\n",
       "      <td>0.000730</td>\n",
       "      <td>0.000605</td>\n",
       "      <td>...</td>\n",
       "      <td>2.0</td>\n",
       "      <td>0.000151</td>\n",
       "      <td>0.000133</td>\n",
       "      <td>0.000112</td>\n",
       "      <td>-0.000382</td>\n",
       "      <td>-0.000540</td>\n",
       "      <td>-0.000743</td>\n",
       "      <td>1</td>\n",
       "      <td>2010</td>\n",
       "      <td>8</td>\n",
       "    </tr>\n",
       "    <tr>\n",
       "      <th>...</th>\n",
       "      <td>...</td>\n",
       "      <td>...</td>\n",
       "      <td>...</td>\n",
       "      <td>...</td>\n",
       "      <td>...</td>\n",
       "      <td>...</td>\n",
       "      <td>...</td>\n",
       "      <td>...</td>\n",
       "      <td>...</td>\n",
       "      <td>...</td>\n",
       "      <td>...</td>\n",
       "      <td>...</td>\n",
       "      <td>...</td>\n",
       "      <td>...</td>\n",
       "      <td>...</td>\n",
       "      <td>...</td>\n",
       "      <td>...</td>\n",
       "      <td>...</td>\n",
       "      <td>...</td>\n",
       "      <td>...</td>\n",
       "      <td>...</td>\n",
       "    </tr>\n",
       "    <tr>\n",
       "      <th>8897</th>\n",
       "      <td>213479867994200</td>\n",
       "      <td>2226192.0</td>\n",
       "      <td>7838181.0</td>\n",
       "      <td>14258055.0</td>\n",
       "      <td>-912205.0</td>\n",
       "      <td>-586358.0</td>\n",
       "      <td>-1036150.0</td>\n",
       "      <td>-0.001789</td>\n",
       "      <td>-0.001706</td>\n",
       "      <td>-0.001672</td>\n",
       "      <td>...</td>\n",
       "      <td>2.0</td>\n",
       "      <td>0.000088</td>\n",
       "      <td>0.000112</td>\n",
       "      <td>0.000131</td>\n",
       "      <td>-0.008795</td>\n",
       "      <td>-0.004750</td>\n",
       "      <td>-0.002308</td>\n",
       "      <td>1</td>\n",
       "      <td>2020</td>\n",
       "      <td>9</td>\n",
       "    </tr>\n",
       "    <tr>\n",
       "      <th>8898</th>\n",
       "      <td>213479867994200</td>\n",
       "      <td>8479346.0</td>\n",
       "      <td>2226192.0</td>\n",
       "      <td>7838181.0</td>\n",
       "      <td>-1279087.0</td>\n",
       "      <td>-912205.0</td>\n",
       "      <td>-586358.0</td>\n",
       "      <td>-0.001782</td>\n",
       "      <td>-0.001789</td>\n",
       "      <td>-0.001706</td>\n",
       "      <td>...</td>\n",
       "      <td>3.0</td>\n",
       "      <td>0.000057</td>\n",
       "      <td>0.000088</td>\n",
       "      <td>0.000112</td>\n",
       "      <td>-0.017896</td>\n",
       "      <td>-0.008795</td>\n",
       "      <td>-0.004750</td>\n",
       "      <td>1</td>\n",
       "      <td>2020</td>\n",
       "      <td>10</td>\n",
       "    </tr>\n",
       "    <tr>\n",
       "      <th>8899</th>\n",
       "      <td>213479867994200</td>\n",
       "      <td>14776729.0</td>\n",
       "      <td>8479346.0</td>\n",
       "      <td>2226192.0</td>\n",
       "      <td>-1015792.0</td>\n",
       "      <td>-1279087.0</td>\n",
       "      <td>-912205.0</td>\n",
       "      <td>-0.001791</td>\n",
       "      <td>-0.001782</td>\n",
       "      <td>-0.001789</td>\n",
       "      <td>...</td>\n",
       "      <td>3.0</td>\n",
       "      <td>0.000007</td>\n",
       "      <td>0.000057</td>\n",
       "      <td>0.000088</td>\n",
       "      <td>-0.015975</td>\n",
       "      <td>-0.017896</td>\n",
       "      <td>-0.008795</td>\n",
       "      <td>1</td>\n",
       "      <td>2020</td>\n",
       "      <td>11</td>\n",
       "    </tr>\n",
       "    <tr>\n",
       "      <th>8900</th>\n",
       "      <td>213479867994200</td>\n",
       "      <td>24501245.0</td>\n",
       "      <td>14776729.0</td>\n",
       "      <td>8479346.0</td>\n",
       "      <td>-359147.0</td>\n",
       "      <td>-1015792.0</td>\n",
       "      <td>-1279087.0</td>\n",
       "      <td>-0.001801</td>\n",
       "      <td>-0.001791</td>\n",
       "      <td>-0.001782</td>\n",
       "      <td>...</td>\n",
       "      <td>3.0</td>\n",
       "      <td>0.000049</td>\n",
       "      <td>0.000007</td>\n",
       "      <td>0.000057</td>\n",
       "      <td>-0.011221</td>\n",
       "      <td>-0.015975</td>\n",
       "      <td>-0.017896</td>\n",
       "      <td>1</td>\n",
       "      <td>2020</td>\n",
       "      <td>12</td>\n",
       "    </tr>\n",
       "    <tr>\n",
       "      <th>8901</th>\n",
       "      <td>213479867994200</td>\n",
       "      <td>43874436.0</td>\n",
       "      <td>24501245.0</td>\n",
       "      <td>14776729.0</td>\n",
       "      <td>-216450.0</td>\n",
       "      <td>-359147.0</td>\n",
       "      <td>-1015792.0</td>\n",
       "      <td>-0.001835</td>\n",
       "      <td>-0.001801</td>\n",
       "      <td>-0.001791</td>\n",
       "      <td>...</td>\n",
       "      <td>4.0</td>\n",
       "      <td>0.000043</td>\n",
       "      <td>0.000049</td>\n",
       "      <td>0.000007</td>\n",
       "      <td>-0.018773</td>\n",
       "      <td>-0.011221</td>\n",
       "      <td>-0.015975</td>\n",
       "      <td>1</td>\n",
       "      <td>2021</td>\n",
       "      <td>1</td>\n",
       "    </tr>\n",
       "  </tbody>\n",
       "</table>\n",
       "<p>8659 rows × 34 columns</p>\n",
       "</div>"
      ],
      "text/plain": [
       "              SRC_UID  IN_FLOWS-s1  IN_FLOWS-s2  IN_FLOWS-s3  OUT_FLOWS-s1  \\\n",
       "3           206670688   68084125.0   89408248.0   69669121.0  -163602809.0   \n",
       "4           206670688  104779215.0   68084125.0   89408248.0   -87141120.0   \n",
       "5           206670688   65517596.0  104779215.0   68084125.0  -132116073.0   \n",
       "6           206670688   43293193.0   65517596.0  104779215.0  -105390034.0   \n",
       "7           206670688   33504675.0   43293193.0   65517596.0   -41136591.0   \n",
       "...               ...          ...          ...          ...           ...   \n",
       "8897  213479867994200    2226192.0    7838181.0   14258055.0     -912205.0   \n",
       "8898  213479867994200    8479346.0    2226192.0    7838181.0    -1279087.0   \n",
       "8899  213479867994200   14776729.0    8479346.0    2226192.0    -1015792.0   \n",
       "8900  213479867994200   24501245.0   14776729.0    8479346.0     -359147.0   \n",
       "8901  213479867994200   43874436.0   24501245.0   14776729.0     -216450.0   \n",
       "\n",
       "      OUT_FLOWS-s2  OUT_FLOWS-s3  BENCH_PERF_3_MONTH-s1  \\\n",
       "3      -74310603.0  -201496427.0               0.000512   \n",
       "4     -163602809.0   -74310603.0               0.000522   \n",
       "5      -87141120.0  -163602809.0               0.000605   \n",
       "6     -132116073.0   -87141120.0               0.000730   \n",
       "7     -105390034.0  -132116073.0               0.000920   \n",
       "...            ...           ...                    ...   \n",
       "8897     -586358.0    -1036150.0              -0.001789   \n",
       "8898     -912205.0     -586358.0              -0.001782   \n",
       "8899    -1279087.0     -912205.0              -0.001791   \n",
       "8900    -1015792.0    -1279087.0              -0.001801   \n",
       "8901     -359147.0    -1015792.0              -0.001835   \n",
       "\n",
       "      BENCH_PERF_3_MONTH-s2  BENCH_PERF_3_MONTH-s3  ...  FLOWS_QUARTER-s3  \\\n",
       "3                  0.000512               0.000573  ...               1.0   \n",
       "4                  0.000512               0.000512  ...               1.0   \n",
       "5                  0.000522               0.000512  ...               1.0   \n",
       "6                  0.000605               0.000522  ...               2.0   \n",
       "7                  0.000730               0.000605  ...               2.0   \n",
       "...                     ...                    ...  ...               ...   \n",
       "8897              -0.001706              -0.001672  ...               2.0   \n",
       "8898              -0.001789              -0.001706  ...               3.0   \n",
       "8899              -0.001782              -0.001789  ...               3.0   \n",
       "8900              -0.001791              -0.001782  ...               3.0   \n",
       "8901              -0.001801              -0.001791  ...               4.0   \n",
       "\n",
       "      BENCH_VOL_SLOPE_ERROR-s1  BENCH_VOL_SLOPE_ERROR-s2  \\\n",
       "3                     0.000128                  0.000159   \n",
       "4                     0.000126                  0.000128   \n",
       "5                     0.000112                  0.000126   \n",
       "6                     0.000133                  0.000112   \n",
       "7                     0.000151                  0.000133   \n",
       "...                        ...                       ...   \n",
       "8897                  0.000088                  0.000112   \n",
       "8898                  0.000057                  0.000088   \n",
       "8899                  0.000007                  0.000057   \n",
       "8900                  0.000049                  0.000007   \n",
       "8901                  0.000043                  0.000049   \n",
       "\n",
       "      BENCH_VOL_SLOPE_ERROR-s3  NAV_PERF_SLOPE-s1  NAV_PERF_SLOPE-s2  \\\n",
       "3                     0.000171          -0.001485          -0.001646   \n",
       "4                     0.000159          -0.001052          -0.001485   \n",
       "5                     0.000128          -0.000743          -0.001052   \n",
       "6                     0.000126          -0.000540          -0.000743   \n",
       "7                     0.000112          -0.000382          -0.000540   \n",
       "...                        ...                ...                ...   \n",
       "8897                  0.000131          -0.008795          -0.004750   \n",
       "8898                  0.000112          -0.017896          -0.008795   \n",
       "8899                  0.000088          -0.015975          -0.017896   \n",
       "8900                  0.000057          -0.011221          -0.015975   \n",
       "8901                  0.000007          -0.018773          -0.011221   \n",
       "\n",
       "      NAV_PERF_SLOPE-s3  TARGET  FLOWS_YEAR  FLOWS_MONTH  \n",
       "3             -0.001929       1        2010            4  \n",
       "4             -0.001646      -1        2010            5  \n",
       "5             -0.001485      -1        2010            6  \n",
       "6             -0.001052      -1        2010            7  \n",
       "7             -0.000743       1        2010            8  \n",
       "...                 ...     ...         ...          ...  \n",
       "8897          -0.002308       1        2020            9  \n",
       "8898          -0.004750       1        2020           10  \n",
       "8899          -0.008795       1        2020           11  \n",
       "8900          -0.017896       1        2020           12  \n",
       "8901          -0.015975       1        2021            1  \n",
       "\n",
       "[8659 rows x 34 columns]"
      ]
     },
     "execution_count": 30,
     "metadata": {},
     "output_type": "execute_result"
    }
   ],
   "source": [
    "# create the steps and the transformation Pipeline\n",
    "steps = [('ts_2_supervised',myt.TS2Supervised(transformation=trans, breakdown=brk\n",
    "                                          , verbose=False, interpolation=False))]\n",
    "# create\n",
    "kbest_pipeline = Pipeline(steps)\n",
    "\n",
    "kbest_transformed_pipeline = kbest_pipeline.fit_transform(X, y)\n",
    "\n",
    "\n",
    "kbest_df = kbest_transformed_pipeline.merge(df[['TARGET','FLOWS_YEAR','FLOWS_MONTH']], left_index=True, right_index=True).copy()\n",
    "kbest_df.dropna(inplace=True)\n",
    "kbest_df"
   ]
  },
  {
   "cell_type": "code",
   "execution_count": 31,
   "metadata": {},
   "outputs": [
    {
     "data": {
      "text/plain": [
       "((6951, 33), (6951,), (1152, 33), (1152,), (556, 33), (556,))"
      ]
     },
     "execution_count": 31,
     "metadata": {},
     "output_type": "execute_result"
    }
   ],
   "source": [
    "X_train, y_train, X_validation, y_validation, X_test, y_test, _, _ = split_dataset(kbest_df)\n",
    "X_train.shape, y_train.shape, X_validation.shape, y_validation.shape, X_test.shape, y_test.shape"
   ]
  },
  {
   "cell_type": "code",
   "execution_count": 32,
   "metadata": {},
   "outputs": [
    {
     "name": "stderr",
     "output_type": "stream",
     "text": [
      "100%|██████████| 5/5 [01:00<00:00, 12.18s/it]"
     ]
    },
    {
     "name": "stdout",
     "output_type": "stream",
     "text": [
      "['LR: 0.496761 (0.014718)', 'SVM: 0.504818 (0.015702)', 'KNN: 0.456479 (0.016564)', 'TREE: 0.425551 (0.015522)', 'FOREST: 0.476191 (0.012379)']\n"
     ]
    },
    {
     "name": "stderr",
     "output_type": "stream",
     "text": [
      "\n"
     ]
    }
   ],
   "source": [
    "results, names = run_pipelines(X_train, y_train)\n",
    "logging.info('MODEL-01 SelectKBest features and rolling 1,2,3 configuration files with {}'.format(n_features))\n",
    "logging.info('Results: \\n\\n{}'.format(results))\n",
    "logging.info('--------------------------------------------------------------------------------------------------')"
   ]
  },
  {
   "cell_type": "code",
   "execution_count": 33,
   "metadata": {},
   "outputs": [
    {
     "data": {
      "image/png": "[encoded data removed]",
      "text/plain": [
       "<Figure size 1080x504 with 1 Axes>"
      ]
     },
     "metadata": {
      "needs_background": "light"
     },
     "output_type": "display_data"
    }
   ],
   "source": [
    "# Compare Algorithms\n",
    "fig = plt.figure(figsize=(15,7))\n",
    "fig.suptitle('Modeling Phase I Algorithm Comparison')\n",
    "ax = fig.add_subplot(111)\n",
    "plt.boxplot(results)\n",
    "ax.set_xticklabels(names)\n",
    "plt.show()"
   ]
  },
  {
   "cell_type": "markdown",
   "metadata": {},
   "source": [
    "### Fine tune the SVM model\n",
    "\n",
    "I will evaluate the SVM classifier from the pipeline with data fine tunning."
   ]
  },
  {
   "cell_type": "code",
   "execution_count": 34,
   "metadata": {},
   "outputs": [],
   "source": [
    "try:\n",
    "    pipeline=None\n",
    "    for n, m in pipelines:\n",
    "        if n=='SVM':\n",
    "            pipeline=m\n",
    "\n",
    "\n",
    "    X_train=X_train.astype('float64')\n",
    "    y_train=y_train.astype('float64')\n",
    "\n",
    "except:\n",
    "    logging.warning('Unable to run the SVM Classifier')"
   ]
  },
  {
   "cell_type": "code",
   "execution_count": 35,
   "metadata": {},
   "outputs": [
    {
     "data": {
      "text/plain": [
       "dict_keys(['memory', 'steps', 'verbose', 'Scaler', 'Power', 'SVC', 'Scaler__copy', 'Scaler__with_mean', 'Scaler__with_std', 'Power__copy', 'Power__method', 'Power__standardize', 'SVC__C', 'SVC__cache_size', 'SVC__class_weight', 'SVC__coef0', 'SVC__decision_function_shape', 'SVC__degree', 'SVC__gamma', 'SVC__kernel', 'SVC__max_iter', 'SVC__probability', 'SVC__random_state', 'SVC__shrinking', 'SVC__tol', 'SVC__verbose'])"
      ]
     },
     "execution_count": 35,
     "metadata": {},
     "output_type": "execute_result"
    }
   ],
   "source": [
    "pipeline.get_params().keys()"
   ]
  },
  {
   "cell_type": "code",
   "execution_count": 36,
   "metadata": {},
   "outputs": [
    {
     "data": {
      "text/html": [
       "<div>\n",
       "<style scoped>\n",
       "    .dataframe tbody tr th:only-of-type {\n",
       "        vertical-align: middle;\n",
       "    }\n",
       "\n",
       "    .dataframe tbody tr th {\n",
       "        vertical-align: top;\n",
       "    }\n",
       "\n",
       "    .dataframe thead th {\n",
       "        text-align: right;\n",
       "    }\n",
       "</style>\n",
       "<table border=\"1\" class=\"dataframe\">\n",
       "  <thead>\n",
       "    <tr style=\"text-align: right;\">\n",
       "      <th></th>\n",
       "      <th>SRC_UID</th>\n",
       "    </tr>\n",
       "    <tr>\n",
       "      <th>TARGET</th>\n",
       "      <th></th>\n",
       "    </tr>\n",
       "  </thead>\n",
       "  <tbody>\n",
       "    <tr>\n",
       "      <th>-1</th>\n",
       "      <td>238</td>\n",
       "    </tr>\n",
       "    <tr>\n",
       "      <th>0</th>\n",
       "      <td>226</td>\n",
       "    </tr>\n",
       "    <tr>\n",
       "      <th>1</th>\n",
       "      <td>228</td>\n",
       "    </tr>\n",
       "  </tbody>\n",
       "</table>\n",
       "</div>"
      ],
      "text/plain": [
       "        SRC_UID\n",
       "TARGET         \n",
       "-1          238\n",
       " 0          226\n",
       " 1          228"
      ]
     },
     "execution_count": 36,
     "metadata": {},
     "output_type": "execute_result"
    }
   ],
   "source": [
    "# distribution of target value for the validation set\n",
    "kbest_df.loc[kbest_df['FLOWS_YEAR']==2020,['SRC_UID','TARGET']].groupby('TARGET').count()"
   ]
  },
  {
   "cell_type": "code",
   "execution_count": 37,
   "metadata": {},
   "outputs": [
    {
     "name": "stdout",
     "output_type": "stream",
     "text": [
      "Fitting 3 folds for each of 3 candidates, totalling 9 fits\n",
      "[CV] SVC__C=0.01 .....................................................\n"
     ]
    },
    {
     "name": "stderr",
     "output_type": "stream",
     "text": [
      "[Parallel(n_jobs=1)]: Using backend SequentialBackend with 1 concurrent workers.\n"
     ]
    },
    {
     "name": "stdout",
     "output_type": "stream",
     "text": [
      "[CV] ......................... SVC__C=0.01, score=0.397, total=   2.7s\n",
      "[CV] SVC__C=0.01 .....................................................\n"
     ]
    },
    {
     "name": "stderr",
     "output_type": "stream",
     "text": [
      "[Parallel(n_jobs=1)]: Done   1 out of   1 | elapsed:    2.7s remaining:    0.0s\n"
     ]
    },
    {
     "name": "stdout",
     "output_type": "stream",
     "text": [
      "[CV] ......................... SVC__C=0.01, score=0.404, total=   2.8s\n",
      "[CV] SVC__C=0.01 .....................................................\n"
     ]
    },
    {
     "name": "stderr",
     "output_type": "stream",
     "text": [
      "[Parallel(n_jobs=1)]: Done   2 out of   2 | elapsed:    5.5s remaining:    0.0s\n"
     ]
    },
    {
     "name": "stdout",
     "output_type": "stream",
     "text": [
      "[CV] ......................... SVC__C=0.01, score=0.365, total=   2.8s\n",
      "[CV] SVC__C=1 ........................................................\n",
      "[CV] ............................ SVC__C=1, score=0.418, total=   2.4s\n",
      "[CV] SVC__C=1 ........................................................\n",
      "[CV] ............................ SVC__C=1, score=0.425, total=   2.5s\n",
      "[CV] SVC__C=1 ........................................................\n",
      "[CV] ............................ SVC__C=1, score=0.467, total=   2.6s\n",
      "[CV] SVC__C=100 ......................................................\n",
      "[CV] .......................... SVC__C=100, score=0.389, total=   5.2s\n",
      "[CV] SVC__C=100 ......................................................\n",
      "[CV] .......................... SVC__C=100, score=0.387, total=   5.4s\n",
      "[CV] SVC__C=100 ......................................................\n",
      "[CV] .......................... SVC__C=100, score=0.413, total=   5.6s\n"
     ]
    },
    {
     "name": "stderr",
     "output_type": "stream",
     "text": [
      "[Parallel(n_jobs=1)]: Done   9 out of   9 | elapsed:   31.9s finished\n"
     ]
    },
    {
     "data": {
      "text/plain": [
       "GridSearchCV(cv='warn', error_score='raise-deprecating',\n",
       "             estimator=Pipeline(memory=None,\n",
       "                                steps=[('Scaler',\n",
       "                                        StandardScaler(copy=True,\n",
       "                                                       with_mean=True,\n",
       "                                                       with_std=True)),\n",
       "                                       ('Power',\n",
       "                                        PowerTransformer(copy=True,\n",
       "                                                         method='yeo-johnson',\n",
       "                                                         standardize=True)),\n",
       "                                       ('SVC',\n",
       "                                        SVC(C=1.0, cache_size=200,\n",
       "                                            class_weight=None, coef0=0.0,\n",
       "                                            decision_function_shape='ovr',\n",
       "                                            degree=3, gamma='auto',\n",
       "                                            kernel='rbf', max_iter=-1,\n",
       "                                            probability=False, random_state=42,\n",
       "                                            shrinking=True, tol=0.001,\n",
       "                                            verbose=False))],\n",
       "                                verbose=False),\n",
       "             iid='warn', n_jobs=None, param_grid={'SVC__C': [0.01, 1, 100]},\n",
       "             pre_dispatch='2*n_jobs', refit=True, return_train_score=False,\n",
       "             scoring=None, verbose=3)"
      ]
     },
     "execution_count": 37,
     "metadata": {},
     "output_type": "execute_result"
    }
   ],
   "source": [
    "parameter_space = {\n",
    "    'SVC__C': [0.01,1,100]\n",
    "}\n",
    "\n",
    "cv_model1 = GridSearchCV(pipeline, parameter_space, verbose=3)\n",
    "cv_model1.fit(X_train, y_train)"
   ]
  },
  {
   "cell_type": "code",
   "execution_count": 38,
   "metadata": {},
   "outputs": [
    {
     "name": "stdout",
     "output_type": "stream",
     "text": [
      "Best parameter (CV score=0.437):\n",
      "{'SVC__C': 1}\n"
     ]
    }
   ],
   "source": [
    "print(\"Best parameter (CV score=%0.3f):\" % cv_model1.best_score_)\n",
    "print(cv_model1.best_params_)\n",
    "best_estimator = cv_model1.best_estimator_\n",
    "y_pred=best_estimator.predict(X_validation)"
   ]
  },
  {
   "cell_type": "code",
   "execution_count": 39,
   "metadata": {},
   "outputs": [
    {
     "name": "stdout",
     "output_type": "stream",
     "text": [
      "Confusion Matrix\n",
      "\n",
      "[[258  95  46]\n",
      " [155 164  81]\n",
      " [139  98 116]]\n",
      "\n",
      "Accuracy: 0.47\n",
      "\n",
      "Micro Precision: 0.47\n",
      "Micro Recall: 0.47\n",
      "Micro F1-score: 0.47\n",
      "\n",
      "Macro Precision: 0.47\n",
      "Macro Recall: 0.46\n",
      "Macro F1-score: 0.46\n",
      "\n",
      "Weighted Precision: 0.47\n",
      "Weighted Recall: 0.47\n",
      "Weighted F1-score: 0.46\n",
      "\n",
      "Classification Report\n",
      "\n",
      "              precision    recall  f1-score   support\n",
      "\n",
      "   Out Flows       0.47      0.65      0.54       399\n",
      "NeutralFlows       0.46      0.41      0.43       400\n",
      "    In Flows       0.48      0.33      0.39       353\n",
      "\n",
      "    accuracy                           0.47      1152\n",
      "   macro avg       0.47      0.46      0.46      1152\n",
      "weighted avg       0.47      0.47      0.46      1152\n",
      "\n"
     ]
    }
   ],
   "source": [
    "acc, conf = metrics_report(y_validation, y_pred)"
   ]
  },
  {
   "cell_type": "code",
   "execution_count": 40,
   "metadata": {},
   "outputs": [],
   "source": [
    "now = datetime.now()\n",
    "filename = 'res/result--' + now.strftime(\"%m%d%Y%H%M%S\") + '.res'\n",
    "resultat=[now.strftime(\"%m%d%Y%H%M%S\"),1,'MLP Classifier',pipeline,parameter_space,acc,conf,trans,'Fine tuning model 1 MLP Classifier. Nb features {} selected by SelectKBest'.format(n_features)]\n",
    "r = pd.DataFrame(resultat)\n",
    "r.T.to_csv(filename, header=None)\n"
   ]
  },
  {
   "cell_type": "code",
   "execution_count": 41,
   "metadata": {},
   "outputs": [
    {
     "data": {
      "image/png": "[encoded data removed]",
      "text/plain": [
       "<Figure size 432x288 with 1 Axes>"
      ]
     },
     "metadata": {
      "needs_background": "light"
     },
     "output_type": "display_data"
    },
    {
     "data": {
      "text/plain": [
       "ROCAUC(ax=<AxesSubplot:title={'center':'ROC Curves for SVC'}, xlabel='False Positive Rate', ylabel='True Positive Rate'>,\n",
       "       binary=None, classes=None,\n",
       "       encoder={-1: 'Out flows', 0: 'no flows / neutral', 1: 'in flows'},\n",
       "       estimator=Pipeline(memory=None,\n",
       "                          steps=[('Scaler',\n",
       "                                  StandardScaler(copy=True, with_mean=True,\n",
       "                                                 with_std=True)),\n",
       "                                 ('Power',\n",
       "                                  PowerTransformer(copy=True,\n",
       "                                                   method='yeo-johnson',\n",
       "                                                   standardize=True)),\n",
       "                                 ('SVC',\n",
       "                                  SVC(C=1, cache_size=200, class_weight=None,\n",
       "                                      coef0=0.0, decision_function_shape='ovr',\n",
       "                                      degree=3, gamma='auto', kernel='rbf',\n",
       "                                      max_iter=-1, probability=False,\n",
       "                                      random_state=42, shrinking=True,\n",
       "                                      tol=0.001, verbose=False))],\n",
       "                          verbose=False),\n",
       "       force_model=False, is_fitted='auto', macro=True, micro=True,\n",
       "       per_class=True)"
      ]
     },
     "execution_count": 41,
     "metadata": {},
     "output_type": "execute_result"
    }
   ],
   "source": [
    "plot_ROC_curve(best_estimator, X_train, y_train, X_validation, y_validation)"
   ]
  },
  {
   "cell_type": "markdown",
   "metadata": {},
   "source": [
    "### Fine Tune the RandomForest Classifier\n",
    "\n",
    "As the RandomForest classifier got a good result compare to other classifier, I will also fine tune it with a grid search"
   ]
  },
  {
   "cell_type": "code",
   "execution_count": 42,
   "metadata": {},
   "outputs": [],
   "source": [
    "pipeline=None\n",
    "for n, m in pipelines:\n",
    "    if n=='FOREST':\n",
    "        pipeline=m\n",
    "\n",
    "\n",
    "X_train=X_train.astype('float64')\n",
    "y_train=y_train.astype('float64')\n",
    "\n"
   ]
  },
  {
   "cell_type": "code",
   "execution_count": 43,
   "metadata": {},
   "outputs": [
    {
     "name": "stdout",
     "output_type": "stream",
     "text": [
      "Fitting 3 folds for each of 48 candidates, totalling 144 fits\n"
     ]
    },
    {
     "name": "stderr",
     "output_type": "stream",
     "text": [
      "[Parallel(n_jobs=-1)]: Using backend LokyBackend with 32 concurrent workers.\n",
      "[Parallel(n_jobs=-1)]: Done  64 tasks      | elapsed:   11.0s\n",
      "[Parallel(n_jobs=-1)]: Done 130 out of 144 | elapsed:   25.9s remaining:    2.8s\n",
      "[Parallel(n_jobs=-1)]: Done 144 out of 144 | elapsed:   33.7s finished\n"
     ]
    },
    {
     "name": "stdout",
     "output_type": "stream",
     "text": [
      "Best parameter (CV score=0.380):\n",
      "{'FOREST__bootstrap': True, 'FOREST__max_depth': 2, 'FOREST__max_features': 'auto', 'FOREST__n_estimators': 500}\n",
      "Confusion Matrix\n",
      "\n",
      "[[222   0 177]\n",
      " [172   0 228]\n",
      " [143   0 210]]\n",
      "\n",
      "Accuracy: 0.38\n",
      "\n",
      "Micro Precision: 0.38\n",
      "Micro Recall: 0.38\n",
      "Micro F1-score: 0.38\n",
      "\n",
      "Macro Precision: 0.25\n",
      "Macro Recall: 0.38\n",
      "Macro F1-score: 0.30\n",
      "\n",
      "Weighted Precision: 0.25\n",
      "Weighted Recall: 0.38\n",
      "Weighted F1-score: 0.30\n",
      "\n",
      "Classification Report\n",
      "\n",
      "              precision    recall  f1-score   support\n",
      "\n",
      "   Out Flows       0.41      0.56      0.47       399\n",
      "NeutralFlows       0.00      0.00      0.00       400\n",
      "    In Flows       0.34      0.59      0.43       353\n",
      "\n",
      "    accuracy                           0.38      1152\n",
      "   macro avg       0.25      0.38      0.30      1152\n",
      "weighted avg       0.25      0.38      0.30      1152\n",
      "\n"
     ]
    },
    {
     "name": "stderr",
     "output_type": "stream",
     "text": [
      "/home/dfelix/.venv/lib/python3.7/site-packages/sklearn/metrics/classification.py:1437: UndefinedMetricWarning: Precision is ill-defined and being set to 0.0 in labels with no predicted samples.\n",
      "  'precision', 'predicted', average, warn_for)\n",
      "/home/dfelix/.venv/lib/python3.7/site-packages/sklearn/metrics/classification.py:1437: UndefinedMetricWarning: F-score is ill-defined and being set to 0.0 in labels with no predicted samples.\n",
      "  'precision', 'predicted', average, warn_for)\n",
      "/home/dfelix/.venv/lib/python3.7/site-packages/sklearn/metrics/classification.py:1437: UndefinedMetricWarning: Precision and F-score are ill-defined and being set to 0.0 in labels with no predicted samples.\n",
      "  'precision', 'predicted', average, warn_for)\n"
     ]
    }
   ],
   "source": [
    "# Number of trees in random forest\n",
    "n_estimators = [100,200,500]\n",
    "max_features = ['auto', 'sqrt']\n",
    "max_depth = [2,5,10,None]\n",
    "# Create the random grid\n",
    "parameter_space = {'FOREST__n_estimators': n_estimators,\n",
    "                  'FOREST__max_features':max_features,\n",
    "                  'FOREST__max_depth': max_depth,\n",
    "                  #'FOREST__min_samples_split': [2,5,10],\n",
    "                  'FOREST__bootstrap': [True,False]\n",
    "                  }\n",
    "logging.info('GridSearchCV - MODEL1 - RandomForest')\n",
    "cv_model1 = GridSearchCV(pipeline, parameter_space, n_jobs=-1, verbose=3)\n",
    "cv_model1.fit(X_train, y_train)\n",
    "print(\"Best parameter (CV score=%0.3f):\" % cv_model1.best_score_)\n",
    "print(cv_model1.best_params_)\n",
    "best_estimator = cv_model1.best_estimator_\n",
    "y_pred=best_estimator.predict(X_validation)\n",
    "acc, conf = metrics_report(y_validation, y_pred)\n",
    "logging.info('MODEL1 - RandomForest - GridSearchCV -EVALUATED')"
   ]
  },
  {
   "cell_type": "code",
   "execution_count": 44,
   "metadata": {},
   "outputs": [
    {
     "data": {
      "image/png": "[encoded data removed]",
      "text/plain": [
       "<Figure size 432x288 with 1 Axes>"
      ]
     },
     "metadata": {
      "needs_background": "light"
     },
     "output_type": "display_data"
    },
    {
     "data": {
      "text/plain": [
       "ROCAUC(ax=<AxesSubplot:title={'center':'ROC Curves for RandomForestClassifier'}, xlabel='False Positive Rate', ylabel='True Positive Rate'>,\n",
       "       binary=None, classes=None,\n",
       "       encoder={-1: 'Out flows', 0: 'no flows / neutral', 1: 'in flows'},\n",
       "       estimator=Pipeline(memory=None,\n",
       "                          steps=[('Scaler',\n",
       "                                  StandardScaler(copy=True, with_mean=True,\n",
       "                                                 with_std=True)),\n",
       "                                 ('Power',\n",
       "                                  PowerTransformer(copy=Tru...\n",
       "                                                         criterion='gini',\n",
       "                                                         max_depth=2,\n",
       "                                                         max_features='auto',\n",
       "                                                         max_leaf_nodes=None,\n",
       "                                                         min_impurity_decrease=0.0,\n",
       "                                                         min_impurity_split=None,\n",
       "                                                         min_samples_leaf=1,\n",
       "                                                         min_samples_split=2,\n",
       "                                                         min_weight_fraction_leaf=0.0,\n",
       "                                                         n_estimators=500,\n",
       "                                                         n_jobs=None,\n",
       "                                                         oob_score=False,\n",
       "                                                         random_state=42,\n",
       "                                                         verbose=0,\n",
       "                                                         warm_start=False))],\n",
       "                          verbose=False),\n",
       "       force_model=False, is_fitted='auto', macro=True, micro=True,\n",
       "       per_class=True)"
      ]
     },
     "execution_count": 44,
     "metadata": {},
     "output_type": "execute_result"
    }
   ],
   "source": [
    "plot_ROC_curve(best_estimator, X_train, y_train, X_validation, y_validation)"
   ]
  },
  {
   "cell_type": "code",
   "execution_count": 45,
   "metadata": {},
   "outputs": [],
   "source": [
    "now = datetime.now()\n",
    "filename = 'res/result--' + now.strftime(\"%m%d%Y%H%M%S\") + '.res'\n",
    "resultat=[now.strftime(\"%m%d%Y%H%M%S\"),1,'Random Forest',pipeline,parameter_space,acc,conf,trans,'Fine tuning model 1 MLP Classifier. Nb features {} selected by SelectKBest'.format(n_features)]\n",
    "r = pd.DataFrame(resultat)\n",
    "r.T.to_csv(filename, header=None)\n"
   ]
  },
  {
   "cell_type": "markdown",
   "metadata": {},
   "source": [
    "# Model 02\n",
    "For the 2nd mmodeling process I will decide by myself which feature I want to transform and build the tranformation dictionary manually. I will use the same pipeline with the same estimator feeded with the transformed data.\n",
    "\n",
    "I will start by creat group of features and then add them to the transformation dictionary.\n",
    "\n",
    "Group will be:\n",
    "- flows\n",
    "- performances\n",
    "- marketing & research\n",
    "\n",
    "Last group will be fund caracteristics for which no custom transformation will be apply."
   ]
  },
  {
   "cell_type": "code",
   "execution_count": 46,
   "metadata": {},
   "outputs": [
    {
     "data": {
      "text/plain": [
       "Index(['SRC_UID', 'IS_STRATEGIC', 'ADMINSTRATION_FEES', 'MANAGEMENT_FEES',\n",
       "       'MULTI_MANAGER_STRUCTURE', 'SOFTCLOSING', 'CNT_SHARE', 'QUANTITY',\n",
       "       'IN_FLOWS', 'OUT_FLOWS', 'NET_FLOWS', 'AUM', 'BENCH_PERF_1_MONTH',\n",
       "       'BENCH_PERF_1_YEAR', 'BENCH_PERF_3_MONTH', 'BENCH_PERF_6_MONTH',\n",
       "       'BENCH_VOL_1_MONTH', 'BENCH_VOL_3_MONTH', 'BENCH_VOL_6_MONTH',\n",
       "       'BENCH_VOLATILITY_1_YEAR', 'NAV_PERF_1_MONTH', 'NAV_PERF_1_YEAR',\n",
       "       'NAV_PERF_3_MONTH', 'NAV_PERF_6_MONTH', 'NAV_VOL_1_MONTH',\n",
       "       'NAV_VOL_3_MONTH', 'NAV_VOL_6_MONTH', 'NAV_VOLATILITY_1_YEAR',\n",
       "       'BENCH_VOL_SINCE_INCEPT', 'NAV_PERF_COMPOUND_CREATION',\n",
       "       'NAV_VOL_SINCE_INCEPT', 'FUND_SIZE', 'SUB_FUNDS_SHARE_PARTS',\n",
       "       'SUB_FUNDS_SHARE_SIZE_SF_CCY', 'DOWNLOADED_DOCUMENTS', 'WEIGHTED',\n",
       "       'PSU_SCORE', 'POSITIVE_RFP', 'EVENT_IMPACT', 'COMPUTED_FLOWS',\n",
       "       'CHECKED', 'DIFF_FLOWS', 'THRESHOLD', 'TARGET', 'RISK_LEVEL_VALUE',\n",
       "       'PRODUCT_STRATEGY', 'ASSET_NAME', 'FUND_NAME', 'STRATEGY_CAPABILITY',\n",
       "       'COUNTRY', 'PSU', 'FLOWS_MONTH', 'FLOWS_YEAR', 'FLOWS_QUARTER',\n",
       "       'FUND_AGE', 'BENCH_PERF_SLOPE', 'BENCH_PERF_SLOPE_ERROR',\n",
       "       'BENCH_VOL_SLOPE', 'BENCH_VOL_SLOPE_ERROR', 'NAV_PERF_SLOPE',\n",
       "       'NAV_PERF_SLOPE_ERROR', 'NAV_VOL_SLOPE', 'NAV_VOL_SLOPE_ERROR'],\n",
       "      dtype='object')"
      ]
     },
     "execution_count": 46,
     "metadata": {},
     "output_type": "execute_result"
    }
   ],
   "source": [
    "df.columns"
   ]
  },
  {
   "cell_type": "code",
   "execution_count": 47,
   "metadata": {},
   "outputs": [],
   "source": [
    "cols_flows = ['IN_FLOWS', 'OUT_FLOWS','AUM']\n",
    "cols_perfs = ['BENCH_PERF_SLOPE', 'BENCH_PERF_SLOPE_ERROR',\n",
    "       'BENCH_VOL_SLOPE', 'BENCH_VOL_SLOPE_ERROR', 'NAV_PERF_SLOPE',\n",
    "       'NAV_PERF_SLOPE_ERROR', 'NAV_VOL_SLOPE', 'NAV_VOL_SLOPE_ERROR']\n",
    "cols_maktg = ['POSITIVE_RFP', 'EVENT_IMPACT', 'DOWNLOADED_DOCUMENTS','PSU_SCORE']\n",
    "cols_funds = ['IS_STRATEGIC', 'ADMINSTRATION_FEES', 'MANAGEMENT_FEES','RISK_LEVEL_VALUE','STRATEGY_CAPABILITY','FUND_AGE']"
   ]
  },
  {
   "cell_type": "markdown",
   "metadata": {},
   "source": [
    "## Create the transformation dictionary\n",
    "\n",
    "For the flows and the performance, I will apply a rolling transformation. For the marketing I will evaluate expanding, shift & ewm."
   ]
  },
  {
   "cell_type": "code",
   "execution_count": 48,
   "metadata": {},
   "outputs": [],
   "source": [
    "trans = []\n",
    "for i in range(len(cols_flows)):\n",
    "    dico= {}\n",
    "    dico['cols'] = [cols_flows[i]]\n",
    "    dico['method'] = 'shift'\n",
    "    dico['period'] = [1,2,3]\n",
    "    dico['original'] = False\n",
    "    trans.append(dico)\n",
    "    \n",
    "\n",
    "for i in range(len(cols_perfs)):\n",
    "    dico= {}\n",
    "    dico['cols'] = [cols_perfs[i]]\n",
    "    dico['method'] = 'rolling'\n",
    "    dico['period'] = [1,3,6]\n",
    "    dico['original'] = False\n",
    "    trans.append(dico)\n",
    "    \n",
    "for i in range(len(cols_maktg)):\n",
    "    dico= {}\n",
    "    dico['cols'] = [cols_maktg[i]]\n",
    "    dico['method'] = 'ewm'\n",
    "    dico['period'] = [1,3,6,9]\n",
    "    dico['original'] = False\n",
    "    trans.append(dico)"
   ]
  },
  {
   "cell_type": "code",
   "execution_count": 50,
   "metadata": {},
   "outputs": [],
   "source": [
    "\n",
    "all_cols = cols_flows + cols_perfs + cols_maktg + cols_funds + ['SRC_UID','TARGET','FLOWS_YEAR','FLOWS_MONTH']\n",
    "\n",
    "my_choice_df = df[all_cols].copy()\n",
    "\n",
    "X = my_choice_df.drop(['TARGET','FLOWS_YEAR','FLOWS_MONTH'], axis=1)\n",
    "y = my_choice_df.TARGET"
   ]
  },
  {
   "cell_type": "code",
   "execution_count": 51,
   "metadata": {},
   "outputs": [
    {
     "data": {
      "text/html": [
       "<div>\n",
       "<style scoped>\n",
       "    .dataframe tbody tr th:only-of-type {\n",
       "        vertical-align: middle;\n",
       "    }\n",
       "\n",
       "    .dataframe tbody tr th {\n",
       "        vertical-align: top;\n",
       "    }\n",
       "\n",
       "    .dataframe thead th {\n",
       "        text-align: right;\n",
       "    }\n",
       "</style>\n",
       "<table border=\"1\" class=\"dataframe\">\n",
       "  <thead>\n",
       "    <tr style=\"text-align: right;\">\n",
       "      <th></th>\n",
       "      <th>IS_STRATEGIC</th>\n",
       "      <th>ADMINSTRATION_FEES</th>\n",
       "      <th>MANAGEMENT_FEES</th>\n",
       "      <th>RISK_LEVEL_VALUE</th>\n",
       "      <th>STRATEGY_CAPABILITY</th>\n",
       "      <th>FUND_AGE</th>\n",
       "      <th>SRC_UID</th>\n",
       "      <th>IN_FLOWS-s1</th>\n",
       "      <th>IN_FLOWS-s2</th>\n",
       "      <th>IN_FLOWS-s3</th>\n",
       "      <th>...</th>\n",
       "      <th>DOWNLOADED_DOCUMENTS-e3</th>\n",
       "      <th>DOWNLOADED_DOCUMENTS-e6</th>\n",
       "      <th>DOWNLOADED_DOCUMENTS-e9</th>\n",
       "      <th>PSU_SCORE-e1</th>\n",
       "      <th>PSU_SCORE-e3</th>\n",
       "      <th>PSU_SCORE-e6</th>\n",
       "      <th>PSU_SCORE-e9</th>\n",
       "      <th>TARGET</th>\n",
       "      <th>FLOWS_YEAR</th>\n",
       "      <th>FLOWS_MONTH</th>\n",
       "    </tr>\n",
       "  </thead>\n",
       "  <tbody>\n",
       "    <tr>\n",
       "      <th>5</th>\n",
       "      <td>0</td>\n",
       "      <td>0.000277</td>\n",
       "      <td>0.001631</td>\n",
       "      <td>1</td>\n",
       "      <td>8</td>\n",
       "      <td>15.057534</td>\n",
       "      <td>206670688</td>\n",
       "      <td>65517596.0</td>\n",
       "      <td>104779215.0</td>\n",
       "      <td>68084125.0</td>\n",
       "      <td>...</td>\n",
       "      <td>50.486189</td>\n",
       "      <td>45.147240</td>\n",
       "      <td>43.078265</td>\n",
       "      <td>0.0</td>\n",
       "      <td>0.0</td>\n",
       "      <td>0.0</td>\n",
       "      <td>0.0</td>\n",
       "      <td>-1</td>\n",
       "      <td>2010</td>\n",
       "      <td>6</td>\n",
       "    </tr>\n",
       "    <tr>\n",
       "      <th>6</th>\n",
       "      <td>0</td>\n",
       "      <td>0.000277</td>\n",
       "      <td>0.001631</td>\n",
       "      <td>1</td>\n",
       "      <td>8</td>\n",
       "      <td>15.142466</td>\n",
       "      <td>206670688</td>\n",
       "      <td>43293193.0</td>\n",
       "      <td>65517596.0</td>\n",
       "      <td>104779215.0</td>\n",
       "      <td>...</td>\n",
       "      <td>62.174896</td>\n",
       "      <td>55.070827</td>\n",
       "      <td>52.263899</td>\n",
       "      <td>0.0</td>\n",
       "      <td>0.0</td>\n",
       "      <td>0.0</td>\n",
       "      <td>0.0</td>\n",
       "      <td>-1</td>\n",
       "      <td>2010</td>\n",
       "      <td>7</td>\n",
       "    </tr>\n",
       "    <tr>\n",
       "      <th>7</th>\n",
       "      <td>0</td>\n",
       "      <td>0.000277</td>\n",
       "      <td>0.001631</td>\n",
       "      <td>1</td>\n",
       "      <td>8</td>\n",
       "      <td>15.227397</td>\n",
       "      <td>206670688</td>\n",
       "      <td>33504675.0</td>\n",
       "      <td>43293193.0</td>\n",
       "      <td>65517596.0</td>\n",
       "      <td>...</td>\n",
       "      <td>74.350064</td>\n",
       "      <td>65.337771</td>\n",
       "      <td>61.699019</td>\n",
       "      <td>0.0</td>\n",
       "      <td>0.0</td>\n",
       "      <td>0.0</td>\n",
       "      <td>0.0</td>\n",
       "      <td>1</td>\n",
       "      <td>2010</td>\n",
       "      <td>8</td>\n",
       "    </tr>\n",
       "    <tr>\n",
       "      <th>8</th>\n",
       "      <td>0</td>\n",
       "      <td>0.000277</td>\n",
       "      <td>0.001631</td>\n",
       "      <td>1</td>\n",
       "      <td>8</td>\n",
       "      <td>15.309589</td>\n",
       "      <td>206670688</td>\n",
       "      <td>96312714.0</td>\n",
       "      <td>33504675.0</td>\n",
       "      <td>43293193.0</td>\n",
       "      <td>...</td>\n",
       "      <td>86.959309</td>\n",
       "      <td>75.936351</td>\n",
       "      <td>71.379555</td>\n",
       "      <td>0.0</td>\n",
       "      <td>0.0</td>\n",
       "      <td>0.0</td>\n",
       "      <td>0.0</td>\n",
       "      <td>1</td>\n",
       "      <td>2010</td>\n",
       "      <td>9</td>\n",
       "    </tr>\n",
       "    <tr>\n",
       "      <th>9</th>\n",
       "      <td>0</td>\n",
       "      <td>0.000277</td>\n",
       "      <td>0.001631</td>\n",
       "      <td>1</td>\n",
       "      <td>8</td>\n",
       "      <td>15.394521</td>\n",
       "      <td>206670688</td>\n",
       "      <td>202455177.0</td>\n",
       "      <td>96312714.0</td>\n",
       "      <td>33504675.0</td>\n",
       "      <td>...</td>\n",
       "      <td>99.951095</td>\n",
       "      <td>86.853855</td>\n",
       "      <td>81.300990</td>\n",
       "      <td>0.0</td>\n",
       "      <td>0.0</td>\n",
       "      <td>0.0</td>\n",
       "      <td>0.0</td>\n",
       "      <td>0</td>\n",
       "      <td>2010</td>\n",
       "      <td>10</td>\n",
       "    </tr>\n",
       "    <tr>\n",
       "      <th>...</th>\n",
       "      <td>...</td>\n",
       "      <td>...</td>\n",
       "      <td>...</td>\n",
       "      <td>...</td>\n",
       "      <td>...</td>\n",
       "      <td>...</td>\n",
       "      <td>...</td>\n",
       "      <td>...</td>\n",
       "      <td>...</td>\n",
       "      <td>...</td>\n",
       "      <td>...</td>\n",
       "      <td>...</td>\n",
       "      <td>...</td>\n",
       "      <td>...</td>\n",
       "      <td>...</td>\n",
       "      <td>...</td>\n",
       "      <td>...</td>\n",
       "      <td>...</td>\n",
       "      <td>...</td>\n",
       "      <td>...</td>\n",
       "      <td>...</td>\n",
       "    </tr>\n",
       "    <tr>\n",
       "      <th>8897</th>\n",
       "      <td>1</td>\n",
       "      <td>0.000300</td>\n",
       "      <td>0.005000</td>\n",
       "      <td>3</td>\n",
       "      <td>9</td>\n",
       "      <td>2.917808</td>\n",
       "      <td>213479867994200</td>\n",
       "      <td>2226192.0</td>\n",
       "      <td>7838181.0</td>\n",
       "      <td>14258055.0</td>\n",
       "      <td>...</td>\n",
       "      <td>39.805275</td>\n",
       "      <td>39.011543</td>\n",
       "      <td>39.644003</td>\n",
       "      <td>0.0</td>\n",
       "      <td>0.0</td>\n",
       "      <td>0.0</td>\n",
       "      <td>0.0</td>\n",
       "      <td>1</td>\n",
       "      <td>2020</td>\n",
       "      <td>9</td>\n",
       "    </tr>\n",
       "    <tr>\n",
       "      <th>8898</th>\n",
       "      <td>1</td>\n",
       "      <td>0.000300</td>\n",
       "      <td>0.005000</td>\n",
       "      <td>3</td>\n",
       "      <td>9</td>\n",
       "      <td>3.002740</td>\n",
       "      <td>213479867994200</td>\n",
       "      <td>8479346.0</td>\n",
       "      <td>2226192.0</td>\n",
       "      <td>7838181.0</td>\n",
       "      <td>...</td>\n",
       "      <td>45.104083</td>\n",
       "      <td>42.163259</td>\n",
       "      <td>41.823799</td>\n",
       "      <td>0.0</td>\n",
       "      <td>0.0</td>\n",
       "      <td>0.0</td>\n",
       "      <td>0.0</td>\n",
       "      <td>1</td>\n",
       "      <td>2020</td>\n",
       "      <td>10</td>\n",
       "    </tr>\n",
       "    <tr>\n",
       "      <th>8899</th>\n",
       "      <td>1</td>\n",
       "      <td>0.000300</td>\n",
       "      <td>0.005000</td>\n",
       "      <td>3</td>\n",
       "      <td>9</td>\n",
       "      <td>3.084932</td>\n",
       "      <td>213479867994200</td>\n",
       "      <td>14776729.0</td>\n",
       "      <td>8479346.0</td>\n",
       "      <td>2226192.0</td>\n",
       "      <td>...</td>\n",
       "      <td>50.078151</td>\n",
       "      <td>45.435000</td>\n",
       "      <td>44.184497</td>\n",
       "      <td>0.0</td>\n",
       "      <td>0.0</td>\n",
       "      <td>0.0</td>\n",
       "      <td>0.0</td>\n",
       "      <td>1</td>\n",
       "      <td>2020</td>\n",
       "      <td>11</td>\n",
       "    </tr>\n",
       "    <tr>\n",
       "      <th>8900</th>\n",
       "      <td>1</td>\n",
       "      <td>0.000300</td>\n",
       "      <td>0.005000</td>\n",
       "      <td>3</td>\n",
       "      <td>9</td>\n",
       "      <td>3.169863</td>\n",
       "      <td>213479867994200</td>\n",
       "      <td>24501245.0</td>\n",
       "      <td>14776729.0</td>\n",
       "      <td>8479346.0</td>\n",
       "      <td>...</td>\n",
       "      <td>55.058680</td>\n",
       "      <td>48.952903</td>\n",
       "      <td>46.809153</td>\n",
       "      <td>0.0</td>\n",
       "      <td>0.0</td>\n",
       "      <td>0.0</td>\n",
       "      <td>0.0</td>\n",
       "      <td>1</td>\n",
       "      <td>2020</td>\n",
       "      <td>12</td>\n",
       "    </tr>\n",
       "    <tr>\n",
       "      <th>8901</th>\n",
       "      <td>1</td>\n",
       "      <td>0.000300</td>\n",
       "      <td>0.005000</td>\n",
       "      <td>3</td>\n",
       "      <td>9</td>\n",
       "      <td>3.254795</td>\n",
       "      <td>213479867994200</td>\n",
       "      <td>43874436.0</td>\n",
       "      <td>24501245.0</td>\n",
       "      <td>14776729.0</td>\n",
       "      <td>...</td>\n",
       "      <td>62.794088</td>\n",
       "      <td>54.256481</td>\n",
       "      <td>50.787034</td>\n",
       "      <td>0.0</td>\n",
       "      <td>0.0</td>\n",
       "      <td>0.0</td>\n",
       "      <td>0.0</td>\n",
       "      <td>1</td>\n",
       "      <td>2021</td>\n",
       "      <td>1</td>\n",
       "    </tr>\n",
       "  </tbody>\n",
       "</table>\n",
       "<p>8497 rows × 59 columns</p>\n",
       "</div>"
      ],
      "text/plain": [
       "      IS_STRATEGIC  ADMINSTRATION_FEES  MANAGEMENT_FEES  RISK_LEVEL_VALUE  \\\n",
       "5                0            0.000277         0.001631                 1   \n",
       "6                0            0.000277         0.001631                 1   \n",
       "7                0            0.000277         0.001631                 1   \n",
       "8                0            0.000277         0.001631                 1   \n",
       "9                0            0.000277         0.001631                 1   \n",
       "...            ...                 ...              ...               ...   \n",
       "8897             1            0.000300         0.005000                 3   \n",
       "8898             1            0.000300         0.005000                 3   \n",
       "8899             1            0.000300         0.005000                 3   \n",
       "8900             1            0.000300         0.005000                 3   \n",
       "8901             1            0.000300         0.005000                 3   \n",
       "\n",
       "      STRATEGY_CAPABILITY   FUND_AGE          SRC_UID  IN_FLOWS-s1  \\\n",
       "5                       8  15.057534        206670688   65517596.0   \n",
       "6                       8  15.142466        206670688   43293193.0   \n",
       "7                       8  15.227397        206670688   33504675.0   \n",
       "8                       8  15.309589        206670688   96312714.0   \n",
       "9                       8  15.394521        206670688  202455177.0   \n",
       "...                   ...        ...              ...          ...   \n",
       "8897                    9   2.917808  213479867994200    2226192.0   \n",
       "8898                    9   3.002740  213479867994200    8479346.0   \n",
       "8899                    9   3.084932  213479867994200   14776729.0   \n",
       "8900                    9   3.169863  213479867994200   24501245.0   \n",
       "8901                    9   3.254795  213479867994200   43874436.0   \n",
       "\n",
       "      IN_FLOWS-s2  IN_FLOWS-s3  ...  DOWNLOADED_DOCUMENTS-e3  \\\n",
       "5     104779215.0   68084125.0  ...                50.486189   \n",
       "6      65517596.0  104779215.0  ...                62.174896   \n",
       "7      43293193.0   65517596.0  ...                74.350064   \n",
       "8      33504675.0   43293193.0  ...                86.959309   \n",
       "9      96312714.0   33504675.0  ...                99.951095   \n",
       "...           ...          ...  ...                      ...   \n",
       "8897    7838181.0   14258055.0  ...                39.805275   \n",
       "8898    2226192.0    7838181.0  ...                45.104083   \n",
       "8899    8479346.0    2226192.0  ...                50.078151   \n",
       "8900   14776729.0    8479346.0  ...                55.058680   \n",
       "8901   24501245.0   14776729.0  ...                62.794088   \n",
       "\n",
       "      DOWNLOADED_DOCUMENTS-e6  DOWNLOADED_DOCUMENTS-e9  PSU_SCORE-e1  \\\n",
       "5                   45.147240                43.078265           0.0   \n",
       "6                   55.070827                52.263899           0.0   \n",
       "7                   65.337771                61.699019           0.0   \n",
       "8                   75.936351                71.379555           0.0   \n",
       "9                   86.853855                81.300990           0.0   \n",
       "...                       ...                      ...           ...   \n",
       "8897                39.011543                39.644003           0.0   \n",
       "8898                42.163259                41.823799           0.0   \n",
       "8899                45.435000                44.184497           0.0   \n",
       "8900                48.952903                46.809153           0.0   \n",
       "8901                54.256481                50.787034           0.0   \n",
       "\n",
       "      PSU_SCORE-e3  PSU_SCORE-e6  PSU_SCORE-e9  TARGET  FLOWS_YEAR  \\\n",
       "5              0.0           0.0           0.0      -1        2010   \n",
       "6              0.0           0.0           0.0      -1        2010   \n",
       "7              0.0           0.0           0.0       1        2010   \n",
       "8              0.0           0.0           0.0       1        2010   \n",
       "9              0.0           0.0           0.0       0        2010   \n",
       "...            ...           ...           ...     ...         ...   \n",
       "8897           0.0           0.0           0.0       1        2020   \n",
       "8898           0.0           0.0           0.0       1        2020   \n",
       "8899           0.0           0.0           0.0       1        2020   \n",
       "8900           0.0           0.0           0.0       1        2020   \n",
       "8901           0.0           0.0           0.0       1        2021   \n",
       "\n",
       "      FLOWS_MONTH  \n",
       "5               6  \n",
       "6               7  \n",
       "7               8  \n",
       "8               9  \n",
       "9              10  \n",
       "...           ...  \n",
       "8897            9  \n",
       "8898           10  \n",
       "8899           11  \n",
       "8900           12  \n",
       "8901            1  \n",
       "\n",
       "[8497 rows x 59 columns]"
      ]
     },
     "execution_count": 51,
     "metadata": {},
     "output_type": "execute_result"
    }
   ],
   "source": [
    "# create the steps and the transformation Pipeline\n",
    "steps = [('ts_2_supervised',myt.TS2Supervised(transformation=trans, breakdown=brk\n",
    "                                          , verbose=False, interpolation=False))]\n",
    "# create\n",
    "mychoice_pipeline = Pipeline(steps)\n",
    "\n",
    "mychoice_transformed_pipeline = mychoice_pipeline.fit_transform(X, y)\n",
    "\n",
    "\n",
    "mychoice_df = mychoice_transformed_pipeline.merge(df[['TARGET','FLOWS_YEAR','FLOWS_MONTH']], left_index=True, right_index=True).copy()\n",
    "mychoice_df.dropna(inplace=True)\n",
    "mychoice_df"
   ]
  },
  {
   "cell_type": "code",
   "execution_count": 52,
   "metadata": {},
   "outputs": [
    {
     "data": {
      "text/plain": [
       "Index(['IS_STRATEGIC', 'ADMINSTRATION_FEES', 'MANAGEMENT_FEES',\n",
       "       'RISK_LEVEL_VALUE', 'STRATEGY_CAPABILITY', 'FUND_AGE', 'SRC_UID',\n",
       "       'IN_FLOWS-s1', 'IN_FLOWS-s2', 'IN_FLOWS-s3', 'OUT_FLOWS-s1',\n",
       "       'OUT_FLOWS-s2', 'OUT_FLOWS-s3', 'AUM-s1', 'AUM-s2', 'AUM-s3',\n",
       "       'BENCH_PERF_SLOPE-r1', 'BENCH_PERF_SLOPE-r3', 'BENCH_PERF_SLOPE-r6',\n",
       "       'BENCH_PERF_SLOPE_ERROR-r1', 'BENCH_PERF_SLOPE_ERROR-r3',\n",
       "       'BENCH_PERF_SLOPE_ERROR-r6', 'BENCH_VOL_SLOPE-r1', 'BENCH_VOL_SLOPE-r3',\n",
       "       'BENCH_VOL_SLOPE-r6', 'BENCH_VOL_SLOPE_ERROR-r1',\n",
       "       'BENCH_VOL_SLOPE_ERROR-r3', 'BENCH_VOL_SLOPE_ERROR-r6',\n",
       "       'NAV_PERF_SLOPE-r1', 'NAV_PERF_SLOPE-r3', 'NAV_PERF_SLOPE-r6',\n",
       "       'NAV_PERF_SLOPE_ERROR-r1', 'NAV_PERF_SLOPE_ERROR-r3',\n",
       "       'NAV_PERF_SLOPE_ERROR-r6', 'NAV_VOL_SLOPE-r1', 'NAV_VOL_SLOPE-r3',\n",
       "       'NAV_VOL_SLOPE-r6', 'NAV_VOL_SLOPE_ERROR-r1', 'NAV_VOL_SLOPE_ERROR-r3',\n",
       "       'NAV_VOL_SLOPE_ERROR-r6', 'POSITIVE_RFP-e1', 'POSITIVE_RFP-e3',\n",
       "       'POSITIVE_RFP-e6', 'POSITIVE_RFP-e9', 'EVENT_IMPACT-e1',\n",
       "       'EVENT_IMPACT-e3', 'EVENT_IMPACT-e6', 'EVENT_IMPACT-e9',\n",
       "       'DOWNLOADED_DOCUMENTS-e1', 'DOWNLOADED_DOCUMENTS-e3',\n",
       "       'DOWNLOADED_DOCUMENTS-e6', 'DOWNLOADED_DOCUMENTS-e9', 'PSU_SCORE-e1',\n",
       "       'PSU_SCORE-e3', 'PSU_SCORE-e6', 'PSU_SCORE-e9', 'TARGET', 'FLOWS_YEAR',\n",
       "       'FLOWS_MONTH'],\n",
       "      dtype='object')"
      ]
     },
     "execution_count": 52,
     "metadata": {},
     "output_type": "execute_result"
    }
   ],
   "source": [
    "mychoice_df.columns"
   ]
  },
  {
   "cell_type": "code",
   "execution_count": 53,
   "metadata": {},
   "outputs": [
    {
     "data": {
      "text/plain": [
       "((6789, 58), (6789,), (1152, 58), (1152,), (556, 58), (556,))"
      ]
     },
     "execution_count": 53,
     "metadata": {},
     "output_type": "execute_result"
    }
   ],
   "source": [
    "X_train, y_train, X_validation, y_validation, X_test, y_test, _, _ = split_dataset(mychoice_df)\n",
    "X_train.shape, y_train.shape, X_validation.shape, y_validation.shape, X_test.shape, y_test.shape"
   ]
  },
  {
   "cell_type": "code",
   "execution_count": 54,
   "metadata": {},
   "outputs": [
    {
     "name": "stderr",
     "output_type": "stream",
     "text": [
      "100%|██████████| 5/5 [01:31<00:00, 18.24s/it]"
     ]
    },
    {
     "name": "stdout",
     "output_type": "stream",
     "text": [
      "['LR: 0.523061 (0.024157)', 'SVM: 0.544126 (0.031456)', 'KNN: 0.515251 (0.016527)', 'TREE: 0.447200 (0.021602)', 'FOREST: 0.510098 (0.022538)']\n"
     ]
    },
    {
     "name": "stderr",
     "output_type": "stream",
     "text": [
      "\n"
     ]
    }
   ],
   "source": [
    "results, names = run_pipelines(X_train, y_train)\n",
    "logging.info('MODEL-02 My Choice features and and custom transformation configuration files with {}'.format(len(all_cols)-4))\n",
    "logging.info('Results: \\n\\n{}'.format(results))\n",
    "logging.info('--------------------------------------------------------------------------------------------------')"
   ]
  },
  {
   "cell_type": "code",
   "execution_count": 55,
   "metadata": {},
   "outputs": [
    {
     "data": {
      "image/png": "[encoded data removed]",
      "text/plain": [
       "<Figure size 1080x504 with 1 Axes>"
      ]
     },
     "metadata": {
      "needs_background": "light"
     },
     "output_type": "display_data"
    }
   ],
   "source": [
    "# Compare Algorithms\n",
    "fig = plt.figure(figsize=(15,7))\n",
    "fig.suptitle('Modeling Phase II Algorithm Comparison')\n",
    "ax = fig.add_subplot(111)\n",
    "plt.boxplot(results)\n",
    "ax.set_xticklabels(names)\n",
    "plt.show()"
   ]
  },
  {
   "cell_type": "markdown",
   "metadata": {},
   "source": [
    "## Observation\n",
    "The average score increase a little bit from the Model 01 (SelectKBest). I will iterate through classifier and tune parameter to have a better result."
   ]
  },
  {
   "cell_type": "markdown",
   "metadata": {},
   "source": [
    "### Fine Tune the K-Neighbors Classifier\n",
    "\n",
    "Even the score is lower than the other I try to improve theresult by evaluating the model with a grid search and specific parameter"
   ]
  },
  {
   "cell_type": "code",
   "execution_count": 56,
   "metadata": {},
   "outputs": [
    {
     "data": {
      "text/plain": [
       "dict_keys(['memory', 'steps', 'verbose', 'Scaler', 'Power', 'KNN', 'Scaler__copy', 'Scaler__with_mean', 'Scaler__with_std', 'Power__copy', 'Power__method', 'Power__standardize', 'KNN__algorithm', 'KNN__leaf_size', 'KNN__metric', 'KNN__metric_params', 'KNN__n_jobs', 'KNN__n_neighbors', 'KNN__p', 'KNN__weights'])"
      ]
     },
     "execution_count": 56,
     "metadata": {},
     "output_type": "execute_result"
    }
   ],
   "source": [
    "pipeline=None\n",
    "for n, m in pipelines:\n",
    "    if n=='KNN':\n",
    "        pipeline=m\n",
    "\n",
    "\n",
    "X_train=X_train.astype('float64')\n",
    "y_train=y_train.astype('float64')\n",
    "\n",
    "pipeline.get_params().keys()"
   ]
  },
  {
   "cell_type": "code",
   "execution_count": 57,
   "metadata": {},
   "outputs": [
    {
     "name": "stdout",
     "output_type": "stream",
     "text": [
      "Fitting 3 folds for each of 20 candidates, totalling 60 fits\n"
     ]
    },
    {
     "name": "stderr",
     "output_type": "stream",
     "text": [
      "[Parallel(n_jobs=-1)]: Using backend LokyBackend with 32 concurrent workers.\n",
      "[Parallel(n_jobs=-1)]: Done  18 out of  60 | elapsed:    6.4s remaining:   14.8s\n",
      "[Parallel(n_jobs=-1)]: Done  39 out of  60 | elapsed:    7.7s remaining:    4.1s\n",
      "[Parallel(n_jobs=-1)]: Done  60 out of  60 | elapsed:    8.6s remaining:    0.0s\n",
      "[Parallel(n_jobs=-1)]: Done  60 out of  60 | elapsed:    8.6s finished\n"
     ]
    },
    {
     "name": "stdout",
     "output_type": "stream",
     "text": [
      "Best parameter (CV score=0.404):\n",
      "{'KNN__algorithm': 'auto', 'KNN__n_neighbors': 1000, 'KNN__p': 2}\n",
      "Confusion Matrix\n",
      "\n",
      "[[275  77  47]\n",
      " [217 102  81]\n",
      " [213  34 106]]\n",
      "\n",
      "Accuracy: 0.42\n",
      "\n",
      "Micro Precision: 0.42\n",
      "Micro Recall: 0.42\n",
      "Micro F1-score: 0.42\n",
      "\n",
      "Macro Precision: 0.44\n",
      "Macro Recall: 0.41\n",
      "Macro F1-score: 0.40\n",
      "\n",
      "Weighted Precision: 0.44\n",
      "Weighted Recall: 0.42\n",
      "Weighted F1-score: 0.40\n",
      "\n",
      "Classification Report\n",
      "\n",
      "              precision    recall  f1-score   support\n",
      "\n",
      "   Out Flows       0.39      0.69      0.50       399\n",
      "NeutralFlows       0.48      0.26      0.33       400\n",
      "    In Flows       0.45      0.30      0.36       353\n",
      "\n",
      "    accuracy                           0.42      1152\n",
      "   macro avg       0.44      0.41      0.40      1152\n",
      "weighted avg       0.44      0.42      0.40      1152\n",
      "\n"
     ]
    }
   ],
   "source": [
    "# Create the random grid\n",
    "parameter_space = {'KNN__n_neighbors': [50,100,300,500,1000],\n",
    "                  'KNN__algorithm':['auto','brute'],\n",
    "                   'KNN__p':[1,2]\n",
    "\n",
    "                  }\n",
    "logging.info('GridSearchCV - MODEL2 - Logistic Regression')\n",
    "cv_model2_knn = GridSearchCV(pipeline, parameter_space, n_jobs=-1, verbose=3)\n",
    "cv_model2_knn.fit(X_train, y_train)\n",
    "print(\"Best parameter (CV score=%0.3f):\" % cv_model2_knn.best_score_)\n",
    "print(cv_model2_knn.best_params_)\n",
    "best_estimator_knn = cv_model2_knn.best_estimator_\n",
    "y_pred=best_estimator_knn.predict(X_validation)\n",
    "acc, conf = metrics_report(y_validation, y_pred)\n",
    "logging.info('MODEL2 - KNN - GridSearchCV -EVALUATED')"
   ]
  },
  {
   "cell_type": "code",
   "execution_count": 58,
   "metadata": {},
   "outputs": [
    {
     "data": {
      "image/png": "[encoded data removed]",
      "text/plain": [
       "<Figure size 432x288 with 1 Axes>"
      ]
     },
     "metadata": {
      "needs_background": "light"
     },
     "output_type": "display_data"
    },
    {
     "data": {
      "text/plain": [
       "ROCAUC(ax=<AxesSubplot:title={'center':'ROC Curves for KNeighborsClassifier'}, xlabel='False Positive Rate', ylabel='True Positive Rate'>,\n",
       "       binary=None, classes=None,\n",
       "       encoder={-1: 'Out flows', 0: 'no flows / neutral', 1: 'in flows'},\n",
       "       estimator=Pipeline(memory=None,\n",
       "                          steps=[('Scaler',\n",
       "                                  StandardScaler(copy=True, with_mean=True,\n",
       "                                                 with_std=True)),\n",
       "                                 ('Power',\n",
       "                                  PowerTransformer(copy=True,\n",
       "                                                   method='yeo-johnson',\n",
       "                                                   standardize=True)),\n",
       "                                 ('KNN',\n",
       "                                  KNeighborsClassifier(algorithm='auto',\n",
       "                                                       leaf_size=30,\n",
       "                                                       metric='minkowski',\n",
       "                                                       metric_params=None,\n",
       "                                                       n_jobs=None,\n",
       "                                                       n_neighbors=1000, p=2,\n",
       "                                                       weights='uniform'))],\n",
       "                          verbose=False),\n",
       "       force_model=False, is_fitted='auto', macro=True, micro=True,\n",
       "       per_class=True)"
      ]
     },
     "execution_count": 58,
     "metadata": {},
     "output_type": "execute_result"
    }
   ],
   "source": [
    "plot_ROC_curve(best_estimator_knn, X_train, y_train, X_validation, y_validation)"
   ]
  },
  {
   "cell_type": "code",
   "execution_count": 59,
   "metadata": {},
   "outputs": [],
   "source": [
    "now = datetime.now()\n",
    "filename = 'res/result--' + now.strftime(\"%m%d%Y%H%M%S\") + '.res'\n",
    "resultat=[now.strftime(\"%m%d%Y%H%M%S\"),2,'Decision Tree',pipeline,parameter_space,acc,conf,trans,'Fine tuning model 2 KNN.']\n",
    "r = pd.DataFrame(resultat)\n",
    "r.T.to_csv(filename, header=None)\n"
   ]
  },
  {
   "cell_type": "markdown",
   "metadata": {},
   "source": [
    "### Fine Tune the LogisticRegression\n",
    "\n",
    "I will setup a parameter grid and run a GridSearch"
   ]
  },
  {
   "cell_type": "code",
   "execution_count": 60,
   "metadata": {},
   "outputs": [
    {
     "data": {
      "text/plain": [
       "dict_keys(['memory', 'steps', 'verbose', 'Scaler', 'Power', 'LR', 'Scaler__copy', 'Scaler__with_mean', 'Scaler__with_std', 'Power__copy', 'Power__method', 'Power__standardize', 'LR__C', 'LR__class_weight', 'LR__dual', 'LR__fit_intercept', 'LR__intercept_scaling', 'LR__l1_ratio', 'LR__max_iter', 'LR__multi_class', 'LR__n_jobs', 'LR__penalty', 'LR__random_state', 'LR__solver', 'LR__tol', 'LR__verbose', 'LR__warm_start'])"
      ]
     },
     "execution_count": 60,
     "metadata": {},
     "output_type": "execute_result"
    }
   ],
   "source": [
    "pipeline=None\n",
    "for n, m in pipelines:\n",
    "    if n=='LR':\n",
    "        pipeline=m\n",
    "\n",
    "\n",
    "X_train=X_train.astype('float64')\n",
    "y_train=y_train.astype('float64')\n",
    "\n",
    "pipeline.get_params().keys()"
   ]
  },
  {
   "cell_type": "code",
   "execution_count": 61,
   "metadata": {},
   "outputs": [
    {
     "name": "stdout",
     "output_type": "stream",
     "text": [
      "Fitting 3 folds for each of 14 candidates, totalling 42 fits\n"
     ]
    },
    {
     "name": "stderr",
     "output_type": "stream",
     "text": [
      "[Parallel(n_jobs=-1)]: Using backend LokyBackend with 32 concurrent workers.\n",
      "[Parallel(n_jobs=-1)]: Done   9 out of  42 | elapsed:    3.1s remaining:   11.3s\n",
      "[Parallel(n_jobs=-1)]: Done  24 out of  42 | elapsed:    4.7s remaining:    3.6s\n",
      "[Parallel(n_jobs=-1)]: Done  39 out of  42 | elapsed:    8.9s remaining:    0.7s\n",
      "[Parallel(n_jobs=-1)]: Done  42 out of  42 | elapsed:    9.1s finished\n"
     ]
    },
    {
     "name": "stdout",
     "output_type": "stream",
     "text": [
      "Best parameter (CV score=0.449):\n",
      "{'LR__C': 1000, 'LR__multi_class': 'auto'}\n",
      "Confusion Matrix\n",
      "\n",
      "[[197  95 107]\n",
      " [ 97 160 143]\n",
      " [ 82  52 219]]\n",
      "\n",
      "Accuracy: 0.50\n",
      "\n",
      "Micro Precision: 0.50\n",
      "Micro Recall: 0.50\n",
      "Micro F1-score: 0.50\n",
      "\n",
      "Macro Precision: 0.50\n",
      "Macro Recall: 0.50\n",
      "Macro F1-score: 0.50\n",
      "\n",
      "Weighted Precision: 0.51\n",
      "Weighted Recall: 0.50\n",
      "Weighted F1-score: 0.50\n",
      "\n",
      "Classification Report\n",
      "\n",
      "              precision    recall  f1-score   support\n",
      "\n",
      "   Out Flows       0.52      0.49      0.51       399\n",
      "NeutralFlows       0.52      0.40      0.45       400\n",
      "    In Flows       0.47      0.62      0.53       353\n",
      "\n",
      "    accuracy                           0.50      1152\n",
      "   macro avg       0.50      0.50      0.50      1152\n",
      "weighted avg       0.51      0.50      0.50      1152\n",
      "\n"
     ]
    }
   ],
   "source": [
    "# Create the random grid\n",
    "parameter_space = {'LR__multi_class': ['auto','ovr'],\n",
    "                  'LR__C':[0.0001, 0.001,0.01,1,100,1000,10000]\n",
    "\n",
    "                  }\n",
    "logging.info('GridSearchCV - MODEL2 - Logistic Regression')\n",
    "cv_model2lr = GridSearchCV(pipeline, parameter_space, n_jobs=-1, verbose=3)\n",
    "cv_model2lr.fit(X_train, y_train)\n",
    "print(\"Best parameter (CV score=%0.3f):\" % cv_model2lr.best_score_)\n",
    "print(cv_model2lr.best_params_)\n",
    "best_estimator_lr = cv_model2lr.best_estimator_\n",
    "y_pred=best_estimator_lr.predict(X_validation)\n",
    "acc, conf = metrics_report(y_validation, y_pred)\n",
    "logging.info('MODEL2 - Logistic Regression - GridSearchCV -EVALUATED')"
   ]
  },
  {
   "cell_type": "code",
   "execution_count": 62,
   "metadata": {},
   "outputs": [
    {
     "data": {
      "image/png": "[encoded data removed]",
      "text/plain": [
       "<Figure size 432x288 with 1 Axes>"
      ]
     },
     "metadata": {
      "needs_background": "light"
     },
     "output_type": "display_data"
    },
    {
     "data": {
      "text/plain": [
       "ROCAUC(ax=<AxesSubplot:title={'center':'ROC Curves for LogisticRegression'}, xlabel='False Positive Rate', ylabel='True Positive Rate'>,\n",
       "       binary=None, classes=None,\n",
       "       encoder={-1: 'Out flows', 0: 'no flows / neutral', 1: 'in flows'},\n",
       "       estimator=Pipeline(memory=None,\n",
       "                          steps=[('Scaler',\n",
       "                                  StandardScaler(copy=True, with_mean=True,\n",
       "                                                 with_std=True)),\n",
       "                                 ('Power',\n",
       "                                  PowerTransformer(copy=True,\n",
       "                                                   me...\n",
       "                                                   standardize=True)),\n",
       "                                 ('LR',\n",
       "                                  LogisticRegression(C=1000, class_weight=None,\n",
       "                                                     dual=False,\n",
       "                                                     fit_intercept=True,\n",
       "                                                     intercept_scaling=1,\n",
       "                                                     l1_ratio=None,\n",
       "                                                     max_iter=100,\n",
       "                                                     multi_class='auto',\n",
       "                                                     n_jobs=None, penalty='l2',\n",
       "                                                     random_state=42,\n",
       "                                                     solver='liblinear',\n",
       "                                                     tol=0.0001, verbose=0,\n",
       "                                                     warm_start=False))],\n",
       "                          verbose=False),\n",
       "       force_model=False, is_fitted='auto', macro=True, micro=True,\n",
       "       per_class=True)"
      ]
     },
     "execution_count": 62,
     "metadata": {},
     "output_type": "execute_result"
    }
   ],
   "source": [
    "plot_ROC_curve(best_estimator_lr, X_train, y_train, X_validation, y_validation)"
   ]
  },
  {
   "cell_type": "code",
   "execution_count": 63,
   "metadata": {},
   "outputs": [],
   "source": [
    "now = datetime.now()\n",
    "filename = 'res/result--' + now.strftime(\"%m%d%Y%H%M%S\") + '.res'\n",
    "resultat=[now.strftime(\"%m%d%Y%H%M%S\"),2,'Decision Tree',pipeline,parameter_space,acc,conf,trans,'Fine tuning model 2 KNN.']\n",
    "r = pd.DataFrame(resultat)\n",
    "r.T.to_csv(filename, header=None)\n"
   ]
  },
  {
   "cell_type": "markdown",
   "metadata": {},
   "source": [
    "## Decision Tree Classifier\n",
    "\n",
    "It's seems I have good prognose result with the Decision Tree Classifier. Let's try to improve the result."
   ]
  },
  {
   "cell_type": "code",
   "execution_count": 64,
   "metadata": {},
   "outputs": [
    {
     "data": {
      "text/plain": [
       "dict_keys(['memory', 'steps', 'verbose', 'Scaler', 'Power', 'TREE', 'Scaler__copy', 'Scaler__with_mean', 'Scaler__with_std', 'Power__copy', 'Power__method', 'Power__standardize', 'TREE__class_weight', 'TREE__criterion', 'TREE__max_depth', 'TREE__max_features', 'TREE__max_leaf_nodes', 'TREE__min_impurity_decrease', 'TREE__min_impurity_split', 'TREE__min_samples_leaf', 'TREE__min_samples_split', 'TREE__min_weight_fraction_leaf', 'TREE__presort', 'TREE__random_state', 'TREE__splitter'])"
      ]
     },
     "execution_count": 64,
     "metadata": {},
     "output_type": "execute_result"
    }
   ],
   "source": [
    "pipeline=None\n",
    "for n, m in pipelines:\n",
    "    if n=='TREE':\n",
    "        pipeline=m\n",
    "\n",
    "\n",
    "X_train=X_train.astype('float64')\n",
    "y_train=y_train.astype('float64')\n",
    "\n",
    "pipeline.get_params().keys()"
   ]
  },
  {
   "cell_type": "code",
   "execution_count": 65,
   "metadata": {
    "scrolled": false
   },
   "outputs": [
    {
     "name": "stdout",
     "output_type": "stream",
     "text": [
      "Fitting 3 folds for each of 72 candidates, totalling 216 fits\n"
     ]
    },
    {
     "name": "stderr",
     "output_type": "stream",
     "text": [
      "[Parallel(n_jobs=-1)]: Using backend LokyBackend with 32 concurrent workers.\n",
      "[Parallel(n_jobs=-1)]: Done  64 tasks      | elapsed:    4.3s\n",
      "[Parallel(n_jobs=-1)]: Done 216 out of 216 | elapsed:    9.4s finished\n"
     ]
    },
    {
     "name": "stdout",
     "output_type": "stream",
     "text": [
      "Best parameter (CV score=0.381):\n",
      "{'TREE__criterion': 'entropy', 'TREE__max_depth': 10, 'TREE__max_features': 'log2', 'TREE__splitter': 'random'}\n",
      "Confusion Matrix\n",
      "\n",
      "[[172 137  90]\n",
      " [118 194  88]\n",
      " [118 103 132]]\n",
      "\n",
      "Accuracy: 0.43\n",
      "\n",
      "Micro Precision: 0.43\n",
      "Micro Recall: 0.43\n",
      "Micro F1-score: 0.43\n",
      "\n",
      "Macro Precision: 0.43\n",
      "Macro Recall: 0.43\n",
      "Macro F1-score: 0.43\n",
      "\n",
      "Weighted Precision: 0.43\n",
      "Weighted Recall: 0.43\n",
      "Weighted F1-score: 0.43\n",
      "\n",
      "Classification Report\n",
      "\n",
      "              precision    recall  f1-score   support\n",
      "\n",
      "   Out Flows       0.42      0.43      0.43       399\n",
      "NeutralFlows       0.45      0.48      0.47       400\n",
      "    In Flows       0.43      0.37      0.40       353\n",
      "\n",
      "    accuracy                           0.43      1152\n",
      "   macro avg       0.43      0.43      0.43      1152\n",
      "weighted avg       0.43      0.43      0.43      1152\n",
      "\n"
     ]
    }
   ],
   "source": [
    "# Create the random grid\n",
    "parameter_space = {'TREE__criterion': ['gini','entropy'],\n",
    "                  'TREE__max_depth':[None,5,10,15,20,50],\n",
    "                   'TREE__splitter':['best','random'],\n",
    "                   'TREE__max_features':['auto','sqrt','log2']\n",
    "\n",
    "                  }\n",
    "logging.info('GridSearchCV - MODEL2 - Decision Tree')\n",
    "cv_model2 = GridSearchCV(pipeline, parameter_space, n_jobs=-1, verbose=3)\n",
    "cv_model2.fit(X_train, y_train)\n",
    "print(\"Best parameter (CV score=%0.3f):\" % cv_model2.best_score_)\n",
    "print(cv_model2.best_params_)\n",
    "best_estimator_tree = cv_model2.best_estimator_\n",
    "y_pred=best_estimator_tree.predict(X_validation)\n",
    "acc, conf = metrics_report(y_validation, y_pred)\n",
    "logging.info('MODEL2 - DecisionTree - GridSearchCV -EVALUATED')"
   ]
  },
  {
   "cell_type": "code",
   "execution_count": 66,
   "metadata": {},
   "outputs": [
    {
     "data": {
      "image/png": "[encoded data removed]",
      "text/plain": [
       "<Figure size 432x288 with 1 Axes>"
      ]
     },
     "metadata": {
      "needs_background": "light"
     },
     "output_type": "display_data"
    },
    {
     "data": {
      "text/plain": [
       "ROCAUC(ax=<AxesSubplot:title={'center':'ROC Curves for DecisionTreeClassifier'}, xlabel='False Positive Rate', ylabel='True Positive Rate'>,\n",
       "       binary=None, classes=None,\n",
       "       encoder={-1: 'Out flows', 0: 'no flows / neutral', 1: 'in flows'},\n",
       "       estimator=Pipeline(memory=None,\n",
       "                          steps=[('Scaler',\n",
       "                                  StandardScaler(copy=True, with_mean=True,\n",
       "                                                 with_std=True)),\n",
       "                                 ('Power',\n",
       "                                  PowerTransformer(copy=Tru...\n",
       "                                  DecisionTreeClassifier(class_weight=None,\n",
       "                                                         criterion='entropy',\n",
       "                                                         max_depth=10,\n",
       "                                                         max_features='log2',\n",
       "                                                         max_leaf_nodes=None,\n",
       "                                                         min_impurity_decrease=0.0,\n",
       "                                                         min_impurity_split=None,\n",
       "                                                         min_samples_leaf=1,\n",
       "                                                         min_samples_split=2,\n",
       "                                                         min_weight_fraction_leaf=0.0,\n",
       "                                                         presort=False,\n",
       "                                                         random_state=42,\n",
       "                                                         splitter='random'))],\n",
       "                          verbose=False),\n",
       "       force_model=False, is_fitted='auto', macro=True, micro=True,\n",
       "       per_class=True)"
      ]
     },
     "execution_count": 66,
     "metadata": {},
     "output_type": "execute_result"
    }
   ],
   "source": [
    "plot_ROC_curve(best_estimator_tree, X_train, y_train, X_validation, y_validation)"
   ]
  },
  {
   "cell_type": "code",
   "execution_count": 67,
   "metadata": {},
   "outputs": [],
   "source": [
    "now = datetime.now()\n",
    "filename = 'res/result--' + now.strftime(\"%m%d%Y%H%M%S\") + '.res'\n",
    "resultat=[now.strftime(\"%m%d%Y%H%M%S\"),2,'Decision Tree',pipeline,parameter_space,acc,conf,trans,'Fine tuning model 2 Decision Tree.']\n",
    "r = pd.DataFrame(resultat)\n",
    "r.T.to_csv(filename, header=None)\n"
   ]
  },
  {
   "cell_type": "markdown",
   "metadata": {},
   "source": [
    "### Fine Tune the SVM Classifier"
   ]
  },
  {
   "cell_type": "code",
   "execution_count": 68,
   "metadata": {},
   "outputs": [
    {
     "data": {
      "text/plain": [
       "dict_keys(['memory', 'steps', 'verbose', 'Scaler', 'Power', 'SVC', 'Scaler__copy', 'Scaler__with_mean', 'Scaler__with_std', 'Power__copy', 'Power__method', 'Power__standardize', 'SVC__C', 'SVC__cache_size', 'SVC__class_weight', 'SVC__coef0', 'SVC__decision_function_shape', 'SVC__degree', 'SVC__gamma', 'SVC__kernel', 'SVC__max_iter', 'SVC__probability', 'SVC__random_state', 'SVC__shrinking', 'SVC__tol', 'SVC__verbose'])"
      ]
     },
     "execution_count": 68,
     "metadata": {},
     "output_type": "execute_result"
    }
   ],
   "source": [
    "pipeline=None\n",
    "for n, m in pipelines:\n",
    "    if n=='SVM':\n",
    "        pipeline=m\n",
    "\n",
    "\n",
    "X_train=X_train.astype('float64')\n",
    "y_train=y_train.astype('float64')\n",
    "\n",
    "pipeline.get_params().keys()"
   ]
  },
  {
   "cell_type": "code",
   "execution_count": 69,
   "metadata": {
    "scrolled": false
   },
   "outputs": [
    {
     "name": "stdout",
     "output_type": "stream",
     "text": [
      "Fitting 3 folds for each of 45 candidates, totalling 135 fits\n"
     ]
    },
    {
     "name": "stderr",
     "output_type": "stream",
     "text": [
      "[Parallel(n_jobs=-1)]: Using backend LokyBackend with 32 concurrent workers.\n",
      "[Parallel(n_jobs=-1)]: Done  64 tasks      | elapsed:   21.8s\n",
      "[Parallel(n_jobs=-1)]: Done 118 out of 135 | elapsed:   45.0s remaining:    6.5s\n",
      "[Parallel(n_jobs=-1)]: Done 135 out of 135 | elapsed:  3.9min finished\n"
     ]
    },
    {
     "name": "stdout",
     "output_type": "stream",
     "text": [
      "Best parameter (CV score=0.439):\n",
      "{'SVC__C': 1, 'SVC__degree': 3, 'SVC__kernel': 'linear'}\n",
      "Confusion Matrix\n",
      "\n",
      "[[251  80  68]\n",
      " [152 131 117]\n",
      " [126  50 177]]\n",
      "\n",
      "Accuracy: 0.49\n",
      "\n",
      "Micro Precision: 0.49\n",
      "Micro Recall: 0.49\n",
      "Micro F1-score: 0.49\n",
      "\n",
      "Macro Precision: 0.49\n",
      "Macro Recall: 0.49\n",
      "Macro F1-score: 0.48\n",
      "\n",
      "Weighted Precision: 0.49\n",
      "Weighted Recall: 0.49\n",
      "Weighted F1-score: 0.48\n",
      "\n",
      "Classification Report\n",
      "\n",
      "              precision    recall  f1-score   support\n",
      "\n",
      "   Out Flows       0.47      0.63      0.54       399\n",
      "NeutralFlows       0.50      0.33      0.40       400\n",
      "    In Flows       0.49      0.50      0.50       353\n",
      "\n",
      "    accuracy                           0.49      1152\n",
      "   macro avg       0.49      0.49      0.48      1152\n",
      "weighted avg       0.49      0.49      0.48      1152\n",
      "\n"
     ]
    }
   ],
   "source": [
    "# Create the random grid\n",
    "parameter_space = {'SVC__C':[0.001, 0.1,1,10,100],\n",
    "                   'SVC__kernel':['linear','poly','sigmoid'],\n",
    "                   'SVC__degree':[3,5,9]\n",
    "                  }\n",
    "logging.info('GridSearchCV - MODEL2 - SVC')\n",
    "cv_model2 = GridSearchCV(pipeline, parameter_space, n_jobs=-1, verbose=3)\n",
    "cv_model2.fit(X_train, y_train)\n",
    "print(\"Best parameter (CV score=%0.3f):\" % cv_model2.best_score_)\n",
    "print(cv_model2.best_params_)\n",
    "best_estimator_tree = cv_model2.best_estimator_\n",
    "y_pred=best_estimator_tree.predict(X_validation)\n",
    "acc, conf = metrics_report(y_validation, y_pred)\n",
    "logging.info('MODEL2 - SVC - GridSearchCV -EVALUATED')"
   ]
  },
  {
   "cell_type": "markdown",
   "metadata": {},
   "source": [
    "# Model 03"
   ]
  },
  {
   "cell_type": "code",
   "execution_count": 88,
   "metadata": {},
   "outputs": [],
   "source": [
    "trans = []\n",
    "for i in range(len(cols_flows)):\n",
    "    dico= {}\n",
    "    dico['cols'] = [cols_flows[i]]\n",
    "    dico['method'] = 'rolling'\n",
    "    dico['period'] = [2,3,6]\n",
    "    dico['original'] = False\n",
    "    trans.append(dico)\n",
    "    \n",
    "\n",
    "for i in range(len(cols_perfs)):\n",
    "    dico= {}\n",
    "    dico['cols'] = [cols_perfs[i]]\n",
    "    dico['method'] = 'shift'\n",
    "    dico['period'] = [2,3,5]\n",
    "    dico['original'] = False\n",
    "    trans.append(dico)\n",
    "    \n",
    "for i in range(len(cols_maktg)):\n",
    "    dico= {}\n",
    "    dico['cols'] = [cols_maktg[i]]\n",
    "    dico['method'] = 'expnading'\n",
    "    dico['period'] = [3,6,9]\n",
    "    dico['original'] = False\n",
    "    trans.append(dico)"
   ]
  },
  {
   "cell_type": "code",
   "execution_count": 89,
   "metadata": {},
   "outputs": [],
   "source": [
    "\n",
    "all_cols = cols_flows + cols_perfs + cols_maktg + cols_funds + ['SRC_UID','TARGET','FLOWS_YEAR','FLOWS_MONTH']\n",
    "\n",
    "my_choice_df_model_3 = df[all_cols].copy()\n",
    "\n",
    "X = my_choice_df_model_3.drop(['TARGET','FLOWS_YEAR','FLOWS_MONTH'], axis=1)\n",
    "y = my_choice_df_model_3.TARGET"
   ]
  },
  {
   "cell_type": "code",
   "execution_count": 90,
   "metadata": {},
   "outputs": [
    {
     "data": {
      "text/html": [
       "<div>\n",
       "<style scoped>\n",
       "    .dataframe tbody tr th:only-of-type {\n",
       "        vertical-align: middle;\n",
       "    }\n",
       "\n",
       "    .dataframe tbody tr th {\n",
       "        vertical-align: top;\n",
       "    }\n",
       "\n",
       "    .dataframe thead th {\n",
       "        text-align: right;\n",
       "    }\n",
       "</style>\n",
       "<table border=\"1\" class=\"dataframe\">\n",
       "  <thead>\n",
       "    <tr style=\"text-align: right;\">\n",
       "      <th></th>\n",
       "      <th>IS_STRATEGIC</th>\n",
       "      <th>ADMINSTRATION_FEES</th>\n",
       "      <th>MANAGEMENT_FEES</th>\n",
       "      <th>RISK_LEVEL_VALUE</th>\n",
       "      <th>STRATEGY_CAPABILITY</th>\n",
       "      <th>FUND_AGE</th>\n",
       "      <th>SRC_UID</th>\n",
       "      <th>IN_FLOWS-r2</th>\n",
       "      <th>IN_FLOWS-r3</th>\n",
       "      <th>IN_FLOWS-r6</th>\n",
       "      <th>...</th>\n",
       "      <th>NAV_PERF_SLOPE_ERROR-s5</th>\n",
       "      <th>NAV_VOL_SLOPE-s2</th>\n",
       "      <th>NAV_VOL_SLOPE-s3</th>\n",
       "      <th>NAV_VOL_SLOPE-s5</th>\n",
       "      <th>NAV_VOL_SLOPE_ERROR-s2</th>\n",
       "      <th>NAV_VOL_SLOPE_ERROR-s3</th>\n",
       "      <th>NAV_VOL_SLOPE_ERROR-s5</th>\n",
       "      <th>TARGET</th>\n",
       "      <th>FLOWS_YEAR</th>\n",
       "      <th>FLOWS_MONTH</th>\n",
       "    </tr>\n",
       "  </thead>\n",
       "  <tbody>\n",
       "    <tr>\n",
       "      <th>5</th>\n",
       "      <td>0</td>\n",
       "      <td>0.000277</td>\n",
       "      <td>0.001631</td>\n",
       "      <td>1</td>\n",
       "      <td>8</td>\n",
       "      <td>15.057534</td>\n",
       "      <td>206670688</td>\n",
       "      <td>54405394.5</td>\n",
       "      <td>7.119667e+07</td>\n",
       "      <td>7.345858e+07</td>\n",
       "      <td>...</td>\n",
       "      <td>0.004775</td>\n",
       "      <td>-0.000082</td>\n",
       "      <td>-0.000106</td>\n",
       "      <td>-0.000154</td>\n",
       "      <td>0.000607</td>\n",
       "      <td>0.000647</td>\n",
       "      <td>0.000694</td>\n",
       "      <td>-1</td>\n",
       "      <td>2010</td>\n",
       "      <td>6</td>\n",
       "    </tr>\n",
       "    <tr>\n",
       "      <th>6</th>\n",
       "      <td>0</td>\n",
       "      <td>0.000277</td>\n",
       "      <td>0.001631</td>\n",
       "      <td>1</td>\n",
       "      <td>8</td>\n",
       "      <td>15.142466</td>\n",
       "      <td>206670688</td>\n",
       "      <td>38398934.0</td>\n",
       "      <td>4.743849e+07</td>\n",
       "      <td>6.743118e+07</td>\n",
       "      <td>...</td>\n",
       "      <td>0.003938</td>\n",
       "      <td>-0.000062</td>\n",
       "      <td>-0.000082</td>\n",
       "      <td>-0.000127</td>\n",
       "      <td>0.000610</td>\n",
       "      <td>0.000607</td>\n",
       "      <td>0.000652</td>\n",
       "      <td>-1</td>\n",
       "      <td>2010</td>\n",
       "      <td>7</td>\n",
       "    </tr>\n",
       "    <tr>\n",
       "      <th>7</th>\n",
       "      <td>0</td>\n",
       "      <td>0.000277</td>\n",
       "      <td>0.001631</td>\n",
       "      <td>1</td>\n",
       "      <td>8</td>\n",
       "      <td>15.227397</td>\n",
       "      <td>206670688</td>\n",
       "      <td>64908694.5</td>\n",
       "      <td>5.770353e+07</td>\n",
       "      <td>6.858192e+07</td>\n",
       "      <td>...</td>\n",
       "      <td>0.003630</td>\n",
       "      <td>-0.000040</td>\n",
       "      <td>-0.000062</td>\n",
       "      <td>-0.000106</td>\n",
       "      <td>0.000655</td>\n",
       "      <td>0.000610</td>\n",
       "      <td>0.000647</td>\n",
       "      <td>1</td>\n",
       "      <td>2010</td>\n",
       "      <td>8</td>\n",
       "    </tr>\n",
       "    <tr>\n",
       "      <th>8</th>\n",
       "      <td>0</td>\n",
       "      <td>0.000277</td>\n",
       "      <td>0.001631</td>\n",
       "      <td>1</td>\n",
       "      <td>8</td>\n",
       "      <td>15.309589</td>\n",
       "      <td>206670688</td>\n",
       "      <td>149383945.5</td>\n",
       "      <td>1.107575e+08</td>\n",
       "      <td>9.097710e+07</td>\n",
       "      <td>...</td>\n",
       "      <td>0.002517</td>\n",
       "      <td>-0.000024</td>\n",
       "      <td>-0.000040</td>\n",
       "      <td>-0.000082</td>\n",
       "      <td>0.000736</td>\n",
       "      <td>0.000655</td>\n",
       "      <td>0.000607</td>\n",
       "      <td>1</td>\n",
       "      <td>2010</td>\n",
       "      <td>9</td>\n",
       "    </tr>\n",
       "    <tr>\n",
       "      <th>9</th>\n",
       "      <td>0</td>\n",
       "      <td>0.000277</td>\n",
       "      <td>0.001631</td>\n",
       "      <td>1</td>\n",
       "      <td>8</td>\n",
       "      <td>15.394521</td>\n",
       "      <td>206670688</td>\n",
       "      <td>159407637.5</td>\n",
       "      <td>1.383760e+08</td>\n",
       "      <td>9.290724e+07</td>\n",
       "      <td>...</td>\n",
       "      <td>0.001721</td>\n",
       "      <td>-0.000059</td>\n",
       "      <td>-0.000024</td>\n",
       "      <td>-0.000062</td>\n",
       "      <td>0.000741</td>\n",
       "      <td>0.000736</td>\n",
       "      <td>0.000610</td>\n",
       "      <td>0</td>\n",
       "      <td>2010</td>\n",
       "      <td>10</td>\n",
       "    </tr>\n",
       "    <tr>\n",
       "      <th>...</th>\n",
       "      <td>...</td>\n",
       "      <td>...</td>\n",
       "      <td>...</td>\n",
       "      <td>...</td>\n",
       "      <td>...</td>\n",
       "      <td>...</td>\n",
       "      <td>...</td>\n",
       "      <td>...</td>\n",
       "      <td>...</td>\n",
       "      <td>...</td>\n",
       "      <td>...</td>\n",
       "      <td>...</td>\n",
       "      <td>...</td>\n",
       "      <td>...</td>\n",
       "      <td>...</td>\n",
       "      <td>...</td>\n",
       "      <td>...</td>\n",
       "      <td>...</td>\n",
       "      <td>...</td>\n",
       "      <td>...</td>\n",
       "      <td>...</td>\n",
       "    </tr>\n",
       "    <tr>\n",
       "      <th>8897</th>\n",
       "      <td>1</td>\n",
       "      <td>0.000300</td>\n",
       "      <td>0.005000</td>\n",
       "      <td>3</td>\n",
       "      <td>9</td>\n",
       "      <td>2.917808</td>\n",
       "      <td>213479867994200</td>\n",
       "      <td>5352769.0</td>\n",
       "      <td>6.181240e+06</td>\n",
       "      <td>7.525536e+06</td>\n",
       "      <td>...</td>\n",
       "      <td>0.011942</td>\n",
       "      <td>-0.013975</td>\n",
       "      <td>-0.009852</td>\n",
       "      <td>0.018318</td>\n",
       "      <td>0.083748</td>\n",
       "      <td>0.074113</td>\n",
       "      <td>0.087565</td>\n",
       "      <td>1</td>\n",
       "      <td>2020</td>\n",
       "      <td>9</td>\n",
       "    </tr>\n",
       "    <tr>\n",
       "      <th>8898</th>\n",
       "      <td>1</td>\n",
       "      <td>0.000300</td>\n",
       "      <td>0.005000</td>\n",
       "      <td>3</td>\n",
       "      <td>9</td>\n",
       "      <td>3.002740</td>\n",
       "      <td>213479867994200</td>\n",
       "      <td>11628037.5</td>\n",
       "      <td>8.494089e+06</td>\n",
       "      <td>9.043410e+06</td>\n",
       "      <td>...</td>\n",
       "      <td>0.024880</td>\n",
       "      <td>-0.015355</td>\n",
       "      <td>-0.013975</td>\n",
       "      <td>-0.008385</td>\n",
       "      <td>0.083688</td>\n",
       "      <td>0.083748</td>\n",
       "      <td>0.109741</td>\n",
       "      <td>1</td>\n",
       "      <td>2020</td>\n",
       "      <td>10</td>\n",
       "    </tr>\n",
       "    <tr>\n",
       "      <th>8899</th>\n",
       "      <td>1</td>\n",
       "      <td>0.000300</td>\n",
       "      <td>0.005000</td>\n",
       "      <td>3</td>\n",
       "      <td>9</td>\n",
       "      <td>3.084932</td>\n",
       "      <td>213479867994200</td>\n",
       "      <td>19638987.0</td>\n",
       "      <td>1.591911e+07</td>\n",
       "      <td>1.201329e+07</td>\n",
       "      <td>...</td>\n",
       "      <td>0.026200</td>\n",
       "      <td>-0.001291</td>\n",
       "      <td>-0.015355</td>\n",
       "      <td>-0.009852</td>\n",
       "      <td>0.055365</td>\n",
       "      <td>0.083688</td>\n",
       "      <td>0.074113</td>\n",
       "      <td>1</td>\n",
       "      <td>2020</td>\n",
       "      <td>11</td>\n",
       "    </tr>\n",
       "    <tr>\n",
       "      <th>8900</th>\n",
       "      <td>1</td>\n",
       "      <td>0.000300</td>\n",
       "      <td>0.005000</td>\n",
       "      <td>3</td>\n",
       "      <td>9</td>\n",
       "      <td>3.169863</td>\n",
       "      <td>213479867994200</td>\n",
       "      <td>34187840.5</td>\n",
       "      <td>2.771747e+07</td>\n",
       "      <td>1.694935e+07</td>\n",
       "      <td>...</td>\n",
       "      <td>0.039523</td>\n",
       "      <td>-0.012080</td>\n",
       "      <td>-0.001291</td>\n",
       "      <td>-0.013975</td>\n",
       "      <td>0.070153</td>\n",
       "      <td>0.055365</td>\n",
       "      <td>0.083748</td>\n",
       "      <td>1</td>\n",
       "      <td>2020</td>\n",
       "      <td>12</td>\n",
       "    </tr>\n",
       "    <tr>\n",
       "      <th>8901</th>\n",
       "      <td>1</td>\n",
       "      <td>0.000300</td>\n",
       "      <td>0.005000</td>\n",
       "      <td>3</td>\n",
       "      <td>9</td>\n",
       "      <td>3.254795</td>\n",
       "      <td>213479867994200</td>\n",
       "      <td>40791878.0</td>\n",
       "      <td>3.536167e+07</td>\n",
       "      <td>2.192788e+07</td>\n",
       "      <td>...</td>\n",
       "      <td>0.042486</td>\n",
       "      <td>-0.003275</td>\n",
       "      <td>-0.012080</td>\n",
       "      <td>-0.015355</td>\n",
       "      <td>0.059975</td>\n",
       "      <td>0.070153</td>\n",
       "      <td>0.083688</td>\n",
       "      <td>1</td>\n",
       "      <td>2021</td>\n",
       "      <td>1</td>\n",
       "    </tr>\n",
       "  </tbody>\n",
       "</table>\n",
       "<p>8497 rows × 43 columns</p>\n",
       "</div>"
      ],
      "text/plain": [
       "      IS_STRATEGIC  ADMINSTRATION_FEES  MANAGEMENT_FEES  RISK_LEVEL_VALUE  \\\n",
       "5                0            0.000277         0.001631                 1   \n",
       "6                0            0.000277         0.001631                 1   \n",
       "7                0            0.000277         0.001631                 1   \n",
       "8                0            0.000277         0.001631                 1   \n",
       "9                0            0.000277         0.001631                 1   \n",
       "...            ...                 ...              ...               ...   \n",
       "8897             1            0.000300         0.005000                 3   \n",
       "8898             1            0.000300         0.005000                 3   \n",
       "8899             1            0.000300         0.005000                 3   \n",
       "8900             1            0.000300         0.005000                 3   \n",
       "8901             1            0.000300         0.005000                 3   \n",
       "\n",
       "      STRATEGY_CAPABILITY   FUND_AGE          SRC_UID  IN_FLOWS-r2  \\\n",
       "5                       8  15.057534        206670688   54405394.5   \n",
       "6                       8  15.142466        206670688   38398934.0   \n",
       "7                       8  15.227397        206670688   64908694.5   \n",
       "8                       8  15.309589        206670688  149383945.5   \n",
       "9                       8  15.394521        206670688  159407637.5   \n",
       "...                   ...        ...              ...          ...   \n",
       "8897                    9   2.917808  213479867994200    5352769.0   \n",
       "8898                    9   3.002740  213479867994200   11628037.5   \n",
       "8899                    9   3.084932  213479867994200   19638987.0   \n",
       "8900                    9   3.169863  213479867994200   34187840.5   \n",
       "8901                    9   3.254795  213479867994200   40791878.0   \n",
       "\n",
       "       IN_FLOWS-r3   IN_FLOWS-r6  ...  NAV_PERF_SLOPE_ERROR-s5  \\\n",
       "5     7.119667e+07  7.345858e+07  ...                 0.004775   \n",
       "6     4.743849e+07  6.743118e+07  ...                 0.003938   \n",
       "7     5.770353e+07  6.858192e+07  ...                 0.003630   \n",
       "8     1.107575e+08  9.097710e+07  ...                 0.002517   \n",
       "9     1.383760e+08  9.290724e+07  ...                 0.001721   \n",
       "...            ...           ...  ...                      ...   \n",
       "8897  6.181240e+06  7.525536e+06  ...                 0.011942   \n",
       "8898  8.494089e+06  9.043410e+06  ...                 0.024880   \n",
       "8899  1.591911e+07  1.201329e+07  ...                 0.026200   \n",
       "8900  2.771747e+07  1.694935e+07  ...                 0.039523   \n",
       "8901  3.536167e+07  2.192788e+07  ...                 0.042486   \n",
       "\n",
       "      NAV_VOL_SLOPE-s2  NAV_VOL_SLOPE-s3  NAV_VOL_SLOPE-s5  \\\n",
       "5            -0.000082         -0.000106         -0.000154   \n",
       "6            -0.000062         -0.000082         -0.000127   \n",
       "7            -0.000040         -0.000062         -0.000106   \n",
       "8            -0.000024         -0.000040         -0.000082   \n",
       "9            -0.000059         -0.000024         -0.000062   \n",
       "...                ...               ...               ...   \n",
       "8897         -0.013975         -0.009852          0.018318   \n",
       "8898         -0.015355         -0.013975         -0.008385   \n",
       "8899         -0.001291         -0.015355         -0.009852   \n",
       "8900         -0.012080         -0.001291         -0.013975   \n",
       "8901         -0.003275         -0.012080         -0.015355   \n",
       "\n",
       "      NAV_VOL_SLOPE_ERROR-s2  NAV_VOL_SLOPE_ERROR-s3  NAV_VOL_SLOPE_ERROR-s5  \\\n",
       "5                   0.000607                0.000647                0.000694   \n",
       "6                   0.000610                0.000607                0.000652   \n",
       "7                   0.000655                0.000610                0.000647   \n",
       "8                   0.000736                0.000655                0.000607   \n",
       "9                   0.000741                0.000736                0.000610   \n",
       "...                      ...                     ...                     ...   \n",
       "8897                0.083748                0.074113                0.087565   \n",
       "8898                0.083688                0.083748                0.109741   \n",
       "8899                0.055365                0.083688                0.074113   \n",
       "8900                0.070153                0.055365                0.083748   \n",
       "8901                0.059975                0.070153                0.083688   \n",
       "\n",
       "      TARGET  FLOWS_YEAR  FLOWS_MONTH  \n",
       "5         -1        2010            6  \n",
       "6         -1        2010            7  \n",
       "7          1        2010            8  \n",
       "8          1        2010            9  \n",
       "9          0        2010           10  \n",
       "...      ...         ...          ...  \n",
       "8897       1        2020            9  \n",
       "8898       1        2020           10  \n",
       "8899       1        2020           11  \n",
       "8900       1        2020           12  \n",
       "8901       1        2021            1  \n",
       "\n",
       "[8497 rows x 43 columns]"
      ]
     },
     "execution_count": 90,
     "metadata": {},
     "output_type": "execute_result"
    }
   ],
   "source": [
    "# create the steps and the transformation Pipeline\n",
    "steps = [('ts_2_supervised',myt.TS2Supervised(transformation=trans, breakdown=brk\n",
    "                                          , verbose=False, interpolation=False))]\n",
    "# create\n",
    "mychoice_pipeline_3 = Pipeline(steps)\n",
    "\n",
    "mychoice_transformed_pipeline_3 = mychoice_pipeline_3.fit_transform(X, y)\n",
    "\n",
    "\n",
    "my_choice_df_model_3 = mychoice_transformed_pipeline_3.merge(df[['TARGET','FLOWS_YEAR','FLOWS_MONTH']], left_index=True, right_index=True).copy()\n",
    "my_choice_df_model_3.dropna(inplace=True)\n",
    "my_choice_df_model_3"
   ]
  },
  {
   "cell_type": "code",
   "execution_count": 91,
   "metadata": {},
   "outputs": [
    {
     "data": {
      "text/plain": [
       "((6789, 42), (6789,), (1152, 42), (1152,), (556, 42), (556,))"
      ]
     },
     "execution_count": 91,
     "metadata": {},
     "output_type": "execute_result"
    }
   ],
   "source": [
    "X_train, y_train, X_validation, y_validation, X_test, y_test, _, _ = split_dataset(my_choice_df_model_3)\n",
    "X_train.shape, y_train.shape, X_validation.shape, y_validation.shape, X_test.shape, y_test.shape"
   ]
  },
  {
   "cell_type": "code",
   "execution_count": 92,
   "metadata": {},
   "outputs": [
    {
     "name": "stderr",
     "output_type": "stream",
     "text": [
      "100%|██████████| 5/5 [01:04<00:00, 12.86s/it]"
     ]
    },
    {
     "name": "stdout",
     "output_type": "stream",
     "text": [
      "['LR: 0.692451 (0.025652)', 'SVM: 0.645174 (0.033915)', 'KNN: 0.541915 (0.024444)', 'TREE: 0.580352 (0.017350)', 'FOREST: 0.609377 (0.024620)']\n"
     ]
    },
    {
     "name": "stderr",
     "output_type": "stream",
     "text": [
      "\n"
     ]
    }
   ],
   "source": [
    "results, names = run_pipelines(X_train, y_train)\n",
    "logging.info('MODEL-03 My Choice features with rolling on FLOWS {}'.format(len(all_cols)-4))\n",
    "logging.info('Results: \\n\\n{}'.format(results))\n",
    "logging.info('--------------------------------------------------------------------------------------------------')"
   ]
  },
  {
   "cell_type": "markdown",
   "metadata": {},
   "source": [
    "# Evaluate a configuration transformation\n",
    "\n",
    "The Time Series dataset can be transformed with my Custome Transformer by applying windowing to features. To recall, the methods are shift, rolling, expanding and ewm (exponential weighted).\n",
    "\n",
    "The function bellow receives a configuration paramter set, transforms the Time Series dataset to a supervised learning dataset, splits the data (2010 - mid-2019, mid-2019 to mid-2020, mid-2020 to now) and finally runs the pipeline with differents classifiers.\n",
    "\n"
   ]
  },
  {
   "cell_type": "code",
   "execution_count": 164,
   "metadata": {},
   "outputs": [],
   "source": [
    "show_boxplot=False"
   ]
  },
  {
   "cell_type": "code",
   "execution_count": 165,
   "metadata": {},
   "outputs": [],
   "source": [
    "def plot_evaluation(results, names):\n",
    "    # Compare Algorithms\n",
    "    fig = plt.figure(figsize=(15,7))\n",
    "    fig.suptitle('Modeling Algorithm Comparison')\n",
    "    ax = fig.add_subplot(111)\n",
    "    plt.boxplot(results)\n",
    "    ax.set_xticklabels(names)\n",
    "    plt.show()\n",
    "\n",
    "def evaluate_transformation_TS_2_SL(config, cols, interpolate, show_plot):\n",
    "    evaluated_df = df[cols].copy()\n",
    "\n",
    "    X = evaluated_df.drop(['TARGET','FLOWS_YEAR','FLOWS_MONTH'], axis=1)\n",
    "    y = evaluated_df.TARGET\n",
    "    \n",
    "    # create the steps and the transformation Pipeline\n",
    "    steps = [('ts_2_supervised',myt.TS2Supervised(transformation=config, breakdown=brk\n",
    "                                              , verbose=False, interpolation=interpolate))]\n",
    "    # create\n",
    "    evaluated_pipeline = Pipeline(steps)\n",
    "\n",
    "    evaluated_transformed_pipeline = evaluated_pipeline.fit_transform(X, y)\n",
    "\n",
    "\n",
    "    evaluated_df = evaluated_transformed_pipeline.merge(df[['TARGET','FLOWS_YEAR','FLOWS_MONTH']], left_index=True, right_index=True).copy()\n",
    "    evaluated_df.dropna(inplace=True)\n",
    "    evaluated_df    \n",
    "    \n",
    "    X_train, y_train, X_validation, y_validation, X_test, y_test, _, _ = split_dataset(evaluated_df)\n",
    "    print(X_train.shape, y_train.shape, X_validation.shape, y_validation.shape, X_test.shape, y_test.shape)\n",
    "    \n",
    "    results, names = run_pipelines(X_train, y_train)\n",
    "    logging.info('MODEL-Evaluated My Choice features with rolling on FLOWS {}'.format(len(all_cols)-4))\n",
    "    logging.info('Results: \\n\\n{}'.format(results))\n",
    "    logging.info('--------------------------------------------------------------------------------------------------') \n",
    "    \n",
    "    if show_plot:\n",
    "        plot_evaluation(results, names)\n",
    "    \n",
    "    return results, names"
   ]
  },
  {
   "cell_type": "code",
   "execution_count": 166,
   "metadata": {},
   "outputs": [],
   "source": [
    "global_results_set = []"
   ]
  },
  {
   "cell_type": "markdown",
   "metadata": {},
   "source": [
    "## Transformer n° 1 -- SelectKBest --\n",
    "For the 1st transformer I will work with sklearn SelectKBest to identify x best features and evalute classifiers."
   ]
  },
  {
   "cell_type": "code",
   "execution_count": null,
   "metadata": {},
   "outputs": [],
   "source": []
  },
  {
   "cell_type": "code",
   "execution_count": 167,
   "metadata": {},
   "outputs": [
    {
     "name": "stdout",
     "output_type": "stream",
     "text": [
      "['IN_FLOWS', 'NAV_PERF_1_YEAR', 'NAV_PERF_3_MONTH', 'NAV_PERF_6_MONTH', 'NAV_PERF_SLOPE']\n"
     ]
    },
    {
     "name": "stderr",
     "output_type": "stream",
     "text": [
      "\r",
      "  0%|          | 0/2 [00:00<?, ?it/s]"
     ]
    },
    {
     "name": "stdout",
     "output_type": "stream",
     "text": [
      "(6789, 18) (6789,) (1152, 18) (1152,) (556, 18) (556,)\n"
     ]
    },
    {
     "name": "stderr",
     "output_type": "stream",
     "text": [
      "100%|██████████| 2/2 [00:06<00:00,  3.12s/it]\n"
     ]
    },
    {
     "name": "stdout",
     "output_type": "stream",
     "text": [
      "['LR: 0.515688 (0.015795)', 'TREE: 0.451469 (0.015741)']\n",
      "['IN_FLOWS', 'OUT_FLOWS', 'BENCH_PERF_1_YEAR', 'BENCH_PERF_3_MONTH', 'BENCH_PERF_6_MONTH', 'NAV_PERF_1_MONTH', 'NAV_PERF_1_YEAR', 'NAV_PERF_3_MONTH', 'NAV_PERF_6_MONTH', 'NAV_PERF_COMPOUND_CREATION', 'RISK_LEVEL_VALUE', 'FLOWS_QUARTER', 'BENCH_PERF_SLOPE', 'BENCH_VOL_SLOPE_ERROR', 'NAV_PERF_SLOPE']\n"
     ]
    },
    {
     "name": "stderr",
     "output_type": "stream",
     "text": [
      "\r",
      "  0%|          | 0/2 [00:00<?, ?it/s]"
     ]
    },
    {
     "name": "stdout",
     "output_type": "stream",
     "text": [
      "(6789, 48) (6789,) (1152, 48) (1152,) (556, 48) (556,)\n"
     ]
    },
    {
     "name": "stderr",
     "output_type": "stream",
     "text": [
      "100%|██████████| 2/2 [00:17<00:00,  8.65s/it]\n",
      "/home/dfelix/.venv/lib/python3.7/site-packages/pandas/core/frame.py:4117: SettingWithCopyWarning: \n",
      "A value is trying to be set on a copy of a slice from a DataFrame\n",
      "\n",
      "See the caveats in the documentation: http://pandas.pydata.org/pandas-docs/stable/user_guide/indexing.html#returning-a-view-versus-a-copy\n",
      "  errors=errors,\n"
     ]
    },
    {
     "name": "stdout",
     "output_type": "stream",
     "text": [
      "['LR: 0.666375 (0.019477)', 'TREE: 0.566362 (0.015229)']\n",
      "['IS_STRATEGIC', 'ADMINSTRATION_FEES', 'MANAGEMENT_FEES', 'MULTI_MANAGER_STRUCTURE', 'SOFTCLOSING', 'CNT_SHARE', 'IN_FLOWS', 'OUT_FLOWS', 'AUM', 'BENCH_PERF_1_MONTH', 'BENCH_PERF_1_YEAR', 'BENCH_PERF_3_MONTH', 'BENCH_PERF_6_MONTH', 'BENCH_VOL_1_MONTH', 'BENCH_VOL_3_MONTH', 'BENCH_VOL_6_MONTH', 'NAV_PERF_1_MONTH', 'NAV_PERF_1_YEAR', 'NAV_PERF_3_MONTH', 'NAV_PERF_6_MONTH', 'NAV_VOL_1_MONTH', 'NAV_VOL_3_MONTH', 'NAV_VOL_6_MONTH', 'NAV_PERF_COMPOUND_CREATION', 'NAV_VOL_SINCE_INCEPT', 'POSITIVE_RFP', 'RISK_LEVEL_VALUE', 'FLOWS_MONTH', 'FLOWS_QUARTER', 'FUND_AGE', 'BENCH_PERF_SLOPE', 'BENCH_VOL_SLOPE_ERROR', 'NAV_PERF_SLOPE', 'NAV_VOL_SLOPE']\n"
     ]
    },
    {
     "name": "stderr",
     "output_type": "stream",
     "text": [
      "\r",
      "  0%|          | 0/2 [00:00<?, ?it/s]"
     ]
    },
    {
     "name": "stdout",
     "output_type": "stream",
     "text": [
      "(6789, 102) (6789,) (1152, 102) (1152,) (556, 102) (556,)\n"
     ]
    },
    {
     "name": "stderr",
     "output_type": "stream",
     "text": [
      "100%|██████████| 2/2 [00:39<00:00, 19.89s/it]"
     ]
    },
    {
     "name": "stdout",
     "output_type": "stream",
     "text": [
      "['LR: 0.693627 (0.022733)', 'TREE: 0.580943 (0.020260)']\n"
     ]
    },
    {
     "name": "stderr",
     "output_type": "stream",
     "text": [
      "\n"
     ]
    }
   ],
   "source": [
    "n_features_list=[5,15,35]\n",
    "\n",
    "for n_features in n_features_list:\n",
    "    # define the X vector and y target for the new temprary dataset\n",
    "    features_df = df.drop(['NET_FLOWS','COMPUTED_FLOWS','SRC_UID','THRESHOLD'], axis=1).copy()\n",
    "    target = df.TARGET\n",
    "\n",
    "    X_train, y_train, X_validation, y_validation, X_test, y_test, _, _ = split_dataset(features_df)\n",
    "    # X_train.shape, y_train.shape, X_validation.shape, y_validation.shape, X_test.shape, y_test.shape\n",
    "\n",
    "    # Create and fit selector\n",
    "\n",
    "    selector = SelectKBest(f_classif, k=n_features)\n",
    "\n",
    "    # selector.fit(features_df, target)\n",
    "    selector.fit(X_train, y_train)\n",
    "    # Get columns to keep and create new dataframe with those only\n",
    "    cols = selector.get_support(indices=True)\n",
    "    \n",
    "\n",
    "    features_df_new = features_df.iloc[:,cols]\n",
    "    \n",
    "    try:\n",
    "        features_df_new.drop('SRC_UID',axis=1, inplace=True)\n",
    "    except:\n",
    "        None\n",
    "    try:\n",
    "        features_df_new.drop('TARGET',axis=1, inplace=True)\n",
    "    except:\n",
    "        None\n",
    "\n",
    "    features_df_new=features_df_new.merge(df[['SRC_UID','TARGET']], left_index=True, right_index=True)\n",
    "\n",
    "    cols_config=features_df_new.drop(['SRC_UID','TARGET'],axis=1).columns.tolist()\n",
    "    \n",
    "    print(cols_config)\n",
    "    if 'FLOWS_MONTH' in cols_config:\n",
    "        cols_config.remove('FLOWS_MONTH')\n",
    "    if 'FLOWS_YEAR' in cols_config:\n",
    "        cols_config.remove('FLOWS_YEAR')\n",
    "        \n",
    "\n",
    "\n",
    "    X = features_df_new.drop('TARGET', axis=1)\n",
    "    y = features_df_new.TARGET\n",
    "\n",
    "    trans = []\n",
    "    for i in range(len(cols_config)):\n",
    "        dico= {}\n",
    "        dico['cols'] = [cols_config[i]]\n",
    "        dico['method'] = 'rolling'\n",
    "        dico['period'] = [2,3,6]\n",
    "        dico['original'] = False\n",
    "        trans.append(dico)\n",
    "\n",
    "    trans\n",
    "    eval_cols=features_df_new.columns.tolist()\n",
    "    eval_cols.append('FLOWS_YEAR')\n",
    "    eval_cols.append('FLOWS_MONTH')\n",
    "\n",
    "    r, n = evaluate_transformation_TS_2_SL(trans, eval_cols, False, show_boxplot)\n",
    "    i=0\n",
    "    for j in r:\n",
    "        global_results_set.append([names[i], j.mean(), trans, all_cols,'{} features SelectKBest'.format(n_features)])\n",
    "        i=i+1"
   ]
  },
  {
   "cell_type": "markdown",
   "metadata": {},
   "source": [
    "## Transformer n° 2 -- My choice of columns --\n",
    "Based on my business area knowledge I selected columns and decided which rolling windows method to apply."
   ]
  },
  {
   "cell_type": "code",
   "execution_count": 168,
   "metadata": {},
   "outputs": [],
   "source": [
    "cols_flows = ['IN_FLOWS', 'OUT_FLOWS','AUM']\n",
    "cols_perfs = ['BENCH_PERF_SLOPE', 'BENCH_PERF_SLOPE_ERROR',\n",
    "       'BENCH_VOL_SLOPE', 'BENCH_VOL_SLOPE_ERROR', 'NAV_PERF_SLOPE',\n",
    "       'NAV_PERF_SLOPE_ERROR', 'NAV_VOL_SLOPE', 'NAV_VOL_SLOPE_ERROR']\n",
    "cols_maktg = ['POSITIVE_RFP', 'EVENT_IMPACT', 'DOWNLOADED_DOCUMENTS','PSU_SCORE']\n",
    "cols_funds = ['IS_STRATEGIC', 'ADMINSTRATION_FEES', 'MANAGEMENT_FEES','RISK_LEVEL_VALUE','STRATEGY_CAPABILITY','FUND_AGE']"
   ]
  },
  {
   "cell_type": "code",
   "execution_count": 170,
   "metadata": {},
   "outputs": [
    {
     "name": "stderr",
     "output_type": "stream",
     "text": [
      "\r",
      "  0%|          | 0/2 [00:00<?, ?it/s]"
     ]
    },
    {
     "name": "stdout",
     "output_type": "stream",
     "text": [
      "(6789, 42) (6789,) (1152, 42) (1152,) (556, 42) (556,)\n"
     ]
    },
    {
     "name": "stderr",
     "output_type": "stream",
     "text": [
      "100%|██████████| 2/2 [00:15<00:00,  7.83s/it]"
     ]
    },
    {
     "name": "stdout",
     "output_type": "stream",
     "text": [
      "['LR: 0.692451 (0.025652)', 'TREE: 0.580352 (0.017350)']\n"
     ]
    },
    {
     "name": "stderr",
     "output_type": "stream",
     "text": [
      "\n"
     ]
    }
   ],
   "source": [
    "trans = []\n",
    "for i in range(len(cols_flows)):\n",
    "    dico= {}\n",
    "    dico['cols'] = [cols_flows[i]]\n",
    "    dico['method'] = 'rolling'\n",
    "    dico['period'] = [2,3,6]\n",
    "    dico['original'] = False\n",
    "    trans.append(dico)\n",
    "    \n",
    "\n",
    "for i in range(len(cols_perfs)):\n",
    "    dico= {}\n",
    "    dico['cols'] = [cols_perfs[i]]\n",
    "    dico['method'] = 'shift'\n",
    "    dico['period'] = [2,3,5]\n",
    "    dico['original'] = False\n",
    "    trans.append(dico)\n",
    "    \n",
    "for i in range(len(cols_maktg)):\n",
    "    dico= {}\n",
    "    dico['cols'] = [cols_maktg[i]]\n",
    "    dico['method'] = 'expnading'\n",
    "    dico['period'] = [3,6,9]\n",
    "    dico['original'] = False\n",
    "    trans.append(dico)\n",
    "r, n = evaluate_transformation_TS_2_SL(trans, all_cols, False, show_boxplot)\n",
    "i=0\n",
    "for j in r:\n",
    "    global_results_set.append([names[i], j.mean(), trans, all_cols,'My 1st choice of columns'])\n",
    "    i=i+1"
   ]
  },
  {
   "cell_type": "code",
   "execution_count": null,
   "metadata": {},
   "outputs": [],
   "source": []
  },
  {
   "cell_type": "code",
   "execution_count": null,
   "metadata": {},
   "outputs": [],
   "source": []
  },
  {
   "cell_type": "code",
   "execution_count": null,
   "metadata": {},
   "outputs": [],
   "source": []
  },
  {
   "cell_type": "code",
   "execution_count": null,
   "metadata": {},
   "outputs": [],
   "source": []
  },
  {
   "cell_type": "code",
   "execution_count": null,
   "metadata": {},
   "outputs": [],
   "source": []
  },
  {
   "cell_type": "code",
   "execution_count": null,
   "metadata": {},
   "outputs": [],
   "source": []
  },
  {
   "cell_type": "code",
   "execution_count": null,
   "metadata": {},
   "outputs": [],
   "source": []
  },
  {
   "cell_type": "code",
   "execution_count": 171,
   "metadata": {},
   "outputs": [
    {
     "data": {
      "text/html": [
       "<div>\n",
       "<style scoped>\n",
       "    .dataframe tbody tr th:only-of-type {\n",
       "        vertical-align: middle;\n",
       "    }\n",
       "\n",
       "    .dataframe tbody tr th {\n",
       "        vertical-align: top;\n",
       "    }\n",
       "\n",
       "    .dataframe thead th {\n",
       "        text-align: right;\n",
       "    }\n",
       "</style>\n",
       "<table border=\"1\" class=\"dataframe\">\n",
       "  <thead>\n",
       "    <tr style=\"text-align: right;\">\n",
       "      <th></th>\n",
       "      <th>classifier</th>\n",
       "      <th>scores</th>\n",
       "      <th>transformer</th>\n",
       "      <th>columns</th>\n",
       "      <th>notes</th>\n",
       "    </tr>\n",
       "  </thead>\n",
       "  <tbody>\n",
       "    <tr>\n",
       "      <th>4</th>\n",
       "      <td>LR</td>\n",
       "      <td>0.693627</td>\n",
       "      <td>[{'cols': ['IS_STRATEGIC'], 'method': 'rolling...</td>\n",
       "      <td>[IN_FLOWS, OUT_FLOWS, AUM, BENCH_PERF_SLOPE, B...</td>\n",
       "      <td>35 features SelectKBest</td>\n",
       "    </tr>\n",
       "    <tr>\n",
       "      <th>6</th>\n",
       "      <td>LR</td>\n",
       "      <td>0.692451</td>\n",
       "      <td>[{'cols': ['IN_FLOWS'], 'method': 'rolling', '...</td>\n",
       "      <td>[IN_FLOWS, OUT_FLOWS, AUM, BENCH_PERF_SLOPE, B...</td>\n",
       "      <td>My 1st choice of columns</td>\n",
       "    </tr>\n",
       "    <tr>\n",
       "      <th>2</th>\n",
       "      <td>LR</td>\n",
       "      <td>0.666375</td>\n",
       "      <td>[{'cols': ['IN_FLOWS'], 'method': 'rolling', '...</td>\n",
       "      <td>[IN_FLOWS, OUT_FLOWS, AUM, BENCH_PERF_SLOPE, B...</td>\n",
       "      <td>15 features SelectKBest</td>\n",
       "    </tr>\n",
       "    <tr>\n",
       "      <th>5</th>\n",
       "      <td>SVM</td>\n",
       "      <td>0.580943</td>\n",
       "      <td>[{'cols': ['IS_STRATEGIC'], 'method': 'rolling...</td>\n",
       "      <td>[IN_FLOWS, OUT_FLOWS, AUM, BENCH_PERF_SLOPE, B...</td>\n",
       "      <td>35 features SelectKBest</td>\n",
       "    </tr>\n",
       "    <tr>\n",
       "      <th>7</th>\n",
       "      <td>SVM</td>\n",
       "      <td>0.580352</td>\n",
       "      <td>[{'cols': ['IN_FLOWS'], 'method': 'rolling', '...</td>\n",
       "      <td>[IN_FLOWS, OUT_FLOWS, AUM, BENCH_PERF_SLOPE, B...</td>\n",
       "      <td>My 1st choice of columns</td>\n",
       "    </tr>\n",
       "    <tr>\n",
       "      <th>3</th>\n",
       "      <td>SVM</td>\n",
       "      <td>0.566362</td>\n",
       "      <td>[{'cols': ['IN_FLOWS'], 'method': 'rolling', '...</td>\n",
       "      <td>[IN_FLOWS, OUT_FLOWS, AUM, BENCH_PERF_SLOPE, B...</td>\n",
       "      <td>15 features SelectKBest</td>\n",
       "    </tr>\n",
       "    <tr>\n",
       "      <th>0</th>\n",
       "      <td>LR</td>\n",
       "      <td>0.515688</td>\n",
       "      <td>[{'cols': ['IN_FLOWS'], 'method': 'rolling', '...</td>\n",
       "      <td>[IN_FLOWS, OUT_FLOWS, AUM, BENCH_PERF_SLOPE, B...</td>\n",
       "      <td>5 features SelectKBest</td>\n",
       "    </tr>\n",
       "    <tr>\n",
       "      <th>1</th>\n",
       "      <td>SVM</td>\n",
       "      <td>0.451469</td>\n",
       "      <td>[{'cols': ['IN_FLOWS'], 'method': 'rolling', '...</td>\n",
       "      <td>[IN_FLOWS, OUT_FLOWS, AUM, BENCH_PERF_SLOPE, B...</td>\n",
       "      <td>5 features SelectKBest</td>\n",
       "    </tr>\n",
       "  </tbody>\n",
       "</table>\n",
       "</div>"
      ],
      "text/plain": [
       "  classifier    scores                                        transformer  \\\n",
       "4         LR  0.693627  [{'cols': ['IS_STRATEGIC'], 'method': 'rolling...   \n",
       "6         LR  0.692451  [{'cols': ['IN_FLOWS'], 'method': 'rolling', '...   \n",
       "2         LR  0.666375  [{'cols': ['IN_FLOWS'], 'method': 'rolling', '...   \n",
       "5        SVM  0.580943  [{'cols': ['IS_STRATEGIC'], 'method': 'rolling...   \n",
       "7        SVM  0.580352  [{'cols': ['IN_FLOWS'], 'method': 'rolling', '...   \n",
       "3        SVM  0.566362  [{'cols': ['IN_FLOWS'], 'method': 'rolling', '...   \n",
       "0         LR  0.515688  [{'cols': ['IN_FLOWS'], 'method': 'rolling', '...   \n",
       "1        SVM  0.451469  [{'cols': ['IN_FLOWS'], 'method': 'rolling', '...   \n",
       "\n",
       "                                             columns                     notes  \n",
       "4  [IN_FLOWS, OUT_FLOWS, AUM, BENCH_PERF_SLOPE, B...   35 features SelectKBest  \n",
       "6  [IN_FLOWS, OUT_FLOWS, AUM, BENCH_PERF_SLOPE, B...  My 1st choice of columns  \n",
       "2  [IN_FLOWS, OUT_FLOWS, AUM, BENCH_PERF_SLOPE, B...   15 features SelectKBest  \n",
       "5  [IN_FLOWS, OUT_FLOWS, AUM, BENCH_PERF_SLOPE, B...   35 features SelectKBest  \n",
       "7  [IN_FLOWS, OUT_FLOWS, AUM, BENCH_PERF_SLOPE, B...  My 1st choice of columns  \n",
       "3  [IN_FLOWS, OUT_FLOWS, AUM, BENCH_PERF_SLOPE, B...   15 features SelectKBest  \n",
       "0  [IN_FLOWS, OUT_FLOWS, AUM, BENCH_PERF_SLOPE, B...    5 features SelectKBest  \n",
       "1  [IN_FLOWS, OUT_FLOWS, AUM, BENCH_PERF_SLOPE, B...    5 features SelectKBest  "
      ]
     },
     "execution_count": 171,
     "metadata": {},
     "output_type": "execute_result"
    }
   ],
   "source": [
    "pd.DataFrame(global_results_set, columns=['classifier','scores','transformer','columns','notes']).sort_values('scores', ascending=False)"
   ]
  },
  {
   "cell_type": "code",
   "execution_count": null,
   "metadata": {},
   "outputs": [],
   "source": []
  },
  {
   "cell_type": "markdown",
   "metadata": {},
   "source": [
    "# Model Selection and Overfitting\n",
    "\n",
    "I wull work with the best model from the 2nd phase of medeling and save it to be bale to work with my test set which is \"pure\". I will now check for overfitting."
   ]
  },
  {
   "cell_type": "code",
   "execution_count": 70,
   "metadata": {},
   "outputs": [],
   "source": [
    "model_choosen = best_estimator_lr"
   ]
  },
  {
   "cell_type": "code",
   "execution_count": 71,
   "metadata": {},
   "outputs": [
    {
     "name": "stdout",
     "output_type": "stream",
     "text": [
      "Confusion Matrix\n",
      "\n",
      "[[197  95 107]\n",
      " [ 97 160 143]\n",
      " [ 82  52 219]]\n",
      "\n",
      "Accuracy: 0.50\n",
      "\n",
      "Micro Precision: 0.50\n",
      "Micro Recall: 0.50\n",
      "Micro F1-score: 0.50\n",
      "\n",
      "Macro Precision: 0.50\n",
      "Macro Recall: 0.50\n",
      "Macro F1-score: 0.50\n",
      "\n",
      "Weighted Precision: 0.51\n",
      "Weighted Recall: 0.50\n",
      "Weighted F1-score: 0.50\n",
      "\n",
      "Classification Report\n",
      "\n",
      "              precision    recall  f1-score   support\n",
      "\n",
      "   Out Flows       0.52      0.49      0.51       399\n",
      "NeutralFlows       0.52      0.40      0.45       400\n",
      "    In Flows       0.47      0.62      0.53       353\n",
      "\n",
      "    accuracy                           0.50      1152\n",
      "   macro avg       0.50      0.50      0.50      1152\n",
      "weighted avg       0.51      0.50      0.50      1152\n",
      "\n"
     ]
    }
   ],
   "source": [
    "       \n",
    "model_choosen.fit(X_train, y_train)\n",
    "# evaluate on the train dataset\n",
    "y_pred = model_choosen.predict(X_validation)\n",
    "acc, conf = metrics_report(y_validation, y_pred)\n",
    "logging.info('MODEL2 - DecisionTree - GridSearchCV -EVALUATED')"
   ]
  },
  {
   "cell_type": "code",
   "execution_count": 72,
   "metadata": {},
   "outputs": [
    {
     "data": {
      "image/png": "[encoded data removed]",
      "text/plain": [
       "<Figure size 432x288 with 1 Axes>"
      ]
     },
     "metadata": {
      "needs_background": "light"
     },
     "output_type": "display_data"
    },
    {
     "data": {
      "text/plain": [
       "ROCAUC(ax=<AxesSubplot:title={'center':'ROC Curves for LogisticRegression'}, xlabel='False Positive Rate', ylabel='True Positive Rate'>,\n",
       "       binary=None, classes=None,\n",
       "       encoder={-1: 'Out flows', 0: 'no flows / neutral', 1: 'in flows'},\n",
       "       estimator=Pipeline(memory=None,\n",
       "                          steps=[('Scaler',\n",
       "                                  StandardScaler(copy=True, with_mean=True,\n",
       "                                                 with_std=True)),\n",
       "                                 ('Power',\n",
       "                                  PowerTransformer(copy=True,\n",
       "                                                   me...\n",
       "                                                   standardize=True)),\n",
       "                                 ('LR',\n",
       "                                  LogisticRegression(C=1000, class_weight=None,\n",
       "                                                     dual=False,\n",
       "                                                     fit_intercept=True,\n",
       "                                                     intercept_scaling=1,\n",
       "                                                     l1_ratio=None,\n",
       "                                                     max_iter=100,\n",
       "                                                     multi_class='auto',\n",
       "                                                     n_jobs=None, penalty='l2',\n",
       "                                                     random_state=42,\n",
       "                                                     solver='liblinear',\n",
       "                                                     tol=0.0001, verbose=0,\n",
       "                                                     warm_start=False))],\n",
       "                          verbose=False),\n",
       "       force_model=False, is_fitted='auto', macro=True, micro=True,\n",
       "       per_class=True)"
      ]
     },
     "execution_count": 72,
     "metadata": {},
     "output_type": "execute_result"
    }
   ],
   "source": [
    "plot_ROC_curve(best_estimator_lr, X_train, y_train, X_validation, y_validation)"
   ]
  },
  {
   "cell_type": "code",
   "execution_count": 73,
   "metadata": {},
   "outputs": [
    {
     "data": {
      "text/plain": [
       "Pipeline(memory=None,\n",
       "         steps=[('Scaler',\n",
       "                 StandardScaler(copy=True, with_mean=True, with_std=True)),\n",
       "                ('Power',\n",
       "                 PowerTransformer(copy=True, method='yeo-johnson',\n",
       "                                  standardize=True)),\n",
       "                ('LR',\n",
       "                 LogisticRegression(C=1000, class_weight=None, dual=False,\n",
       "                                    fit_intercept=True, intercept_scaling=1,\n",
       "                                    l1_ratio=None, max_iter=100,\n",
       "                                    multi_class='auto', n_jobs=None,\n",
       "                                    penalty='l2', random_state=42,\n",
       "                                    solver='liblinear', tol=0.0001, verbose=0,\n",
       "                                    warm_start=False))],\n",
       "         verbose=False)"
      ]
     },
     "execution_count": 73,
     "metadata": {},
     "output_type": "execute_result"
    }
   ],
   "source": [
    "best_estimator_lr"
   ]
  },
  {
   "cell_type": "markdown",
   "metadata": {},
   "source": [
    "# Model Finalization\n",
    "\n",
    "I will finalize the model before saving, working with a Logistic Regression and the set of data decided by me (my choices)\n"
   ]
  },
  {
   "cell_type": "code",
   "execution_count": 74,
   "metadata": {},
   "outputs": [
    {
     "data": {
      "text/plain": [
       "((6789, 58), (1152, 58), (556, 58))"
      ]
     },
     "execution_count": 74,
     "metadata": {},
     "output_type": "execute_result"
    }
   ],
   "source": [
    "X_train.shape, X_validation.shape, X_test.shape"
   ]
  },
  {
   "cell_type": "code",
   "execution_count": 75,
   "metadata": {},
   "outputs": [
    {
     "data": {
      "text/plain": [
       "((6789,), (1152,), (556,))"
      ]
     },
     "execution_count": 75,
     "metadata": {},
     "output_type": "execute_result"
    }
   ],
   "source": [
    "y_train.shape, y_validation.shape, y_test.shape"
   ]
  },
  {
   "cell_type": "code",
   "execution_count": null,
   "metadata": {},
   "outputs": [],
   "source": []
  }
 ],
 "metadata": {
  "kernelspec": {
   "display_name": "Python 3.7 (dfelix)",
   "language": "python",
   "name": "dfelix"
  },
  "language_info": {
   "codemirror_mode": {
    "name": "ipython",
    "version": 3
   },
   "file_extension": ".py",
   "mimetype": "text/x-python",
   "name": "python",
   "nbconvert_exporter": "python",
   "pygments_lexer": "ipython3",
   "version": "3.7.2"
  }
 },
 "nbformat": 4,
 "nbformat_minor": 4
}
