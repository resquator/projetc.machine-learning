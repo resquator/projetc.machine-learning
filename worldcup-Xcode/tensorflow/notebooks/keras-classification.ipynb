{
 "cells": [
  {
   "cell_type": "markdown",
   "metadata": {},
   "source": [
    "https://www.pluralsight.com/guides/classification-keras"
   ]
  },
  {
   "cell_type": "code",
   "execution_count": 1,
   "metadata": {},
   "outputs": [],
   "source": [
    "# Import required libraries\n",
    "import pandas as pd\n",
    "import numpy as np \n",
    "import matplotlib.pyplot as plt\n",
    "import sklearn\n",
    "# Import necessary modules\n",
    "from sklearn.model_selection import train_test_split\n",
    "from sklearn.metrics import mean_squared_error\n",
    "from math import sqrt\n",
    "# Keras specific\n",
    "import keras\n",
    "from keras.models import Sequential\n",
    "from keras.layers import Dense\n",
    "from keras.utils import to_categorical "
   ]
  },
  {
   "cell_type": "code",
   "execution_count": 2,
   "metadata": {},
   "outputs": [
    {
     "data": {
      "text/plain": [
       "(768, 9)"
      ]
     },
     "execution_count": 2,
     "metadata": {},
     "output_type": "execute_result"
    }
   ],
   "source": [
    "FOLDER = '../data/'\n",
    "FILENAME = 'diabetes.csv'\n",
    "\n",
    "df = pd.read_csv(f'{FOLDER}{FILENAME}', delimiter=',')\n",
    "df.shape"
   ]
  },
  {
   "cell_type": "code",
   "execution_count": 3,
   "metadata": {},
   "outputs": [
    {
     "name": "stdout",
     "output_type": "stream",
     "text": [
      "<class 'pandas.core.frame.DataFrame'>\n",
      "RangeIndex: 768 entries, 0 to 767\n",
      "Data columns (total 9 columns):\n",
      " #   Column                    Non-Null Count  Dtype  \n",
      "---  ------                    --------------  -----  \n",
      " 0   Pregnancies               768 non-null    int64  \n",
      " 1   Glucose                   768 non-null    int64  \n",
      " 2   BloodPressure             768 non-null    int64  \n",
      " 3   SkinThickness             768 non-null    int64  \n",
      " 4   Insulin                   768 non-null    int64  \n",
      " 5   BMI                       768 non-null    float64\n",
      " 6   DiabetesPedigreeFunction  768 non-null    float64\n",
      " 7   Age                       768 non-null    int64  \n",
      " 8   Outcome                   768 non-null    int64  \n",
      "dtypes: float64(2), int64(7)\n",
      "memory usage: 54.1 KB\n"
     ]
    }
   ],
   "source": [
    "df.info()"
   ]
  },
  {
   "cell_type": "code",
   "execution_count": 4,
   "metadata": {},
   "outputs": [
    {
     "data": {
      "text/html": [
       "<div>\n",
       "<style scoped>\n",
       "    .dataframe tbody tr th:only-of-type {\n",
       "        vertical-align: middle;\n",
       "    }\n",
       "\n",
       "    .dataframe tbody tr th {\n",
       "        vertical-align: top;\n",
       "    }\n",
       "\n",
       "    .dataframe thead th {\n",
       "        text-align: right;\n",
       "    }\n",
       "</style>\n",
       "<table border=\"1\" class=\"dataframe\">\n",
       "  <thead>\n",
       "    <tr style=\"text-align: right;\">\n",
       "      <th></th>\n",
       "      <th>Pregnancies</th>\n",
       "      <th>Glucose</th>\n",
       "      <th>BloodPressure</th>\n",
       "      <th>SkinThickness</th>\n",
       "      <th>Insulin</th>\n",
       "      <th>BMI</th>\n",
       "      <th>DiabetesPedigreeFunction</th>\n",
       "      <th>Age</th>\n",
       "      <th>Outcome</th>\n",
       "    </tr>\n",
       "  </thead>\n",
       "  <tbody>\n",
       "    <tr>\n",
       "      <th>count</th>\n",
       "      <td>768.000000</td>\n",
       "      <td>768.000000</td>\n",
       "      <td>768.000000</td>\n",
       "      <td>768.000000</td>\n",
       "      <td>768.000000</td>\n",
       "      <td>768.000000</td>\n",
       "      <td>768.000000</td>\n",
       "      <td>768.000000</td>\n",
       "      <td>768.000000</td>\n",
       "    </tr>\n",
       "    <tr>\n",
       "      <th>mean</th>\n",
       "      <td>3.845052</td>\n",
       "      <td>120.894531</td>\n",
       "      <td>69.105469</td>\n",
       "      <td>20.536458</td>\n",
       "      <td>79.799479</td>\n",
       "      <td>31.992578</td>\n",
       "      <td>0.471876</td>\n",
       "      <td>33.240885</td>\n",
       "      <td>0.348958</td>\n",
       "    </tr>\n",
       "    <tr>\n",
       "      <th>std</th>\n",
       "      <td>3.369578</td>\n",
       "      <td>31.972618</td>\n",
       "      <td>19.355807</td>\n",
       "      <td>15.952218</td>\n",
       "      <td>115.244002</td>\n",
       "      <td>7.884160</td>\n",
       "      <td>0.331329</td>\n",
       "      <td>11.760232</td>\n",
       "      <td>0.476951</td>\n",
       "    </tr>\n",
       "    <tr>\n",
       "      <th>min</th>\n",
       "      <td>0.000000</td>\n",
       "      <td>0.000000</td>\n",
       "      <td>0.000000</td>\n",
       "      <td>0.000000</td>\n",
       "      <td>0.000000</td>\n",
       "      <td>0.000000</td>\n",
       "      <td>0.078000</td>\n",
       "      <td>21.000000</td>\n",
       "      <td>0.000000</td>\n",
       "    </tr>\n",
       "    <tr>\n",
       "      <th>25%</th>\n",
       "      <td>1.000000</td>\n",
       "      <td>99.000000</td>\n",
       "      <td>62.000000</td>\n",
       "      <td>0.000000</td>\n",
       "      <td>0.000000</td>\n",
       "      <td>27.300000</td>\n",
       "      <td>0.243750</td>\n",
       "      <td>24.000000</td>\n",
       "      <td>0.000000</td>\n",
       "    </tr>\n",
       "    <tr>\n",
       "      <th>50%</th>\n",
       "      <td>3.000000</td>\n",
       "      <td>117.000000</td>\n",
       "      <td>72.000000</td>\n",
       "      <td>23.000000</td>\n",
       "      <td>30.500000</td>\n",
       "      <td>32.000000</td>\n",
       "      <td>0.372500</td>\n",
       "      <td>29.000000</td>\n",
       "      <td>0.000000</td>\n",
       "    </tr>\n",
       "    <tr>\n",
       "      <th>75%</th>\n",
       "      <td>6.000000</td>\n",
       "      <td>140.250000</td>\n",
       "      <td>80.000000</td>\n",
       "      <td>32.000000</td>\n",
       "      <td>127.250000</td>\n",
       "      <td>36.600000</td>\n",
       "      <td>0.626250</td>\n",
       "      <td>41.000000</td>\n",
       "      <td>1.000000</td>\n",
       "    </tr>\n",
       "    <tr>\n",
       "      <th>max</th>\n",
       "      <td>17.000000</td>\n",
       "      <td>199.000000</td>\n",
       "      <td>122.000000</td>\n",
       "      <td>99.000000</td>\n",
       "      <td>846.000000</td>\n",
       "      <td>67.100000</td>\n",
       "      <td>2.420000</td>\n",
       "      <td>81.000000</td>\n",
       "      <td>1.000000</td>\n",
       "    </tr>\n",
       "  </tbody>\n",
       "</table>\n",
       "</div>"
      ],
      "text/plain": [
       "       Pregnancies     Glucose  BloodPressure  SkinThickness     Insulin  \\\n",
       "count   768.000000  768.000000     768.000000     768.000000  768.000000   \n",
       "mean      3.845052  120.894531      69.105469      20.536458   79.799479   \n",
       "std       3.369578   31.972618      19.355807      15.952218  115.244002   \n",
       "min       0.000000    0.000000       0.000000       0.000000    0.000000   \n",
       "25%       1.000000   99.000000      62.000000       0.000000    0.000000   \n",
       "50%       3.000000  117.000000      72.000000      23.000000   30.500000   \n",
       "75%       6.000000  140.250000      80.000000      32.000000  127.250000   \n",
       "max      17.000000  199.000000     122.000000      99.000000  846.000000   \n",
       "\n",
       "              BMI  DiabetesPedigreeFunction         Age     Outcome  \n",
       "count  768.000000                768.000000  768.000000  768.000000  \n",
       "mean    31.992578                  0.471876   33.240885    0.348958  \n",
       "std      7.884160                  0.331329   11.760232    0.476951  \n",
       "min      0.000000                  0.078000   21.000000    0.000000  \n",
       "25%     27.300000                  0.243750   24.000000    0.000000  \n",
       "50%     32.000000                  0.372500   29.000000    0.000000  \n",
       "75%     36.600000                  0.626250   41.000000    1.000000  \n",
       "max     67.100000                  2.420000   81.000000    1.000000  "
      ]
     },
     "execution_count": 4,
     "metadata": {},
     "output_type": "execute_result"
    }
   ],
   "source": [
    "df.describe()"
   ]
  },
  {
   "cell_type": "code",
   "execution_count": 5,
   "metadata": {},
   "outputs": [
    {
     "data": {
      "text/html": [
       "<div>\n",
       "<style scoped>\n",
       "    .dataframe tbody tr th:only-of-type {\n",
       "        vertical-align: middle;\n",
       "    }\n",
       "\n",
       "    .dataframe tbody tr th {\n",
       "        vertical-align: top;\n",
       "    }\n",
       "\n",
       "    .dataframe thead th {\n",
       "        text-align: right;\n",
       "    }\n",
       "</style>\n",
       "<table border=\"1\" class=\"dataframe\">\n",
       "  <thead>\n",
       "    <tr style=\"text-align: right;\">\n",
       "      <th></th>\n",
       "      <th>Pregnancies</th>\n",
       "      <th>Glucose</th>\n",
       "      <th>BloodPressure</th>\n",
       "      <th>SkinThickness</th>\n",
       "      <th>Insulin</th>\n",
       "      <th>BMI</th>\n",
       "      <th>DiabetesPedigreeFunction</th>\n",
       "      <th>Age</th>\n",
       "      <th>Outcome</th>\n",
       "    </tr>\n",
       "  </thead>\n",
       "  <tbody>\n",
       "    <tr>\n",
       "      <th>count</th>\n",
       "      <td>768.000000</td>\n",
       "      <td>768.000000</td>\n",
       "      <td>768.000000</td>\n",
       "      <td>768.000000</td>\n",
       "      <td>768.000000</td>\n",
       "      <td>768.000000</td>\n",
       "      <td>768.000000</td>\n",
       "      <td>768.000000</td>\n",
       "      <td>768.000000</td>\n",
       "    </tr>\n",
       "    <tr>\n",
       "      <th>mean</th>\n",
       "      <td>0.226180</td>\n",
       "      <td>0.607510</td>\n",
       "      <td>0.566438</td>\n",
       "      <td>0.207439</td>\n",
       "      <td>0.094326</td>\n",
       "      <td>0.476790</td>\n",
       "      <td>0.194990</td>\n",
       "      <td>0.410381</td>\n",
       "      <td>0.348958</td>\n",
       "    </tr>\n",
       "    <tr>\n",
       "      <th>std</th>\n",
       "      <td>0.198210</td>\n",
       "      <td>0.160666</td>\n",
       "      <td>0.158654</td>\n",
       "      <td>0.161134</td>\n",
       "      <td>0.136222</td>\n",
       "      <td>0.117499</td>\n",
       "      <td>0.136913</td>\n",
       "      <td>0.145188</td>\n",
       "      <td>0.476951</td>\n",
       "    </tr>\n",
       "    <tr>\n",
       "      <th>min</th>\n",
       "      <td>0.000000</td>\n",
       "      <td>0.000000</td>\n",
       "      <td>0.000000</td>\n",
       "      <td>0.000000</td>\n",
       "      <td>0.000000</td>\n",
       "      <td>0.000000</td>\n",
       "      <td>0.032231</td>\n",
       "      <td>0.259259</td>\n",
       "      <td>0.000000</td>\n",
       "    </tr>\n",
       "    <tr>\n",
       "      <th>25%</th>\n",
       "      <td>0.058824</td>\n",
       "      <td>0.497487</td>\n",
       "      <td>0.508197</td>\n",
       "      <td>0.000000</td>\n",
       "      <td>0.000000</td>\n",
       "      <td>0.406855</td>\n",
       "      <td>0.100723</td>\n",
       "      <td>0.296296</td>\n",
       "      <td>0.000000</td>\n",
       "    </tr>\n",
       "    <tr>\n",
       "      <th>50%</th>\n",
       "      <td>0.176471</td>\n",
       "      <td>0.587940</td>\n",
       "      <td>0.590164</td>\n",
       "      <td>0.232323</td>\n",
       "      <td>0.036052</td>\n",
       "      <td>0.476900</td>\n",
       "      <td>0.153926</td>\n",
       "      <td>0.358025</td>\n",
       "      <td>0.000000</td>\n",
       "    </tr>\n",
       "    <tr>\n",
       "      <th>75%</th>\n",
       "      <td>0.352941</td>\n",
       "      <td>0.704774</td>\n",
       "      <td>0.655738</td>\n",
       "      <td>0.323232</td>\n",
       "      <td>0.150414</td>\n",
       "      <td>0.545455</td>\n",
       "      <td>0.258781</td>\n",
       "      <td>0.506173</td>\n",
       "      <td>1.000000</td>\n",
       "    </tr>\n",
       "    <tr>\n",
       "      <th>max</th>\n",
       "      <td>1.000000</td>\n",
       "      <td>1.000000</td>\n",
       "      <td>1.000000</td>\n",
       "      <td>1.000000</td>\n",
       "      <td>1.000000</td>\n",
       "      <td>1.000000</td>\n",
       "      <td>1.000000</td>\n",
       "      <td>1.000000</td>\n",
       "      <td>1.000000</td>\n",
       "    </tr>\n",
       "  </tbody>\n",
       "</table>\n",
       "</div>"
      ],
      "text/plain": [
       "       Pregnancies     Glucose  BloodPressure  SkinThickness     Insulin  \\\n",
       "count   768.000000  768.000000     768.000000     768.000000  768.000000   \n",
       "mean      0.226180    0.607510       0.566438       0.207439    0.094326   \n",
       "std       0.198210    0.160666       0.158654       0.161134    0.136222   \n",
       "min       0.000000    0.000000       0.000000       0.000000    0.000000   \n",
       "25%       0.058824    0.497487       0.508197       0.000000    0.000000   \n",
       "50%       0.176471    0.587940       0.590164       0.232323    0.036052   \n",
       "75%       0.352941    0.704774       0.655738       0.323232    0.150414   \n",
       "max       1.000000    1.000000       1.000000       1.000000    1.000000   \n",
       "\n",
       "              BMI  DiabetesPedigreeFunction         Age     Outcome  \n",
       "count  768.000000                768.000000  768.000000  768.000000  \n",
       "mean     0.476790                  0.194990    0.410381    0.348958  \n",
       "std      0.117499                  0.136913    0.145188    0.476951  \n",
       "min      0.000000                  0.032231    0.259259    0.000000  \n",
       "25%      0.406855                  0.100723    0.296296    0.000000  \n",
       "50%      0.476900                  0.153926    0.358025    0.000000  \n",
       "75%      0.545455                  0.258781    0.506173    1.000000  \n",
       "max      1.000000                  1.000000    1.000000    1.000000  "
      ]
     },
     "execution_count": 5,
     "metadata": {},
     "output_type": "execute_result"
    }
   ],
   "source": [
    "target_column = ['Outcome']\n",
    "predictors = list(set(list(df.columns))-set(target_column))\n",
    "df[predictors] = df[predictors]/df[predictors].max()\n",
    "df.describe()"
   ]
  },
  {
   "cell_type": "code",
   "execution_count": 6,
   "metadata": {},
   "outputs": [
    {
     "name": "stdout",
     "output_type": "stream",
     "text": [
      "(537, 8)\n",
      "(231, 8)\n"
     ]
    }
   ],
   "source": [
    "X = df[predictors].values\n",
    "y = df[target_column].values\n",
    "\n",
    "X_train, X_test, y_train, y_test = train_test_split(X, y, test_size=0.30, random_state=40)\n",
    "print(X_train.shape); print(X_test.shape)"
   ]
  },
  {
   "cell_type": "code",
   "execution_count": 7,
   "metadata": {},
   "outputs": [],
   "source": [
    "y_train = to_categorical(y_train)\n",
    "y_test = to_categorical(y_test)\n",
    "\n"
   ]
  },
  {
   "cell_type": "code",
   "execution_count": 8,
   "metadata": {},
   "outputs": [
    {
     "name": "stderr",
     "output_type": "stream",
     "text": [
      "2022-05-24 13:13:04.779950: I tensorflow/core/platform/cpu_feature_guard.cc:193] This TensorFlow binary is optimized with oneAPI Deep Neural Network Library (oneDNN) to use the following CPU instructions in performance-critical operations:  AVX2 FMA\n",
      "To enable them in other operations, rebuild TensorFlow with the appropriate compiler flags.\n"
     ]
    }
   ],
   "source": [
    "model = Sequential()\n",
    "model.add(Dense(500, activation='relu', input_dim=8))\n",
    "model.add(Dense(100, activation='relu'))\n",
    "model.add(Dense(50, activation='relu'))\n",
    "model.add(Dense(2, activation='softmax'))\n",
    "\n",
    "# Compile the model\n",
    "model.compile(optimizer='adam', \n",
    "              loss='categorical_crossentropy', \n",
    "              metrics=['accuracy'])"
   ]
  },
  {
   "cell_type": "code",
   "execution_count": 9,
   "metadata": {},
   "outputs": [
    {
     "name": "stdout",
     "output_type": "stream",
     "text": [
      "Epoch 1/20\n",
      "17/17 [==============================] - 1s 3ms/step - loss: 0.6573 - accuracy: 0.6462\n",
      "Epoch 2/20\n",
      "17/17 [==============================] - 0s 6ms/step - loss: 0.6241 - accuracy: 0.6667\n",
      "Epoch 3/20\n",
      "17/17 [==============================] - 0s 3ms/step - loss: 0.5868 - accuracy: 0.6909\n",
      "Epoch 4/20\n",
      "17/17 [==============================] - 0s 4ms/step - loss: 0.5532 - accuracy: 0.7225\n",
      "Epoch 5/20\n",
      "17/17 [==============================] - 0s 3ms/step - loss: 0.5389 - accuracy: 0.7337\n",
      "Epoch 6/20\n",
      "17/17 [==============================] - 0s 3ms/step - loss: 0.5410 - accuracy: 0.7542\n",
      "Epoch 7/20\n",
      "17/17 [==============================] - 0s 4ms/step - loss: 0.5244 - accuracy: 0.7691\n",
      "Epoch 8/20\n",
      "17/17 [==============================] - 0s 5ms/step - loss: 0.5221 - accuracy: 0.7598\n",
      "Epoch 9/20\n",
      "17/17 [==============================] - 0s 6ms/step - loss: 0.4872 - accuracy: 0.7765\n",
      "Epoch 10/20\n",
      "17/17 [==============================] - 0s 4ms/step - loss: 0.4997 - accuracy: 0.7765\n",
      "Epoch 11/20\n",
      "17/17 [==============================] - 0s 3ms/step - loss: 0.4744 - accuracy: 0.7803\n",
      "Epoch 12/20\n",
      "17/17 [==============================] - 0s 3ms/step - loss: 0.4754 - accuracy: 0.7709\n",
      "Epoch 13/20\n",
      "17/17 [==============================] - 0s 2ms/step - loss: 0.4929 - accuracy: 0.7691\n",
      "Epoch 14/20\n",
      "17/17 [==============================] - 0s 6ms/step - loss: 0.4623 - accuracy: 0.7914\n",
      "Epoch 15/20\n",
      "17/17 [==============================] - 0s 2ms/step - loss: 0.4534 - accuracy: 0.7970\n",
      "Epoch 16/20\n",
      "17/17 [==============================] - 0s 2ms/step - loss: 0.4555 - accuracy: 0.7840\n",
      "Epoch 17/20\n",
      "17/17 [==============================] - 0s 2ms/step - loss: 0.4585 - accuracy: 0.7933\n",
      "Epoch 18/20\n",
      "17/17 [==============================] - 0s 2ms/step - loss: 0.4395 - accuracy: 0.7840\n",
      "Epoch 19/20\n",
      "17/17 [==============================] - 0s 2ms/step - loss: 0.4436 - accuracy: 0.7933\n",
      "Epoch 20/20\n",
      "17/17 [==============================] - 0s 2ms/step - loss: 0.4417 - accuracy: 0.7989\n"
     ]
    },
    {
     "data": {
      "text/plain": [
       "<keras.callbacks.History at 0x7feda2e94790>"
      ]
     },
     "execution_count": 9,
     "metadata": {},
     "output_type": "execute_result"
    }
   ],
   "source": [
    "model.fit(X_train, y_train, epochs=20)"
   ]
  },
  {
   "cell_type": "code",
   "execution_count": 10,
   "metadata": {},
   "outputs": [
    {
     "name": "stdout",
     "output_type": "stream",
     "text": [
      "17/17 [==============================] - 0s 1ms/step\n",
      "Accuracy on training 0.80633145570755. Error is 0.19366854429244995\n",
      "8/8 [==============================] - 0s 1ms/step\n",
      "Accuracy on test data 0.7662337422370911. Error is 0.23376625776290894\n"
     ]
    }
   ],
   "source": [
    "pred_train = model.predict(X_train)\n",
    "scores = model.evaluate(X_train, y_train, verbose=0)\n",
    "print(f'Accuracy on training {scores[1]}. Error is {1-scores[1]}')\n",
    "\n",
    "pred_train = model.predict(X_test)\n",
    "scores = model.evaluate(X_test, y_test, verbose=0)\n",
    "print(f'Accuracy on test data {scores[1]}. Error is {1-scores[1]}')"
   ]
  },
  {
   "cell_type": "code",
   "execution_count": 11,
   "metadata": {},
   "outputs": [
    {
     "name": "stdout",
     "output_type": "stream",
     "text": [
      "Model: \"sequential\"\n",
      "_________________________________________________________________\n",
      " Layer (type)                Output Shape              Param #   \n",
      "=================================================================\n",
      " dense (Dense)               (None, 500)               4500      \n",
      "                                                                 \n",
      " dense_1 (Dense)             (None, 100)               50100     \n",
      "                                                                 \n",
      " dense_2 (Dense)             (None, 50)                5050      \n",
      "                                                                 \n",
      " dense_3 (Dense)             (None, 2)                 102       \n",
      "                                                                 \n",
      "=================================================================\n",
      "Total params: 59,752\n",
      "Trainable params: 59,752\n",
      "Non-trainable params: 0\n",
      "_________________________________________________________________\n"
     ]
    }
   ],
   "source": [
    "model.summary()"
   ]
  },
  {
   "cell_type": "code",
   "execution_count": 12,
   "metadata": {},
   "outputs": [],
   "source": [
    "from keras.utils.vis_utils import plot_model"
   ]
  },
  {
   "cell_type": "code",
   "execution_count": 13,
   "metadata": {},
   "outputs": [
    {
     "name": "stdout",
     "output_type": "stream",
     "text": [
      "You must install pydot (`pip install pydot`) and install graphviz (see instructions at https://graphviz.gitlab.io/download/) for plot_model/model_to_dot to work.\n"
     ]
    }
   ],
   "source": [
    "import graphviz\n",
    "import pydot\n",
    "\n",
    "plot_model(model,  show_shapes=True, show_layer_names=True)"
   ]
  },
  {
   "cell_type": "markdown",
   "metadata": {},
   "source": [
    "!pip install pydot"
   ]
  },
  {
   "cell_type": "markdown",
   "metadata": {},
   "source": [
    "!pip install graphviz"
   ]
  },
  {
   "cell_type": "code",
   "execution_count": 67,
   "metadata": {},
   "outputs": [
    {
     "data": {
      "text/plain": [
       "(4219, 22)"
      ]
     },
     "execution_count": 67,
     "metadata": {},
     "output_type": "execute_result"
    }
   ],
   "source": [
    "df = pd.read_csv(f'{FOLDER}game_odd_rank_fifa.csv')\n",
    "df.shape"
   ]
  },
  {
   "cell_type": "code",
   "execution_count": 15,
   "metadata": {},
   "outputs": [
    {
     "name": "stdout",
     "output_type": "stream",
     "text": [
      "<class 'pandas.core.frame.DataFrame'>\n",
      "RangeIndex: 4219 entries, 0 to 4218\n",
      "Data columns (total 22 columns):\n",
      " #   Column               Non-Null Count  Dtype  \n",
      "---  ------               --------------  -----  \n",
      " 0   oddsportal           4219 non-null   object \n",
      " 1   matchday             4219 non-null   object \n",
      " 2   home_team            4219 non-null   object \n",
      " 3   away_team            4219 non-null   object \n",
      " 4   correct_score        4219 non-null   object \n",
      " 5   1N2_1                4219 non-null   float64\n",
      " 6   1N2_N                4219 non-null   float64\n",
      " 7   1N2_2                4219 non-null   float64\n",
      " 8   betexplorer          4219 non-null   object \n",
      " 9   matchdate            4219 non-null   object \n",
      " 10  period               4219 non-null   object \n",
      " 11  location             4219 non-null   object \n",
      " 12  season               4219 non-null   int64  \n",
      " 13  competition          4219 non-null   object \n",
      " 14  bet_won              4219 non-null   object \n",
      " 15  target               4219 non-null   float64\n",
      " 16  odd_win              4219 non-null   float64\n",
      " 17  home_team_rank_FIFA  4219 non-null   float64\n",
      " 18  away_team_rank_FIFA  4219 non-null   float64\n",
      " 19  home_score           4219 non-null   float64\n",
      " 20  away_score           4219 non-null   float64\n",
      " 21  diff_score           4219 non-null   float64\n",
      "dtypes: float64(10), int64(1), object(11)\n",
      "memory usage: 725.3+ KB\n"
     ]
    }
   ],
   "source": [
    "df.info()"
   ]
  },
  {
   "cell_type": "code",
   "execution_count": 69,
   "metadata": {},
   "outputs": [
    {
     "data": {
      "text/plain": [
       "friendly-international          3426\n",
       "euro                             508\n",
       "world-cup                        257\n",
       "concacaf-nations-league-2019      28\n",
       "Name: competition, dtype: int64"
      ]
     },
     "execution_count": 69,
     "metadata": {},
     "output_type": "execute_result"
    }
   ],
   "source": [
    "df.competition.value_counts()"
   ]
  },
  {
   "cell_type": "code",
   "execution_count": 70,
   "metadata": {},
   "outputs": [
    {
     "data": {
      "text/html": [
       "<div>\n",
       "<style scoped>\n",
       "    .dataframe tbody tr th:only-of-type {\n",
       "        vertical-align: middle;\n",
       "    }\n",
       "\n",
       "    .dataframe tbody tr th {\n",
       "        vertical-align: top;\n",
       "    }\n",
       "\n",
       "    .dataframe thead th {\n",
       "        text-align: right;\n",
       "    }\n",
       "</style>\n",
       "<table border=\"1\" class=\"dataframe\">\n",
       "  <thead>\n",
       "    <tr style=\"text-align: right;\">\n",
       "      <th></th>\n",
       "      <th>1N2_1</th>\n",
       "      <th>1N2_N</th>\n",
       "      <th>1N2_2</th>\n",
       "      <th>season</th>\n",
       "      <th>home_team_rank_FIFA</th>\n",
       "      <th>away_team_rank_FIFA</th>\n",
       "      <th>target</th>\n",
       "      <th>set</th>\n",
       "    </tr>\n",
       "  </thead>\n",
       "  <tbody>\n",
       "    <tr>\n",
       "      <th>count</th>\n",
       "      <td>4219.000000</td>\n",
       "      <td>4219.000000</td>\n",
       "      <td>4219.000000</td>\n",
       "      <td>4219.000000</td>\n",
       "      <td>4219.000000</td>\n",
       "      <td>4219.000000</td>\n",
       "      <td>4219.000000</td>\n",
       "      <td>4219.000000</td>\n",
       "    </tr>\n",
       "    <tr>\n",
       "      <th>mean</th>\n",
       "      <td>0.034896</td>\n",
       "      <td>0.098981</td>\n",
       "      <td>0.049557</td>\n",
       "      <td>0.996462</td>\n",
       "      <td>0.297752</td>\n",
       "      <td>0.324652</td>\n",
       "      <td>0.802560</td>\n",
       "      <td>0.015169</td>\n",
       "    </tr>\n",
       "    <tr>\n",
       "      <th>std</th>\n",
       "      <td>0.054354</td>\n",
       "      <td>0.066705</td>\n",
       "      <td>0.065775</td>\n",
       "      <td>0.002332</td>\n",
       "      <td>0.228665</td>\n",
       "      <td>0.234400</td>\n",
       "      <td>0.850143</td>\n",
       "      <td>0.122241</td>\n",
       "    </tr>\n",
       "    <tr>\n",
       "      <th>min</th>\n",
       "      <td>0.011181</td>\n",
       "      <td>0.044475</td>\n",
       "      <td>0.008315</td>\n",
       "      <td>0.991089</td>\n",
       "      <td>0.004759</td>\n",
       "      <td>0.004759</td>\n",
       "      <td>0.000000</td>\n",
       "      <td>0.000000</td>\n",
       "    </tr>\n",
       "    <tr>\n",
       "      <th>25%</th>\n",
       "      <td>0.016883</td>\n",
       "      <td>0.073361</td>\n",
       "      <td>0.019957</td>\n",
       "      <td>0.994554</td>\n",
       "      <td>0.109430</td>\n",
       "      <td>0.128892</td>\n",
       "      <td>0.000000</td>\n",
       "      <td>0.000000</td>\n",
       "    </tr>\n",
       "    <tr>\n",
       "      <th>50%</th>\n",
       "      <td>0.022809</td>\n",
       "      <td>0.078634</td>\n",
       "      <td>0.029935</td>\n",
       "      <td>0.996535</td>\n",
       "      <td>0.250446</td>\n",
       "      <td>0.279595</td>\n",
       "      <td>1.000000</td>\n",
       "      <td>0.000000</td>\n",
       "    </tr>\n",
       "    <tr>\n",
       "      <th>75%</th>\n",
       "      <td>0.032536</td>\n",
       "      <td>0.097432</td>\n",
       "      <td>0.053426</td>\n",
       "      <td>0.998515</td>\n",
       "      <td>0.441801</td>\n",
       "      <td>0.474321</td>\n",
       "      <td>2.000000</td>\n",
       "      <td>0.000000</td>\n",
       "    </tr>\n",
       "    <tr>\n",
       "      <th>max</th>\n",
       "      <td>1.000000</td>\n",
       "      <td>1.000000</td>\n",
       "      <td>1.000000</td>\n",
       "      <td>1.000000</td>\n",
       "      <td>1.000000</td>\n",
       "      <td>1.000000</td>\n",
       "      <td>2.000000</td>\n",
       "      <td>1.000000</td>\n",
       "    </tr>\n",
       "  </tbody>\n",
       "</table>\n",
       "</div>"
      ],
      "text/plain": [
       "             1N2_1        1N2_N        1N2_2       season  \\\n",
       "count  4219.000000  4219.000000  4219.000000  4219.000000   \n",
       "mean      0.034896     0.098981     0.049557     0.996462   \n",
       "std       0.054354     0.066705     0.065775     0.002332   \n",
       "min       0.011181     0.044475     0.008315     0.991089   \n",
       "25%       0.016883     0.073361     0.019957     0.994554   \n",
       "50%       0.022809     0.078634     0.029935     0.996535   \n",
       "75%       0.032536     0.097432     0.053426     0.998515   \n",
       "max       1.000000     1.000000     1.000000     1.000000   \n",
       "\n",
       "       home_team_rank_FIFA  away_team_rank_FIFA       target          set  \n",
       "count          4219.000000          4219.000000  4219.000000  4219.000000  \n",
       "mean              0.297752             0.324652     0.802560     0.015169  \n",
       "std               0.228665             0.234400     0.850143     0.122241  \n",
       "min               0.004759             0.004759     0.000000     0.000000  \n",
       "25%               0.109430             0.128892     0.000000     0.000000  \n",
       "50%               0.250446             0.279595     1.000000     0.000000  \n",
       "75%               0.441801             0.474321     2.000000     0.000000  \n",
       "max               1.000000             1.000000     2.000000     1.000000  "
      ]
     },
     "execution_count": 70,
     "metadata": {},
     "output_type": "execute_result"
    }
   ],
   "source": [
    "data_cols = ['1N2_1','1N2_N','1N2_2','season','home_team_rank_FIFA','away_team_rank_FIFA','target','set']\n",
    "df.loc[df.query('competition.str.contains(\"world-cup\") and season == 2018', engine='python').index,'set']=1\n",
    "df.set.fillna(0, inplace=True)\n",
    "df = df[data_cols].copy()\n",
    "\n",
    "# normalize the input dataset\n",
    "target_column = ['target']\n",
    "predictors = list(set(list(df.columns))-set(target_column))\n",
    "df[predictors] = df[predictors]/df[predictors].max()\n",
    "df.describe()"
   ]
  },
  {
   "cell_type": "code",
   "execution_count": 71,
   "metadata": {},
   "outputs": [
    {
     "name": "stdout",
     "output_type": "stream",
     "text": [
      "(4155, 7)\n",
      "(64, 7)\n"
     ]
    }
   ],
   "source": [
    "X_train = df.query('set==0')[predictors].values\n",
    "y_train = df.query('set==0')[target_column].values\n",
    "\n",
    "X_test = df.query('set==1')[predictors].values\n",
    "y_test = df.query('set==1')[target_column].values\n",
    "\n",
    "print(X_train.shape); print(X_test.shape)\n",
    "\n",
    "y_train = to_categorical(y_train)\n",
    "y_test = to_categorical(y_test)\n"
   ]
  },
  {
   "cell_type": "code",
   "execution_count": 87,
   "metadata": {},
   "outputs": [
    {
     "name": "stdout",
     "output_type": "stream",
     "text": [
      "130/130 [==============================] - 0s 2ms/step\n",
      "Accuracy on training 0.5742478966712952. Error is 0.42575210332870483\n",
      "2/2 [==============================] - 0s 2ms/step\n",
      "Accuracy on test data 0.625. Error is 0.375\n"
     ]
    }
   ],
   "source": [
    "model = Sequential()\n",
    "model.add(Dense(500, activation='relu', kernel_initializer='normal', input_dim=7))\n",
    "model.add(Dense(100, kernel_initializer='normal', activation='relu'))\n",
    "model.add(Dense(50,kernel_initializer='normal', activation='relu'))\n",
    "model.add(Dense(3, activation='sigmoid'))\n",
    "\n",
    "\n",
    "\"\"\"\n",
    "model = Sequential()\n",
    "model.add(Dense(64, activation='relu', input_dim=7))\n",
    "model.add(Dense(32, activation='relu'))\n",
    "model.add(Dense(16, activation='relu'))\n",
    "model.add(Dense(8, activation='relu'))\n",
    "model.add(Dense(3, activation='softmax'))\n",
    "\n",
    "\"\"\"\n",
    "\n",
    "\n",
    "# Compile the model\n",
    "model.compile(optimizer= \n",
    "                        #keras.optimizers.Adam(lr=0.001, beta_1=0.9, beta_2=0.999,\n",
    "                        #    epsilon=None, decay=0.0, amsgrad=False),   \n",
    "                        #keras.optimizers.SGD(lr=0.01, momentum=0.0, decay=0.0,nesterov=False), \n",
    "                        'adam', \n",
    "              loss='categorical_crossentropy', \n",
    "              metrics=['accuracy'])\n",
    "\n",
    "model.fit(X_train, y_train, epochs=3, batch_size=32, verbose=0)\n",
    "\n",
    "pred_train = model.predict(X_train)\n",
    "scores = model.evaluate(X_train, y_train, verbose=0)\n",
    "print(f'Accuracy on training {scores[1]}. Error is {1-scores[1]}')\n",
    "\n",
    "pred_train = model.predict(X_test)\n",
    "scores = model.evaluate(X_test, y_test, verbose=0)\n",
    "print(f'Accuracy on test data {scores[1]}. Error is {1-scores[1]}')"
   ]
  },
  {
   "cell_type": "code",
   "execution_count": 88,
   "metadata": {},
   "outputs": [
    {
     "name": "stdout",
     "output_type": "stream",
     "text": [
      "2/2 [==============================] - 0s 6ms/step\n"
     ]
    }
   ],
   "source": [
    "\n",
    "pred = model.predict(X_test)\n",
    "bet=[]\n",
    "for i in range(0,20):\n",
    "    max_value= max(pred[i])\n",
    "    max_index = pred[i].tolist().index(max_value)\n",
    "    bet.append(max_index)"
   ]
  },
  {
   "cell_type": "code",
   "execution_count": 89,
   "metadata": {},
   "outputs": [
    {
     "data": {
      "text/plain": [
       "([2, 2, 2, 2, 0, 2, 2, 0, 2, 2, 2, 2, 2, 0, 2, 0, 2, 2, 0, 0],\n",
       " array([[0.39105406, 0.3831398 , 0.6033059 ],\n",
       "        [0.40999997, 0.37364817, 0.5814457 ],\n",
       "        [0.47690213, 0.37670645, 0.4927482 ],\n",
       "        [0.3723271 , 0.38126913, 0.62560105],\n",
       "        [0.5091024 , 0.38465336, 0.43806514],\n",
       "        [0.19308363, 0.28539008, 0.84923583],\n",
       "        [0.3270378 , 0.35496905, 0.6885232 ],\n",
       "        [0.59908295, 0.36572278, 0.31316215],\n",
       "        [0.4133009 , 0.37423033, 0.577288  ],\n",
       "        [0.33645135, 0.36185965, 0.67449695],\n",
       "        [0.42991713, 0.38340956, 0.5536659 ],\n",
       "        [0.41013595, 0.370067  , 0.5841296 ],\n",
       "        [0.3513771 , 0.36343822, 0.65783644],\n",
       "        [0.6534503 , 0.347135  , 0.24896021],\n",
       "        [0.4178929 , 0.39511985, 0.56113225],\n",
       "        [0.5805729 , 0.37940904, 0.3345685 ],\n",
       "        [0.4196472 , 0.3900519 , 0.5642143 ],\n",
       "        [0.47000042, 0.3778634 , 0.5010997 ],\n",
       "        [0.7378518 , 0.3033042 , 0.1584862 ],\n",
       "        [0.63825285, 0.3471145 , 0.26657408]], dtype=float32))"
      ]
     },
     "execution_count": 89,
     "metadata": {},
     "output_type": "execute_result"
    }
   ],
   "source": [
    "bet, pred[:20]"
   ]
  },
  {
   "cell_type": "code",
   "execution_count": 90,
   "metadata": {},
   "outputs": [
    {
     "data": {
      "text/plain": [
       "array([[0., 0., 1.],\n",
       "       [0., 0., 1.],\n",
       "       [0., 0., 1.],\n",
       "       [0., 0., 1.],\n",
       "       [0., 0., 1.],\n",
       "       [1., 0., 0.],\n",
       "       [0., 0., 1.],\n",
       "       [0., 1., 0.],\n",
       "       [0., 0., 1.],\n",
       "       [0., 0., 1.],\n",
       "       [0., 0., 1.],\n",
       "       [0., 1., 0.],\n",
       "       [0., 1., 0.],\n",
       "       [0., 1., 0.],\n",
       "       [1., 0., 0.],\n",
       "       [1., 0., 0.],\n",
       "       [0., 1., 0.],\n",
       "       [0., 0., 1.],\n",
       "       [1., 0., 0.],\n",
       "       [1., 0., 0.]], dtype=float32)"
      ]
     },
     "execution_count": 90,
     "metadata": {},
     "output_type": "execute_result"
    }
   ],
   "source": [
    "y_test[:20]"
   ]
  },
  {
   "cell_type": "code",
   "execution_count": 23,
   "metadata": {},
   "outputs": [
    {
     "name": "stdout",
     "output_type": "stream",
     "text": [
      "Model: \"sequential_1\"\n",
      "_________________________________________________________________\n",
      " Layer (type)                Output Shape              Param #   \n",
      "=================================================================\n",
      " dense_4 (Dense)             (None, 500)               4000      \n",
      "                                                                 \n",
      " dense_5 (Dense)             (None, 100)               50100     \n",
      "                                                                 \n",
      " dense_6 (Dense)             (None, 50)                5050      \n",
      "                                                                 \n",
      " dense_7 (Dense)             (None, 3)                 153       \n",
      "                                                                 \n",
      "=================================================================\n",
      "Total params: 59,303\n",
      "Trainable params: 59,303\n",
      "Non-trainable params: 0\n",
      "_________________________________________________________________\n"
     ]
    }
   ],
   "source": [
    "model.summary()"
   ]
  },
  {
   "cell_type": "code",
   "execution_count": null,
   "metadata": {},
   "outputs": [],
   "source": []
  }
 ],
 "metadata": {
  "interpreter": {
   "hash": "40d3a090f54c6569ab1632332b64b2c03c39dcf918b08424e98f38b5ae0af88f"
  },
  "kernelspec": {
   "display_name": "Python 3.9.7 ('base')",
   "language": "python",
   "name": "python3"
  },
  "language_info": {
   "codemirror_mode": {
    "name": "ipython",
    "version": 3
   },
   "file_extension": ".py",
   "mimetype": "text/x-python",
   "name": "python",
   "nbconvert_exporter": "python",
   "pygments_lexer": "ipython3",
   "version": "3.9.7"
  },
  "orig_nbformat": 4
 },
 "nbformat": 4,
 "nbformat_minor": 2
}
