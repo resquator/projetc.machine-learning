{
 "cells": [
  {
   "cell_type": "markdown",
   "metadata": {},
   "source": [
    "# Data Preparation\n",
    "\n",
    "This Notebook opens all csv files and stores them in a concatenated dataframe.\n",
    "\n",
    "## Features Extraction & Features Engineering\n",
    "\n",
    "I won't work with all features for modeling process. \n",
    "\n",
    "### Features Extrcation\n",
    "\n",
    "Only relevant future will be store in the training/validation set. Those data are in 3 categories:\n",
    "\n",
    "- static data: team name, referee, game details\n",
    "- past values (goals, 1/N/2 for last x games)\n",
    "- odds by betting platform\n",
    "\n",
    "### Features Engineering\n",
    "\n",
    "Some features will be created to create new one.\n",
    "\n",
    "# Final Model & Predictions\n",
    "\n",
    "I want that the user just fill a few information for the predictions.\n",
    "The user must gives:\n",
    "\n",
    "- the game (Home Team / Away Team)\n",
    "- the date (which will converted in \"moment\" of the season)\n",
    "- the odds he get from a betting platform\n",
    "- team trends = a feeling (his/her own opinion of the team based on past 5 games)\n",
    "\n",
    "The model will be trained with a computed value for the \"trends\" based on last 5 games scores.\n",
    "\n",
    "An observation: Liverpool - Tottenham has odds (1/N2) 1.57 / 3.05 / 3.85 (THIS VALUES COME FROM THE BETTING WEBSITE)\n",
    "\n",
    "The observation in the model will have the same pattern, but odds will be computed based on the past games values.\n"
   ]
  },
  {
   "cell_type": "code",
   "execution_count": 5,
   "metadata": {},
   "outputs": [],
   "source": [
    "import pyforest\n",
    "from sklearn.preprocessing import OrdinalEncoder\n",
    "from sklearn.impute import SimpleImputer\n",
    "\n",
    "import os"
   ]
  },
  {
   "cell_type": "code",
   "execution_count": 7,
   "metadata": {},
   "outputs": [
    {
     "data": {
      "application/javascript": [
       "\n",
       "        if (window._pyforest_update_imports_cell) { window._pyforest_update_imports_cell('import pandas as pd'); }\n",
       "    "
      ],
      "text/plain": [
       "<IPython.core.display.Javascript object>"
      ]
     },
     "metadata": {},
     "output_type": "display_data"
    },
    {
     "data": {
      "application/javascript": [
       "\n",
       "        if (window._pyforest_update_imports_cell) { window._pyforest_update_imports_cell('import pandas as pd'); }\n",
       "    "
      ],
      "text/plain": [
       "<IPython.core.display.Javascript object>"
      ]
     },
     "metadata": {},
     "output_type": "display_data"
    },
    {
     "data": {
      "application/javascript": [
       "\n",
       "        if (window._pyforest_update_imports_cell) { window._pyforest_update_imports_cell('import pandas as pd'); }\n",
       "    "
      ],
      "text/plain": [
       "<IPython.core.display.Javascript object>"
      ]
     },
     "metadata": {},
     "output_type": "display_data"
    },
    {
     "data": {
      "application/javascript": [
       "\n",
       "        if (window._pyforest_update_imports_cell) { window._pyforest_update_imports_cell('import pandas as pd'); }\n",
       "    "
      ],
      "text/plain": [
       "<IPython.core.display.Javascript object>"
      ]
     },
     "metadata": {},
     "output_type": "display_data"
    },
    {
     "data": {
      "application/javascript": [
       "\n",
       "        if (window._pyforest_update_imports_cell) { window._pyforest_update_imports_cell('import pandas as pd'); }\n",
       "    "
      ],
      "text/plain": [
       "<IPython.core.display.Javascript object>"
      ]
     },
     "metadata": {},
     "output_type": "display_data"
    },
    {
     "data": {
      "application/javascript": [
       "\n",
       "        if (window._pyforest_update_imports_cell) { window._pyforest_update_imports_cell('import pandas as pd'); }\n",
       "    "
      ],
      "text/plain": [
       "<IPython.core.display.Javascript object>"
      ]
     },
     "metadata": {},
     "output_type": "display_data"
    },
    {
     "data": {
      "application/javascript": [
       "\n",
       "        if (window._pyforest_update_imports_cell) { window._pyforest_update_imports_cell('import pandas as pd'); }\n",
       "    "
      ],
      "text/plain": [
       "<IPython.core.display.Javascript object>"
      ]
     },
     "metadata": {},
     "output_type": "display_data"
    },
    {
     "data": {
      "application/javascript": [
       "\n",
       "        if (window._pyforest_update_imports_cell) { window._pyforest_update_imports_cell('import pandas as pd'); }\n",
       "    "
      ],
      "text/plain": [
       "<IPython.core.display.Javascript object>"
      ]
     },
     "metadata": {},
     "output_type": "display_data"
    },
    {
     "data": {
      "application/javascript": [
       "\n",
       "        if (window._pyforest_update_imports_cell) { window._pyforest_update_imports_cell('import pandas as pd'); }\n",
       "    "
      ],
      "text/plain": [
       "<IPython.core.display.Javascript object>"
      ]
     },
     "metadata": {},
     "output_type": "display_data"
    },
    {
     "data": {
      "application/javascript": [
       "\n",
       "        if (window._pyforest_update_imports_cell) { window._pyforest_update_imports_cell('import pandas as pd'); }\n",
       "    "
      ],
      "text/plain": [
       "<IPython.core.display.Javascript object>"
      ]
     },
     "metadata": {},
     "output_type": "display_data"
    },
    {
     "data": {
      "application/javascript": [
       "\n",
       "        if (window._pyforest_update_imports_cell) { window._pyforest_update_imports_cell('import pandas as pd'); }\n",
       "    "
      ],
      "text/plain": [
       "<IPython.core.display.Javascript object>"
      ]
     },
     "metadata": {},
     "output_type": "display_data"
    },
    {
     "data": {
      "application/javascript": [
       "\n",
       "        if (window._pyforest_update_imports_cell) { window._pyforest_update_imports_cell('import pandas as pd'); }\n",
       "    "
      ],
      "text/plain": [
       "<IPython.core.display.Javascript object>"
      ]
     },
     "metadata": {},
     "output_type": "display_data"
    },
    {
     "data": {
      "application/javascript": [
       "\n",
       "        if (window._pyforest_update_imports_cell) { window._pyforest_update_imports_cell('import pandas as pd'); }\n",
       "    "
      ],
      "text/plain": [
       "<IPython.core.display.Javascript object>"
      ]
     },
     "metadata": {},
     "output_type": "display_data"
    },
    {
     "data": {
      "application/javascript": [
       "\n",
       "        if (window._pyforest_update_imports_cell) { window._pyforest_update_imports_cell('import pandas as pd'); }\n",
       "    "
      ],
      "text/plain": [
       "<IPython.core.display.Javascript object>"
      ]
     },
     "metadata": {},
     "output_type": "display_data"
    },
    {
     "data": {
      "application/javascript": [
       "\n",
       "        if (window._pyforest_update_imports_cell) { window._pyforest_update_imports_cell('import pandas as pd'); }\n",
       "    "
      ],
      "text/plain": [
       "<IPython.core.display.Javascript object>"
      ]
     },
     "metadata": {},
     "output_type": "display_data"
    },
    {
     "data": {
      "application/javascript": [
       "\n",
       "        if (window._pyforest_update_imports_cell) { window._pyforest_update_imports_cell('import pandas as pd'); }\n",
       "    "
      ],
      "text/plain": [
       "<IPython.core.display.Javascript object>"
      ]
     },
     "metadata": {},
     "output_type": "display_data"
    },
    {
     "data": {
      "application/javascript": [
       "\n",
       "        if (window._pyforest_update_imports_cell) { window._pyforest_update_imports_cell('import pandas as pd'); }\n",
       "    "
      ],
      "text/plain": [
       "<IPython.core.display.Javascript object>"
      ]
     },
     "metadata": {},
     "output_type": "display_data"
    },
    {
     "data": {
      "application/javascript": [
       "\n",
       "        if (window._pyforest_update_imports_cell) { window._pyforest_update_imports_cell('import pandas as pd'); }\n",
       "    "
      ],
      "text/plain": [
       "<IPython.core.display.Javascript object>"
      ]
     },
     "metadata": {},
     "output_type": "display_data"
    },
    {
     "data": {
      "application/javascript": [
       "\n",
       "        if (window._pyforest_update_imports_cell) { window._pyforest_update_imports_cell('import pandas as pd'); }\n",
       "    "
      ],
      "text/plain": [
       "<IPython.core.display.Javascript object>"
      ]
     },
     "metadata": {},
     "output_type": "display_data"
    },
    {
     "data": {
      "application/javascript": [
       "\n",
       "        if (window._pyforest_update_imports_cell) { window._pyforest_update_imports_cell('import pandas as pd'); }\n",
       "    "
      ],
      "text/plain": [
       "<IPython.core.display.Javascript object>"
      ]
     },
     "metadata": {},
     "output_type": "display_data"
    },
    {
     "data": {
      "application/javascript": [
       "\n",
       "        if (window._pyforest_update_imports_cell) { window._pyforest_update_imports_cell('import pandas as pd'); }\n",
       "    "
      ],
      "text/plain": [
       "<IPython.core.display.Javascript object>"
      ]
     },
     "metadata": {},
     "output_type": "display_data"
    },
    {
     "data": {
      "application/javascript": [
       "\n",
       "        if (window._pyforest_update_imports_cell) { window._pyforest_update_imports_cell('import pandas as pd'); }\n",
       "    "
      ],
      "text/plain": [
       "<IPython.core.display.Javascript object>"
      ]
     },
     "metadata": {},
     "output_type": "display_data"
    },
    {
     "data": {
      "text/plain": [
       "(7610, 80)"
      ]
     },
     "execution_count": 7,
     "metadata": {},
     "output_type": "execute_result"
    }
   ],
   "source": [
    "# create a list of files\n",
    "files_and_directories = os.listdir(\"../data/\")\n",
    "files_and_directories\n",
    "\n",
    "# read all files\n",
    "# store \n",
    "all_files = []\n",
    "for file in files_and_directories:\n",
    "    if 'csv' in file:\n",
    "        temp = pd.read_csv('../data/'+str(file))\n",
    "        all_files.append(temp)\n",
    "        \n",
    "df = pd.concat(all_files, sort=False)\n",
    "\n",
    "# print the size of the full dataframe\n",
    "df.shape"
   ]
  },
  {
   "cell_type": "code",
   "execution_count": 8,
   "metadata": {},
   "outputs": [
    {
     "data": {
      "text/html": [
       "<div>\n",
       "<style scoped>\n",
       "    .dataframe tbody tr th:only-of-type {\n",
       "        vertical-align: middle;\n",
       "    }\n",
       "\n",
       "    .dataframe tbody tr th {\n",
       "        vertical-align: top;\n",
       "    }\n",
       "\n",
       "    .dataframe thead th {\n",
       "        text-align: right;\n",
       "    }\n",
       "</style>\n",
       "<table border=\"1\" class=\"dataframe\">\n",
       "  <thead>\n",
       "    <tr style=\"text-align: right;\">\n",
       "      <th></th>\n",
       "      <th>Div</th>\n",
       "      <th>Date</th>\n",
       "      <th>HomeTeam</th>\n",
       "      <th>AwayTeam</th>\n",
       "      <th>FTHG</th>\n",
       "      <th>FTAG</th>\n",
       "      <th>FTR</th>\n",
       "      <th>HTHG</th>\n",
       "      <th>HTAG</th>\n",
       "      <th>HTR</th>\n",
       "      <th>...</th>\n",
       "      <th>SJA</th>\n",
       "      <th>BSH</th>\n",
       "      <th>BSD</th>\n",
       "      <th>BSA</th>\n",
       "      <th>SBH</th>\n",
       "      <th>SBD</th>\n",
       "      <th>SBA</th>\n",
       "      <th>0</th>\n",
       "      <th>1</th>\n",
       "      <th>2</th>\n",
       "    </tr>\n",
       "  </thead>\n",
       "  <tbody>\n",
       "    <tr>\n",
       "      <th>375</th>\n",
       "      <td>E0</td>\n",
       "      <td>2010-05-09</td>\n",
       "      <td>Everton</td>\n",
       "      <td>Portsmouth</td>\n",
       "      <td>1.0</td>\n",
       "      <td>0.0</td>\n",
       "      <td>H</td>\n",
       "      <td>0.0</td>\n",
       "      <td>0.0</td>\n",
       "      <td>D</td>\n",
       "      <td>...</td>\n",
       "      <td>11.00</td>\n",
       "      <td>1.30</td>\n",
       "      <td>5.00</td>\n",
       "      <td>10.00</td>\n",
       "      <td>1.29</td>\n",
       "      <td>5.00</td>\n",
       "      <td>8.50</td>\n",
       "      <td>NaN</td>\n",
       "      <td>NaN</td>\n",
       "      <td>NaN</td>\n",
       "    </tr>\n",
       "    <tr>\n",
       "      <th>376</th>\n",
       "      <td>E0</td>\n",
       "      <td>2010-05-09</td>\n",
       "      <td>Hull</td>\n",
       "      <td>Liverpool</td>\n",
       "      <td>0.0</td>\n",
       "      <td>0.0</td>\n",
       "      <td>D</td>\n",
       "      <td>0.0</td>\n",
       "      <td>0.0</td>\n",
       "      <td>D</td>\n",
       "      <td>...</td>\n",
       "      <td>1.57</td>\n",
       "      <td>6.00</td>\n",
       "      <td>3.75</td>\n",
       "      <td>1.57</td>\n",
       "      <td>6.00</td>\n",
       "      <td>3.75</td>\n",
       "      <td>1.50</td>\n",
       "      <td>NaN</td>\n",
       "      <td>NaN</td>\n",
       "      <td>NaN</td>\n",
       "    </tr>\n",
       "    <tr>\n",
       "      <th>377</th>\n",
       "      <td>E0</td>\n",
       "      <td>2010-05-09</td>\n",
       "      <td>Man United</td>\n",
       "      <td>Stoke</td>\n",
       "      <td>4.0</td>\n",
       "      <td>0.0</td>\n",
       "      <td>H</td>\n",
       "      <td>2.0</td>\n",
       "      <td>0.0</td>\n",
       "      <td>H</td>\n",
       "      <td>...</td>\n",
       "      <td>21.00</td>\n",
       "      <td>1.11</td>\n",
       "      <td>7.50</td>\n",
       "      <td>23.00</td>\n",
       "      <td>1.11</td>\n",
       "      <td>7.50</td>\n",
       "      <td>15.00</td>\n",
       "      <td>NaN</td>\n",
       "      <td>NaN</td>\n",
       "      <td>NaN</td>\n",
       "    </tr>\n",
       "    <tr>\n",
       "      <th>378</th>\n",
       "      <td>E0</td>\n",
       "      <td>2010-05-09</td>\n",
       "      <td>West Ham</td>\n",
       "      <td>Man City</td>\n",
       "      <td>1.0</td>\n",
       "      <td>1.0</td>\n",
       "      <td>D</td>\n",
       "      <td>1.0</td>\n",
       "      <td>1.0</td>\n",
       "      <td>D</td>\n",
       "      <td>...</td>\n",
       "      <td>1.91</td>\n",
       "      <td>4.20</td>\n",
       "      <td>3.60</td>\n",
       "      <td>1.80</td>\n",
       "      <td>4.00</td>\n",
       "      <td>3.40</td>\n",
       "      <td>1.80</td>\n",
       "      <td>NaN</td>\n",
       "      <td>NaN</td>\n",
       "      <td>NaN</td>\n",
       "    </tr>\n",
       "    <tr>\n",
       "      <th>379</th>\n",
       "      <td>E0</td>\n",
       "      <td>2010-05-09</td>\n",
       "      <td>Wolves</td>\n",
       "      <td>Sunderland</td>\n",
       "      <td>2.0</td>\n",
       "      <td>1.0</td>\n",
       "      <td>H</td>\n",
       "      <td>1.0</td>\n",
       "      <td>1.0</td>\n",
       "      <td>D</td>\n",
       "      <td>...</td>\n",
       "      <td>3.00</td>\n",
       "      <td>2.38</td>\n",
       "      <td>3.25</td>\n",
       "      <td>3.00</td>\n",
       "      <td>2.25</td>\n",
       "      <td>3.20</td>\n",
       "      <td>2.88</td>\n",
       "      <td>NaN</td>\n",
       "      <td>NaN</td>\n",
       "      <td>NaN</td>\n",
       "    </tr>\n",
       "  </tbody>\n",
       "</table>\n",
       "<p>5 rows × 80 columns</p>\n",
       "</div>"
      ],
      "text/plain": [
       "    Div        Date    HomeTeam    AwayTeam  FTHG  FTAG FTR  HTHG  HTAG HTR  \\\n",
       "375  E0  2010-05-09     Everton  Portsmouth   1.0   0.0   H   0.0   0.0   D   \n",
       "376  E0  2010-05-09        Hull   Liverpool   0.0   0.0   D   0.0   0.0   D   \n",
       "377  E0  2010-05-09  Man United       Stoke   4.0   0.0   H   2.0   0.0   H   \n",
       "378  E0  2010-05-09    West Ham    Man City   1.0   1.0   D   1.0   1.0   D   \n",
       "379  E0  2010-05-09      Wolves  Sunderland   2.0   1.0   H   1.0   1.0   D   \n",
       "\n",
       "     ...    SJA   BSH   BSD    BSA   SBH   SBD    SBA   0   1   2  \n",
       "375  ...  11.00  1.30  5.00  10.00  1.29  5.00   8.50 NaN NaN NaN  \n",
       "376  ...   1.57  6.00  3.75   1.57  6.00  3.75   1.50 NaN NaN NaN  \n",
       "377  ...  21.00  1.11  7.50  23.00  1.11  7.50  15.00 NaN NaN NaN  \n",
       "378  ...   1.91  4.20  3.60   1.80  4.00  3.40   1.80 NaN NaN NaN  \n",
       "379  ...   3.00  2.38  3.25   3.00  2.25  3.20   2.88 NaN NaN NaN  \n",
       "\n",
       "[5 rows x 80 columns]"
      ]
     },
     "execution_count": 8,
     "metadata": {},
     "output_type": "execute_result"
    }
   ],
   "source": [
    "df.tail()"
   ]
  },
  {
   "cell_type": "code",
   "execution_count": 9,
   "metadata": {},
   "outputs": [
    {
     "data": {
      "application/javascript": [
       "\n",
       "        if (window._pyforest_update_imports_cell) { window._pyforest_update_imports_cell('import pandas as pd'); }\n",
       "    "
      ],
      "text/plain": [
       "<IPython.core.display.Javascript object>"
      ]
     },
     "metadata": {},
     "output_type": "display_data"
    },
    {
     "name": "stdout",
     "output_type": "stream",
     "text": [
      "(7610, 80)\n"
     ]
    }
   ],
   "source": [
    "# convert date columns\n",
    "df['Date'] = pd.to_datetime(df['Date'])\n",
    "\n",
    "# delete columns with all NaN\n",
    "df.dropna(axis=1, how='all', inplace=True)\n",
    "print(df.shape)"
   ]
  },
  {
   "cell_type": "code",
   "execution_count": 10,
   "metadata": {},
   "outputs": [
    {
     "data": {
      "application/javascript": [
       "\n",
       "        if (window._pyforest_update_imports_cell) { window._pyforest_update_imports_cell('import pandas as pd'); }\n",
       "    "
      ],
      "text/plain": [
       "<IPython.core.display.Javascript object>"
      ]
     },
     "metadata": {},
     "output_type": "display_data"
    },
    {
     "data": {
      "text/html": [
       "<div>\n",
       "<style scoped>\n",
       "    .dataframe tbody tr th:only-of-type {\n",
       "        vertical-align: middle;\n",
       "    }\n",
       "\n",
       "    .dataframe tbody tr th {\n",
       "        vertical-align: top;\n",
       "    }\n",
       "\n",
       "    .dataframe thead th {\n",
       "        text-align: right;\n",
       "    }\n",
       "</style>\n",
       "<table border=\"1\" class=\"dataframe\">\n",
       "  <thead>\n",
       "    <tr style=\"text-align: right;\">\n",
       "      <th></th>\n",
       "      <th>Cnt</th>\n",
       "    </tr>\n",
       "  </thead>\n",
       "  <tbody>\n",
       "    <tr>\n",
       "      <th>Div</th>\n",
       "      <td>10</td>\n",
       "    </tr>\n",
       "    <tr>\n",
       "      <th>Date</th>\n",
       "      <td>10</td>\n",
       "    </tr>\n",
       "    <tr>\n",
       "      <th>HomeTeam</th>\n",
       "      <td>10</td>\n",
       "    </tr>\n",
       "    <tr>\n",
       "      <th>AwayTeam</th>\n",
       "      <td>10</td>\n",
       "    </tr>\n",
       "    <tr>\n",
       "      <th>FTHG</th>\n",
       "      <td>10</td>\n",
       "    </tr>\n",
       "  </tbody>\n",
       "</table>\n",
       "</div>"
      ],
      "text/plain": [
       "          Cnt\n",
       "Div        10\n",
       "Date       10\n",
       "HomeTeam   10\n",
       "AwayTeam   10\n",
       "FTHG       10"
      ]
     },
     "execution_count": 10,
     "metadata": {},
     "output_type": "execute_result"
    }
   ],
   "source": [
    "missing_columns = pd.DataFrame(df.isnull().sum())\n",
    "missing_columns.columns = ['Cnt']\n",
    "missing_columns.head()"
   ]
  },
  {
   "cell_type": "code",
   "execution_count": 11,
   "metadata": {},
   "outputs": [
    {
     "data": {
      "text/plain": [
       "(7610, 56)"
      ]
     },
     "execution_count": 11,
     "metadata": {},
     "output_type": "execute_result"
    }
   ],
   "source": [
    "for idx, r in missing_columns.iterrows():\n",
    "    if r['Cnt']>30:\n",
    "        df.drop(idx,axis=1,inplace=True)\n",
    "        \n",
    "df.shape"
   ]
  },
  {
   "cell_type": "markdown",
   "metadata": {},
   "source": [
    "## Explory Data Analysis\n",
    "\n",
    "- append values (SimpleImputer)\n",
    "- convert some columns\n",
    "- plot some descriptive statistics\n"
   ]
  },
  {
   "cell_type": "code",
   "execution_count": 12,
   "metadata": {},
   "outputs": [
    {
     "data": {
      "application/javascript": [
       "\n",
       "        if (window._pyforest_update_imports_cell) { window._pyforest_update_imports_cell('import pandas as pd'); }\n",
       "    "
      ],
      "text/plain": [
       "<IPython.core.display.Javascript object>"
      ]
     },
     "metadata": {},
     "output_type": "display_data"
    }
   ],
   "source": [
    "# transform OHE the FTR (full time 1/N/2) and the Half Time (1/N/2)\n",
    "df.reset_index(inplace=True, drop=True)\n",
    "temp_ohe = pd.get_dummies(df[['FTR','HTR']])\n",
    "df = df.merge(temp_ohe, left_index=True, right_index=True)\n",
    "df.drop(['Div'], axis=1, inplace=True)"
   ]
  },
  {
   "cell_type": "code",
   "execution_count": 13,
   "metadata": {},
   "outputs": [
    {
     "data": {
      "text/plain": [
       "(7610, 61)"
      ]
     },
     "execution_count": 13,
     "metadata": {},
     "output_type": "execute_result"
    }
   ],
   "source": [
    "# encode the refereee\n",
    "imp = SimpleImputer(strategy=\"most_frequent\")\n",
    "referee = imp.fit_transform(df[['Referee']])\n",
    "df['Referee']=referee\n",
    "oe = OrdinalEncoder()\n",
    "referee = oe.fit_transform(df[['Referee']])\n",
    "\n",
    "df['Referee']=referee\n",
    "\n",
    "df.shape"
   ]
  },
  {
   "cell_type": "code",
   "execution_count": 14,
   "metadata": {},
   "outputs": [],
   "source": [
    "df.dropna(axis=0, inplace=True)"
   ]
  },
  {
   "cell_type": "code",
   "execution_count": 15,
   "metadata": {},
   "outputs": [
    {
     "data": {
      "text/plain": [
       "0"
      ]
     },
     "execution_count": 15,
     "metadata": {},
     "output_type": "execute_result"
    }
   ],
   "source": [
    "df.isnull().sum().sum()"
   ]
  },
  {
   "cell_type": "code",
   "execution_count": 16,
   "metadata": {},
   "outputs": [
    {
     "data": {
      "text/plain": [
       "(7576, 61)"
      ]
     },
     "execution_count": 16,
     "metadata": {},
     "output_type": "execute_result"
    }
   ],
   "source": [
    "df.shape"
   ]
  },
  {
   "cell_type": "code",
   "execution_count": 17,
   "metadata": {},
   "outputs": [
    {
     "data": {
      "text/plain": [
       "Index(['Date', 'HomeTeam', 'AwayTeam', 'FTHG', 'FTAG', 'FTR', 'HTHG', 'HTAG',\n",
       "       'HTR', 'Referee', 'HS', 'AS', 'HST', 'AST', 'HF', 'AF', 'HC', 'AC',\n",
       "       'HY', 'AY', 'HR', 'AR', 'B365H', 'B365D', 'B365A', 'BWH', 'BWD', 'BWA',\n",
       "       'IWH', 'IWD', 'IWA', 'WHH', 'WHD', 'WHA', 'VCH', 'VCD', 'VCA', 'Bb1X2',\n",
       "       'BbMxH', 'BbAvH', 'BbMxD', 'BbAvD', 'BbMxA', 'BbAvA', 'BbOU',\n",
       "       'BbMx>2.5', 'BbAv>2.5', 'BbMx<2.5', 'BbAv<2.5', 'BbAH', 'BbAHh',\n",
       "       'BbMxAHH', 'BbAvAHH', 'BbMxAHA', 'BbAvAHA', 'FTR_A', 'FTR_D', 'FTR_H',\n",
       "       'HTR_A', 'HTR_D', 'HTR_H'],\n",
       "      dtype='object')"
      ]
     },
     "execution_count": 17,
     "metadata": {},
     "output_type": "execute_result"
    }
   ],
   "source": [
    "df.columns"
   ]
  },
  {
   "cell_type": "markdown",
   "metadata": {},
   "source": [
    "# Data definition\n",
    "http://www.football-data.co.uk/notes.txt\n",
    "\n",
    "### Key to results data:\n",
    "\n",
    "- Div = League Division\n",
    "- Date = Match Date (dd/mm/yy)\n",
    "- Time = Time of match kick off\n",
    "- HomeTeam = Home Team\n",
    "- AwayTeam = Away Team\n",
    "- FTHG and HG = Full Time Home Team Goals\n",
    "- FTAG and AG = Full Time Away Team Goals\n",
    "- FTR and Res = Full Time Result (H=Home Win, D=Draw, A=Away Win)\n",
    "- HTHG = Half Time Home Team Goals\n",
    "- HTAG = Half Time Away Team Goals\n",
    "- HTR = Half Time Result (H=Home Win, D=Draw, A=Away Win)\n",
    "\n",
    "### Match Statistics (where available)\n",
    "- Attendance = Crowd Attendance\n",
    "- Referee = Match Referee\n",
    "- HS = Home Team Shots\n",
    "- AS = Away Team Shots\n",
    "- HST = Home Team Shots on Target\n",
    "- AST = Away Team Shots on Target\n",
    "- HHW = Home Team Hit Woodwork\n",
    "- AHW = Away Team Hit Woodwork\n",
    "- HC = Home Team Corners\n",
    "- AC = Away Team Corners\n",
    "- HF = Home Team Fouls Committed\n",
    "- AF = Away Team Fouls Committed\n",
    "- HFKC = Home Team Free Kicks Conceded\n",
    "- AFKC = Away Team Free Kicks Conceded\n",
    "- HO = Home Team Offsides\n",
    "- AO = Away Team Offsides\n",
    "- HY = Home Team Yellow Cards\n",
    "- AY = Away Team Yellow Cards\n",
    "- HR = Home Team Red Cards\n",
    "- AR = Away Team Red Cards\n",
    "- HBP = Home Team Bookings Points (10 = yellow, 25 = red)\n",
    "- ABP = Away Team Bookings Points (10 = yellow, 25 = red)"
   ]
  },
  {
   "cell_type": "markdown",
   "metadata": {},
   "source": [
    "### Key to 1X2 (match) betting odds data:\n",
    "\n",
    "- B365H = Bet365 home win odds\n",
    "- B365D = Bet365 draw odds\n",
    "- B365A = Bet365 away win odds\n",
    "- BSH = Blue Square home win odds\n",
    "- BSD = Blue Square draw odds\n",
    "- BSA = Blue Square away win odds\n",
    "- BWH = Bet&Win home win odds\n",
    "- BWD = Bet&Win draw odds\n",
    "- BWA = Bet&Win away win odds\n",
    "- GBH = Gamebookers home win odds\n",
    "- GBD = Gamebookers draw odds\n",
    "- GBA = Gamebookers away win odds\n",
    "- IWH = Interwetten home win odds\n",
    "- IWD = Interwetten draw odds\n",
    "- IWA = Interwetten away win odds\n",
    "- LBH = Ladbrokes home win odds\n",
    "- LBD = Ladbrokes draw odds\n",
    "- LBA = Ladbrokes away win odds\n",
    "- PSH and PH = Pinnacle home win odds\n",
    "- PSD and PD = Pinnacle draw odds\n",
    "- PSA and PA = Pinnacle away win odds\n",
    "- SOH = Sporting Odds home win odds\n",
    "- SOD = Sporting Odds draw odds\n",
    "- SOA = Sporting Odds away win odds\n",
    "- SBH = Sportingbet home win odds\n",
    "- SBD = Sportingbet draw odds\n",
    "- SBA = Sportingbet away win odds\n",
    "- SJH = Stan James home win odds\n",
    "- SJD = Stan James draw odds\n",
    "- SJA = Stan James away win odds\n",
    "- SYH = Stanleybet home win odds\n",
    "- SYD = Stanleybet draw odds\n",
    "- SYA = Stanleybet away win odds\n",
    "- VCH = VC Bet home win odds\n",
    "- VCD = VC Bet draw odds\n",
    "- VCA = VC Bet away win odds\n",
    "- WHH = William Hill home win odds\n",
    "- WHD = William Hill draw odds\n",
    "- WHA = William Hill away win odds"
   ]
  },
  {
   "cell_type": "markdown",
   "metadata": {},
   "source": [
    "## Explore the betting columns\n",
    "\n",
    "The target is to build set of pronostics [x.yy, x.yy, x.yy] which means Home, D, Away for each betting platform.\n",
    "\n",
    "Missing value will be filled with the line (other betting platform).\n",
    "\n",
    "Betting score are always in 3 features which ended by:\n",
    "- \"H\" for home\n",
    "- \"D\" for deuce\n",
    "- \"A\" for Away\n",
    "\n",
    "### Extract columns from the dataset\n",
    "\n",
    "Extract columns from dataset and build a dictionary of feature name by betting platform\n"
   ]
  },
  {
   "cell_type": "code",
   "execution_count": 22,
   "metadata": {},
   "outputs": [
    {
     "data": {
      "text/plain": [
       "{'B365': ['B365H', 'B365D', 'B365A'],\n",
       " 'BW': ['BWH', 'BWD', 'BWA'],\n",
       " 'IW': ['IWH', 'IWD', 'IWA'],\n",
       " 'WH': ['WHH', 'WHD', 'WHA'],\n",
       " 'VC': ['VCH', 'VCD', 'VCA'],\n",
       " 'BbMx': ['BbMxH', 'BbMxD', 'BbMxA'],\n",
       " 'BbAv': ['BbAvH', 'BbAvD', 'BbAvA']}"
      ]
     },
     "execution_count": 22,
     "metadata": {},
     "output_type": "execute_result"
    }
   ],
   "source": [
    "all_betting_cols = [x for x in df.columns.tolist() if str(x).endswith(\"H\") \n",
    "                    or str(x).endswith(\"D\") or str(x).endswith(\"A\")]\n",
    "all_betting_cols\n",
    "\n",
    "# from that list extract the betting platform\n",
    "betting_platform={}\n",
    "for v in all_betting_cols:\n",
    "    bp = v[:-1]\n",
    "    if bp != 'FTR_' and bp != 'HTR_' and bp != 'BbA' and bp != 'BbMxAH' and bp != 'BbAvAH':\n",
    "        betting_platform[bp] = [f\"{bp}H\",f\"{bp}D\",f\"{bp}A\"]\n",
    "\n",
    "betting_platform"
   ]
  },
  {
   "cell_type": "markdown",
   "metadata": {},
   "source": [
    "### create the new dataset\n",
    "read each row of the original dataset and for the betting platform create a new row, the dictionary will be\n",
    "- day features such as teams and score\n",
    "- date\n",
    "- betting platform odds\n"
   ]
  },
  {
   "cell_type": "code",
   "execution_count": 44,
   "metadata": {},
   "outputs": [],
   "source": [
    "new_set = []\n",
    "for idx, r in df.iterrows():\n",
    "    static_variable = [r.HomeTeam, r.AwayTeam, r.Date.month]\n",
    "    for key in betting_platform:\n",
    "        temp = betting_platform[key]\n",
    "        temp_odds =r[temp]\n",
    "        new_set.append([static_variable[0],\n",
    "                        static_variable[1],\n",
    "                        static_variable[2],\n",
    "                        temp_odds[0], temp_odds[1], temp_odds[2],\n",
    "                        r.FTR]\n",
    "                        )\n"
   ]
  },
  {
   "cell_type": "code",
   "execution_count": 45,
   "metadata": {},
   "outputs": [
    {
     "data": {
      "application/javascript": [
       "\n",
       "        if (window._pyforest_update_imports_cell) { window._pyforest_update_imports_cell('import pandas as pd'); }\n",
       "    "
      ],
      "text/plain": [
       "<IPython.core.display.Javascript object>"
      ]
     },
     "metadata": {},
     "output_type": "display_data"
    },
    {
     "data": {
      "text/plain": [
       "(53032, 7)"
      ]
     },
     "execution_count": 45,
     "metadata": {},
     "output_type": "execute_result"
    }
   ],
   "source": [
    "bet=pd.DataFrame(new_set)\n",
    "bet.dropna(inplace=True)\n",
    "bet.shape"
   ]
  },
  {
   "cell_type": "code",
   "execution_count": 46,
   "metadata": {},
   "outputs": [
    {
     "data": {
      "text/plain": [
       "0    0\n",
       "1    0\n",
       "2    0\n",
       "3    0\n",
       "4    0\n",
       "5    0\n",
       "6    0\n",
       "dtype: int64"
      ]
     },
     "execution_count": 46,
     "metadata": {},
     "output_type": "execute_result"
    }
   ],
   "source": [
    "bet.isnull().sum()"
   ]
  },
  {
   "cell_type": "code",
   "execution_count": 47,
   "metadata": {},
   "outputs": [
    {
     "data": {
      "text/plain": [
       "0     object\n",
       "1     object\n",
       "2      int64\n",
       "3    float64\n",
       "4    float64\n",
       "5    float64\n",
       "6     object\n",
       "dtype: object"
      ]
     },
     "execution_count": 47,
     "metadata": {},
     "output_type": "execute_result"
    }
   ],
   "source": [
    "bet.dtypes"
   ]
  },
  {
   "cell_type": "code",
   "execution_count": 48,
   "metadata": {},
   "outputs": [
    {
     "data": {
      "text/html": [
       "<div>\n",
       "<style scoped>\n",
       "    .dataframe tbody tr th:only-of-type {\n",
       "        vertical-align: middle;\n",
       "    }\n",
       "\n",
       "    .dataframe tbody tr th {\n",
       "        vertical-align: top;\n",
       "    }\n",
       "\n",
       "    .dataframe thead th {\n",
       "        text-align: right;\n",
       "    }\n",
       "</style>\n",
       "<table border=\"1\" class=\"dataframe\">\n",
       "  <thead>\n",
       "    <tr style=\"text-align: right;\">\n",
       "      <th></th>\n",
       "      <th>0</th>\n",
       "      <th>1</th>\n",
       "      <th>2</th>\n",
       "      <th>3</th>\n",
       "      <th>4</th>\n",
       "      <th>5</th>\n",
       "      <th>6</th>\n",
       "    </tr>\n",
       "  </thead>\n",
       "  <tbody>\n",
       "    <tr>\n",
       "      <th>6154</th>\n",
       "      <td>Aston Villa</td>\n",
       "      <td>Arsenal</td>\n",
       "      <td>11</td>\n",
       "      <td>5.00</td>\n",
       "      <td>3.80</td>\n",
       "      <td>1.65</td>\n",
       "      <td>D</td>\n",
       "    </tr>\n",
       "    <tr>\n",
       "      <th>36990</th>\n",
       "      <td>Bournemouth</td>\n",
       "      <td>Burnley</td>\n",
       "      <td>5</td>\n",
       "      <td>2.00</td>\n",
       "      <td>3.40</td>\n",
       "      <td>3.80</td>\n",
       "      <td>H</td>\n",
       "    </tr>\n",
       "    <tr>\n",
       "      <th>28958</th>\n",
       "      <td>Liverpool</td>\n",
       "      <td>Stoke</td>\n",
       "      <td>4</td>\n",
       "      <td>1.31</td>\n",
       "      <td>5.54</td>\n",
       "      <td>9.73</td>\n",
       "      <td>D</td>\n",
       "    </tr>\n",
       "    <tr>\n",
       "      <th>38802</th>\n",
       "      <td>Wigan</td>\n",
       "      <td>Everton</td>\n",
       "      <td>4</td>\n",
       "      <td>3.60</td>\n",
       "      <td>3.30</td>\n",
       "      <td>2.05</td>\n",
       "      <td>D</td>\n",
       "    </tr>\n",
       "    <tr>\n",
       "      <th>22552</th>\n",
       "      <td>Huddersfield</td>\n",
       "      <td>Stoke</td>\n",
       "      <td>12</td>\n",
       "      <td>2.57</td>\n",
       "      <td>3.30</td>\n",
       "      <td>3.25</td>\n",
       "      <td>D</td>\n",
       "    </tr>\n",
       "    <tr>\n",
       "      <th>38502</th>\n",
       "      <td>Wolves</td>\n",
       "      <td>Chelsea</td>\n",
       "      <td>2</td>\n",
       "      <td>5.40</td>\n",
       "      <td>3.60</td>\n",
       "      <td>1.57</td>\n",
       "      <td>A</td>\n",
       "    </tr>\n",
       "  </tbody>\n",
       "</table>\n",
       "</div>"
      ],
      "text/plain": [
       "                  0        1   2     3     4     5  6\n",
       "6154    Aston Villa  Arsenal  11  5.00  3.80  1.65  D\n",
       "36990   Bournemouth  Burnley   5  2.00  3.40  3.80  H\n",
       "28958     Liverpool    Stoke   4  1.31  5.54  9.73  D\n",
       "38802         Wigan  Everton   4  3.60  3.30  2.05  D\n",
       "22552  Huddersfield    Stoke  12  2.57  3.30  3.25  D\n",
       "38502        Wolves  Chelsea   2  5.40  3.60  1.57  A"
      ]
     },
     "execution_count": 48,
     "metadata": {},
     "output_type": "execute_result"
    }
   ],
   "source": [
    "bet.sample(6)"
   ]
  },
  {
   "cell_type": "code",
   "execution_count": 49,
   "metadata": {},
   "outputs": [
    {
     "data": {
      "text/html": [
       "<div>\n",
       "<style scoped>\n",
       "    .dataframe tbody tr th:only-of-type {\n",
       "        vertical-align: middle;\n",
       "    }\n",
       "\n",
       "    .dataframe tbody tr th {\n",
       "        vertical-align: top;\n",
       "    }\n",
       "\n",
       "    .dataframe thead th {\n",
       "        text-align: right;\n",
       "    }\n",
       "</style>\n",
       "<table border=\"1\" class=\"dataframe\">\n",
       "  <thead>\n",
       "    <tr style=\"text-align: right;\">\n",
       "      <th></th>\n",
       "      <th>0</th>\n",
       "      <th>1</th>\n",
       "      <th>2</th>\n",
       "      <th>3</th>\n",
       "      <th>4</th>\n",
       "      <th>5</th>\n",
       "      <th>6</th>\n",
       "    </tr>\n",
       "  </thead>\n",
       "  <tbody>\n",
       "    <tr>\n",
       "      <th>16522</th>\n",
       "      <td>Fulham</td>\n",
       "      <td>Man United</td>\n",
       "      <td>2</td>\n",
       "      <td>5.60</td>\n",
       "      <td>3.90</td>\n",
       "      <td>1.55</td>\n",
       "      <td>A</td>\n",
       "    </tr>\n",
       "    <tr>\n",
       "      <th>51086</th>\n",
       "      <td>Portsmouth</td>\n",
       "      <td>Wigan</td>\n",
       "      <td>10</td>\n",
       "      <td>2.38</td>\n",
       "      <td>3.30</td>\n",
       "      <td>3.00</td>\n",
       "      <td>H</td>\n",
       "    </tr>\n",
       "    <tr>\n",
       "      <th>3353</th>\n",
       "      <td>Arsenal</td>\n",
       "      <td>Fulham</td>\n",
       "      <td>10</td>\n",
       "      <td>1.53</td>\n",
       "      <td>4.20</td>\n",
       "      <td>6.00</td>\n",
       "      <td>D</td>\n",
       "    </tr>\n",
       "    <tr>\n",
       "      <th>35798</th>\n",
       "      <td>Swansea</td>\n",
       "      <td>Bournemouth</td>\n",
       "      <td>12</td>\n",
       "      <td>2.90</td>\n",
       "      <td>3.40</td>\n",
       "      <td>2.60</td>\n",
       "      <td>A</td>\n",
       "    </tr>\n",
       "    <tr>\n",
       "      <th>12027</th>\n",
       "      <td>Southampton</td>\n",
       "      <td>Man City</td>\n",
       "      <td>12</td>\n",
       "      <td>9.50</td>\n",
       "      <td>5.00</td>\n",
       "      <td>1.34</td>\n",
       "      <td>A</td>\n",
       "    </tr>\n",
       "    <tr>\n",
       "      <th>36867</th>\n",
       "      <td>Everton</td>\n",
       "      <td>Chelsea</td>\n",
       "      <td>4</td>\n",
       "      <td>3.90</td>\n",
       "      <td>3.70</td>\n",
       "      <td>2.10</td>\n",
       "      <td>A</td>\n",
       "    </tr>\n",
       "    <tr>\n",
       "      <th>45526</th>\n",
       "      <td>Southampton</td>\n",
       "      <td>QPR</td>\n",
       "      <td>9</td>\n",
       "      <td>1.51</td>\n",
       "      <td>4.80</td>\n",
       "      <td>8.90</td>\n",
       "      <td>H</td>\n",
       "    </tr>\n",
       "    <tr>\n",
       "      <th>49921</th>\n",
       "      <td>Sunderland</td>\n",
       "      <td>West Ham</td>\n",
       "      <td>3</td>\n",
       "      <td>2.25</td>\n",
       "      <td>3.40</td>\n",
       "      <td>3.50</td>\n",
       "      <td>A</td>\n",
       "    </tr>\n",
       "    <tr>\n",
       "      <th>7258</th>\n",
       "      <td>Swansea</td>\n",
       "      <td>Newcastle</td>\n",
       "      <td>2</td>\n",
       "      <td>2.08</td>\n",
       "      <td>3.41</td>\n",
       "      <td>3.54</td>\n",
       "      <td>H</td>\n",
       "    </tr>\n",
       "  </tbody>\n",
       "</table>\n",
       "</div>"
      ],
      "text/plain": [
       "                 0            1   2     3     4     5  6\n",
       "16522       Fulham   Man United   2  5.60  3.90  1.55  A\n",
       "51086   Portsmouth        Wigan  10  2.38  3.30  3.00  H\n",
       "3353       Arsenal       Fulham  10  1.53  4.20  6.00  D\n",
       "35798      Swansea  Bournemouth  12  2.90  3.40  2.60  A\n",
       "12027  Southampton     Man City  12  9.50  5.00  1.34  A\n",
       "36867      Everton      Chelsea   4  3.90  3.70  2.10  A\n",
       "45526  Southampton          QPR   9  1.51  4.80  8.90  H\n",
       "49921   Sunderland     West Ham   3  2.25  3.40  3.50  A\n",
       "7258       Swansea    Newcastle   2  2.08  3.41  3.54  H"
      ]
     },
     "execution_count": 49,
     "metadata": {},
     "output_type": "execute_result"
    }
   ],
   "source": [
    "#bet.loc[:,5] = bet.loc[:,5].map({'H':-1,'D':0,'A':1})\n",
    "bet.sample(9)"
   ]
  },
  {
   "cell_type": "code",
   "execution_count": 50,
   "metadata": {},
   "outputs": [
    {
     "data": {
      "application/javascript": [
       "\n",
       "        if (window._pyforest_update_imports_cell) { window._pyforest_update_imports_cell('import pandas as pd\\nimport numpy as np'); }\n",
       "    "
      ],
      "text/plain": [
       "<IPython.core.display.Javascript object>"
      ]
     },
     "metadata": {},
     "output_type": "display_data"
    },
    {
     "data": {
      "application/javascript": [
       "\n",
       "        if (window._pyforest_update_imports_cell) { window._pyforest_update_imports_cell('import pandas as pd\\nimport numpy as np'); }\n",
       "    "
      ],
      "text/plain": [
       "<IPython.core.display.Javascript object>"
      ]
     },
     "metadata": {},
     "output_type": "display_data"
    }
   ],
   "source": [
    "oe = OrdinalEncoder()\n",
    "bet['H']=oe.fit_transform(np.array(bet.loc[:,0].tolist()).reshape(-1,1))\n",
    "bet['A']=oe.fit_transform(np.array(bet.loc[:,1].tolist()).reshape(-1,1))"
   ]
  },
  {
   "cell_type": "code",
   "execution_count": 53,
   "metadata": {},
   "outputs": [
    {
     "data": {
      "text/html": [
       "<div>\n",
       "<style scoped>\n",
       "    .dataframe tbody tr th:only-of-type {\n",
       "        vertical-align: middle;\n",
       "    }\n",
       "\n",
       "    .dataframe tbody tr th {\n",
       "        vertical-align: top;\n",
       "    }\n",
       "\n",
       "    .dataframe thead th {\n",
       "        text-align: right;\n",
       "    }\n",
       "</style>\n",
       "<table border=\"1\" class=\"dataframe\">\n",
       "  <thead>\n",
       "    <tr style=\"text-align: right;\">\n",
       "      <th></th>\n",
       "      <th>Hteam</th>\n",
       "      <th>Ateam</th>\n",
       "      <th>Month</th>\n",
       "      <th>1</th>\n",
       "      <th>N</th>\n",
       "      <th>2</th>\n",
       "      <th>Result</th>\n",
       "      <th>TeamH</th>\n",
       "      <th>TeamA</th>\n",
       "    </tr>\n",
       "  </thead>\n",
       "  <tbody>\n",
       "    <tr>\n",
       "      <th>3336</th>\n",
       "      <td>Liverpool</td>\n",
       "      <td>Newcastle</td>\n",
       "      <td>4</td>\n",
       "      <td>1.57</td>\n",
       "      <td>4.20</td>\n",
       "      <td>6.5</td>\n",
       "      <td>D</td>\n",
       "      <td>17.0</td>\n",
       "      <td>21.0</td>\n",
       "    </tr>\n",
       "    <tr>\n",
       "      <th>32822</th>\n",
       "      <td>Hull</td>\n",
       "      <td>West Brom</td>\n",
       "      <td>6</td>\n",
       "      <td>2.39</td>\n",
       "      <td>3.22</td>\n",
       "      <td>3.1</td>\n",
       "      <td>D</td>\n",
       "      <td>15.0</td>\n",
       "      <td>32.0</td>\n",
       "    </tr>\n",
       "    <tr>\n",
       "      <th>27401</th>\n",
       "      <td>Swansea</td>\n",
       "      <td>Bournemouth</td>\n",
       "      <td>11</td>\n",
       "      <td>2.80</td>\n",
       "      <td>3.20</td>\n",
       "      <td>2.7</td>\n",
       "      <td>D</td>\n",
       "      <td>29.0</td>\n",
       "      <td>6.0</td>\n",
       "    </tr>\n",
       "    <tr>\n",
       "      <th>9293</th>\n",
       "      <td>Leicester</td>\n",
       "      <td>Man City</td>\n",
       "      <td>12</td>\n",
       "      <td>4.40</td>\n",
       "      <td>4.10</td>\n",
       "      <td>1.8</td>\n",
       "      <td>D</td>\n",
       "      <td>16.0</td>\n",
       "      <td>18.0</td>\n",
       "    </tr>\n",
       "    <tr>\n",
       "      <th>8715</th>\n",
       "      <td>Watford</td>\n",
       "      <td>West Ham</td>\n",
       "      <td>10</td>\n",
       "      <td>2.60</td>\n",
       "      <td>3.40</td>\n",
       "      <td>2.9</td>\n",
       "      <td>H</td>\n",
       "      <td>31.0</td>\n",
       "      <td>33.0</td>\n",
       "    </tr>\n",
       "    <tr>\n",
       "      <th>12174</th>\n",
       "      <td>Arsenal</td>\n",
       "      <td>Chelsea</td>\n",
       "      <td>1</td>\n",
       "      <td>3.00</td>\n",
       "      <td>3.50</td>\n",
       "      <td>2.3</td>\n",
       "      <td>H</td>\n",
       "      <td>0.0</td>\n",
       "      <td>10.0</td>\n",
       "    </tr>\n",
       "    <tr>\n",
       "      <th>42604</th>\n",
       "      <td>Man City</td>\n",
       "      <td>Liverpool</td>\n",
       "      <td>8</td>\n",
       "      <td>2.40</td>\n",
       "      <td>3.20</td>\n",
       "      <td>2.7</td>\n",
       "      <td>H</td>\n",
       "      <td>18.0</td>\n",
       "      <td>17.0</td>\n",
       "    </tr>\n",
       "    <tr>\n",
       "      <th>47743</th>\n",
       "      <td>Everton</td>\n",
       "      <td>Tottenham</td>\n",
       "      <td>5</td>\n",
       "      <td>2.40</td>\n",
       "      <td>3.10</td>\n",
       "      <td>3.1</td>\n",
       "      <td>A</td>\n",
       "      <td>12.0</td>\n",
       "      <td>30.0</td>\n",
       "    </tr>\n",
       "    <tr>\n",
       "      <th>12421</th>\n",
       "      <td>Liverpool</td>\n",
       "      <td>Bournemouth</td>\n",
       "      <td>9</td>\n",
       "      <td>1.20</td>\n",
       "      <td>7.00</td>\n",
       "      <td>15.0</td>\n",
       "      <td>H</td>\n",
       "      <td>17.0</td>\n",
       "      <td>6.0</td>\n",
       "    </tr>\n",
       "  </tbody>\n",
       "</table>\n",
       "</div>"
      ],
      "text/plain": [
       "           Hteam        Ateam  Month     1     N     2 Result  TeamH  TeamA\n",
       "3336   Liverpool    Newcastle      4  1.57  4.20   6.5      D   17.0   21.0\n",
       "32822       Hull    West Brom      6  2.39  3.22   3.1      D   15.0   32.0\n",
       "27401    Swansea  Bournemouth     11  2.80  3.20   2.7      D   29.0    6.0\n",
       "9293   Leicester     Man City     12  4.40  4.10   1.8      D   16.0   18.0\n",
       "8715     Watford     West Ham     10  2.60  3.40   2.9      H   31.0   33.0\n",
       "12174    Arsenal      Chelsea      1  3.00  3.50   2.3      H    0.0   10.0\n",
       "42604   Man City    Liverpool      8  2.40  3.20   2.7      H   18.0   17.0\n",
       "47743    Everton    Tottenham      5  2.40  3.10   3.1      A   12.0   30.0\n",
       "12421  Liverpool  Bournemouth      9  1.20  7.00  15.0      H   17.0    6.0"
      ]
     },
     "execution_count": 53,
     "metadata": {},
     "output_type": "execute_result"
    }
   ],
   "source": [
    "bet.columns=['Hteam','Ateam','Month','1','N','2','Result','TeamH','TeamA']\n",
    "bet.sample(9)"
   ]
  },
  {
   "cell_type": "code",
   "execution_count": 54,
   "metadata": {},
   "outputs": [],
   "source": [
    "bet.to_csv('../data/bet.csv', index=False)"
   ]
  },
  {
   "cell_type": "code",
   "execution_count": null,
   "metadata": {},
   "outputs": [],
   "source": []
  }
 ],
 "metadata": {
  "kernelspec": {
   "display_name": "Python 3",
   "language": "python",
   "name": "python3"
  },
  "language_info": {
   "codemirror_mode": {
    "name": "ipython",
    "version": 3
   },
   "file_extension": ".py",
   "mimetype": "text/x-python",
   "name": "python",
   "nbconvert_exporter": "python",
   "pygments_lexer": "ipython3",
   "version": "3.8.8"
  },
  "widgets": {
   "application/vnd.jupyter.widget-state+json": {
    "state": {},
    "version_major": 2,
    "version_minor": 0
   }
  }
 },
 "nbformat": 4,
 "nbformat_minor": 4
}
