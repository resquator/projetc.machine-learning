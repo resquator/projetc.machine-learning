{
 "cells": [
  {
   "cell_type": "code",
   "execution_count": 1,
   "metadata": {},
   "outputs": [],
   "source": [
    "from sklearn.datasets import make_classification\n",
    "from sklearn.multioutput import MultiOutputClassifier\n",
    "from sklearn.ensemble import RandomForestClassifier\n",
    "\n",
    "from sklearn.model_selection import train_test_split\n",
    "\n",
    "from sklearn.utils import shuffle\n",
    "import numpy as np\n",
    "import pyforest"
   ]
  },
  {
   "cell_type": "code",
   "execution_count": 2,
   "metadata": {},
   "outputs": [],
   "source": [
    "X, y1 = make_classification(n_samples=10, n_features=6, n_informative=3, n_classes=3, random_state=1)\n",
    "y2 = shuffle(y1, random_state=1)\n",
    "y3 = shuffle(y1, random_state=2)\n",
    "Y = np.vstack((y1, y2, y3)).T\n",
    "n_samples, n_features = X.shape # 10,100\n",
    "n_outputs = Y.shape[1] # 3\n",
    "n_classes = 3"
   ]
  },
  {
   "cell_type": "code",
   "execution_count": 3,
   "metadata": {},
   "outputs": [
    {
     "name": "stdout",
     "output_type": "stream",
     "text": [
      "[ 0.12485758 -0.8230969   0.02325242  1.1133852   1.63913742 -0.24407447]\n",
      "0\n"
     ]
    }
   ],
   "source": [
    "print(X[0])\n",
    "print(y1[0])"
   ]
  },
  {
   "cell_type": "code",
   "execution_count": 4,
   "metadata": {},
   "outputs": [
    {
     "data": {
      "application/javascript": [
       "\n",
       "        if (window._pyforest_update_imports_cell) { window._pyforest_update_imports_cell('import pandas as pd'); }\n",
       "    "
      ],
      "text/plain": [
       "<IPython.core.display.Javascript object>"
      ]
     },
     "metadata": {},
     "output_type": "display_data"
    },
    {
     "data": {
      "text/plain": [
       "(44626, 7)"
      ]
     },
     "execution_count": 4,
     "metadata": {},
     "output_type": "execute_result"
    }
   ],
   "source": [
    "data = pd.read_csv('bet.csv')\n",
    "data.shape"
   ]
  },
  {
   "cell_type": "code",
   "execution_count": 5,
   "metadata": {},
   "outputs": [],
   "source": [
    "# reduce the dataset for smaller volumne\n",
    "data = data.sample(6000)"
   ]
  },
  {
   "cell_type": "code",
   "execution_count": 6,
   "metadata": {},
   "outputs": [
    {
     "data": {
      "text/plain": [
       "(6000, 7)"
      ]
     },
     "execution_count": 6,
     "metadata": {},
     "output_type": "execute_result"
    }
   ],
   "source": [
    "data.shape"
   ]
  },
  {
   "cell_type": "code",
   "execution_count": 7,
   "metadata": {},
   "outputs": [
    {
     "data": {
      "text/html": [
       "<div>\n",
       "<style scoped>\n",
       "    .dataframe tbody tr th:only-of-type {\n",
       "        vertical-align: middle;\n",
       "    }\n",
       "\n",
       "    .dataframe tbody tr th {\n",
       "        vertical-align: top;\n",
       "    }\n",
       "\n",
       "    .dataframe thead th {\n",
       "        text-align: right;\n",
       "    }\n",
       "</style>\n",
       "<table border=\"1\" class=\"dataframe\">\n",
       "  <thead>\n",
       "    <tr style=\"text-align: right;\">\n",
       "      <th></th>\n",
       "      <th>Hteam</th>\n",
       "      <th>Ateam</th>\n",
       "      <th>Month</th>\n",
       "      <th>Odd-1</th>\n",
       "      <th>Odd-N</th>\n",
       "      <th>Odd-2</th>\n",
       "      <th>Target</th>\n",
       "    </tr>\n",
       "  </thead>\n",
       "  <tbody>\n",
       "    <tr>\n",
       "      <th>35888</th>\n",
       "      <td>Blackpool</td>\n",
       "      <td>Blackburn</td>\n",
       "      <td>9</td>\n",
       "      <td>3.12</td>\n",
       "      <td>3.29</td>\n",
       "      <td>2.28</td>\n",
       "      <td>0.0</td>\n",
       "    </tr>\n",
       "    <tr>\n",
       "      <th>4986</th>\n",
       "      <td>Chelsea</td>\n",
       "      <td>Man United</td>\n",
       "      <td>10</td>\n",
       "      <td>2.40</td>\n",
       "      <td>3.40</td>\n",
       "      <td>2.90</td>\n",
       "      <td>0.0</td>\n",
       "    </tr>\n",
       "    <tr>\n",
       "      <th>36250</th>\n",
       "      <td>Stoke</td>\n",
       "      <td>Birmingham</td>\n",
       "      <td>9</td>\n",
       "      <td>2.15</td>\n",
       "      <td>3.35</td>\n",
       "      <td>4.05</td>\n",
       "      <td>2.0</td>\n",
       "    </tr>\n",
       "    <tr>\n",
       "      <th>12002</th>\n",
       "      <td>Stoke</td>\n",
       "      <td>Birmingham</td>\n",
       "      <td>9</td>\n",
       "      <td>2.10</td>\n",
       "      <td>3.20</td>\n",
       "      <td>3.20</td>\n",
       "      <td>2.0</td>\n",
       "    </tr>\n",
       "    <tr>\n",
       "      <th>26916</th>\n",
       "      <td>Liverpool</td>\n",
       "      <td>West Brom</td>\n",
       "      <td>4</td>\n",
       "      <td>1.44</td>\n",
       "      <td>4.33</td>\n",
       "      <td>7.00</td>\n",
       "      <td>2.0</td>\n",
       "    </tr>\n",
       "  </tbody>\n",
       "</table>\n",
       "</div>"
      ],
      "text/plain": [
       "           Hteam       Ateam  Month  Odd-1  Odd-N  Odd-2  Target\n",
       "35888  Blackpool   Blackburn      9   3.12   3.29   2.28     0.0\n",
       "4986     Chelsea  Man United     10   2.40   3.40   2.90     0.0\n",
       "36250      Stoke  Birmingham      9   2.15   3.35   4.05     2.0\n",
       "12002      Stoke  Birmingham      9   2.10   3.20   3.20     2.0\n",
       "26916  Liverpool   West Brom      4   1.44   4.33   7.00     2.0"
      ]
     },
     "execution_count": 7,
     "metadata": {},
     "output_type": "execute_result"
    }
   ],
   "source": [
    "data.head(5)"
   ]
  },
  {
   "cell_type": "code",
   "execution_count": 8,
   "metadata": {},
   "outputs": [
    {
     "name": "stdout",
     "output_type": "stream",
     "text": [
      "Dataset Size = (6000, 7)\n"
     ]
    }
   ],
   "source": [
    "X = data.drop('Target', axis=1)\n",
    "y1 = data.Target.values\n",
    "print(f\"Dataset Size = {data.shape}\")\n"
   ]
  },
  {
   "cell_type": "code",
   "execution_count": 9,
   "metadata": {},
   "outputs": [],
   "source": [
    "y2 = shuffle(y1, random_state=1)\n",
    "y3 = shuffle(y1, random_state=2)\n",
    "y = np.vstack((y1, y2, y3)).T\n",
    "\n",
    "n_outputs = y.shape[1] # 3\n",
    "n_classes = 3"
   ]
  },
  {
   "cell_type": "code",
   "execution_count": 10,
   "metadata": {},
   "outputs": [],
   "source": [
    "# split the dataset\n",
    "X_train, X_test, y_train, y_test = train_test_split(X, y1, test_size=0.1, random_state=42, shuffle=False )"
   ]
  },
  {
   "cell_type": "code",
   "execution_count": 11,
   "metadata": {},
   "outputs": [],
   "source": [
    "categorical_features = ['Hteam','Ateam']\n",
    "numerical_features = ['Odd-1','Odd-N','Odd-2','Month']"
   ]
  },
  {
   "cell_type": "code",
   "execution_count": 12,
   "metadata": {},
   "outputs": [],
   "source": [
    "from sklearn.preprocessing import StandardScaler, OrdinalEncoder\n",
    "from sklearn.impute import SimpleImputer\n",
    "from sklearn.compose import ColumnTransformer\n",
    "from sklearn.pipeline import Pipeline\n",
    "from sklearn.multiclass import OneVsRestClassifier"
   ]
  },
  {
   "cell_type": "code",
   "execution_count": 13,
   "metadata": {},
   "outputs": [],
   "source": [
    "numeric_transformer = Pipeline(steps=[\n",
    "       ('imputer', SimpleImputer(strategy='mean'))\n",
    "      ,('scaler', StandardScaler())\n",
    "])\n",
    "categorical_transformer = Pipeline(steps=[\n",
    "       ('imputer', SimpleImputer(strategy='constant'))\n",
    "      ,('encoder', OrdinalEncoder())\n",
    "])\n"
   ]
  },
  {
   "cell_type": "code",
   "execution_count": 14,
   "metadata": {},
   "outputs": [],
   "source": [
    "preprocessor = ColumnTransformer(\n",
    "   transformers=[\n",
    "    ('numeric', numeric_transformer, numerical_features)\n",
    "   ,('categorical', categorical_transformer, categorical_features)\n",
    "]) "
   ]
  },
  {
   "cell_type": "code",
   "execution_count": 15,
   "metadata": {},
   "outputs": [],
   "source": [
    "forest = RandomForestClassifier(random_state=1)\n",
    "multi_target_forest = OneVsRestClassifier(forest, n_jobs=-1)\n"
   ]
  },
  {
   "cell_type": "code",
   "execution_count": 16,
   "metadata": {},
   "outputs": [],
   "source": [
    "pipeline = Pipeline(steps = [\n",
    "               ('preprocessor', preprocessor)\n",
    "              ,('regressor',multi_target_forest)\n",
    "           ])\n"
   ]
  },
  {
   "cell_type": "code",
   "execution_count": 17,
   "metadata": {},
   "outputs": [],
   "source": [
    "proba=pipeline.fit(X_train, y_train).predict_proba(X_test)"
   ]
  },
  {
   "cell_type": "code",
   "execution_count": 18,
   "metadata": {},
   "outputs": [
    {
     "data": {
      "text/plain": [
       "0.725"
      ]
     },
     "execution_count": 18,
     "metadata": {},
     "output_type": "execute_result"
    }
   ],
   "source": [
    "# scoring the estimator\n",
    "y_pred = pipeline.predict(X_test)\n",
    "pipeline.score(X_test,np.array(y_test))"
   ]
  },
  {
   "cell_type": "code",
   "execution_count": 19,
   "metadata": {},
   "outputs": [
    {
     "data": {
      "text/plain": [
       "Pipeline(steps=[('preprocessor',\n",
       "                 ColumnTransformer(transformers=[('numeric',\n",
       "                                                  Pipeline(steps=[('imputer',\n",
       "                                                                   SimpleImputer()),\n",
       "                                                                  ('scaler',\n",
       "                                                                   StandardScaler())]),\n",
       "                                                  ['Odd-1', 'Odd-N', 'Odd-2',\n",
       "                                                   'Month']),\n",
       "                                                 ('categorical',\n",
       "                                                  Pipeline(steps=[('imputer',\n",
       "                                                                   SimpleImputer(strategy='constant')),\n",
       "                                                                  ('encoder',\n",
       "                                                                   OrdinalEncoder())]),\n",
       "                                                  ['Hteam', 'Ateam'])])),\n",
       "                ('regressor',\n",
       "                 OneVsRestClassifier(estimator=RandomForestClassifier(random_state=1),\n",
       "                                     n_jobs=-1))])"
      ]
     },
     "execution_count": 19,
     "metadata": {},
     "output_type": "execute_result"
    }
   ],
   "source": [
    "pipeline\n"
   ]
  },
  {
   "cell_type": "code",
   "execution_count": 20,
   "metadata": {},
   "outputs": [
    {
     "data": {
      "application/javascript": [
       "\n",
       "        if (window._pyforest_update_imports_cell) { window._pyforest_update_imports_cell('import pandas as pd'); }\n",
       "    "
      ],
      "text/plain": [
       "<IPython.core.display.Javascript object>"
      ]
     },
     "metadata": {},
     "output_type": "display_data"
    },
    {
     "data": {
      "text/plain": [
       "array([[0.37614679, 0.26605505, 0.35779817]])"
      ]
     },
     "execution_count": 20,
     "metadata": {},
     "output_type": "execute_result"
    }
   ],
   "source": [
    "one_row = pd.DataFrame(X_test.loc[X_test.index[2],:]).T\n",
    "y_pred=pipeline.predict_proba(one_row)\n",
    "y_pred"
   ]
  },
  {
   "cell_type": "code",
   "execution_count": 21,
   "metadata": {},
   "outputs": [
    {
     "data": {
      "text/html": [
       "<div>\n",
       "<style scoped>\n",
       "    .dataframe tbody tr th:only-of-type {\n",
       "        vertical-align: middle;\n",
       "    }\n",
       "\n",
       "    .dataframe tbody tr th {\n",
       "        vertical-align: top;\n",
       "    }\n",
       "\n",
       "    .dataframe thead th {\n",
       "        text-align: right;\n",
       "    }\n",
       "</style>\n",
       "<table border=\"1\" class=\"dataframe\">\n",
       "  <thead>\n",
       "    <tr style=\"text-align: right;\">\n",
       "      <th></th>\n",
       "      <th>Hteam</th>\n",
       "      <th>Ateam</th>\n",
       "      <th>Month</th>\n",
       "      <th>Odd-1</th>\n",
       "      <th>Odd-N</th>\n",
       "      <th>Odd-2</th>\n",
       "    </tr>\n",
       "  </thead>\n",
       "  <tbody>\n",
       "    <tr>\n",
       "      <th>35751</th>\n",
       "      <td>Sunderland</td>\n",
       "      <td>Man City</td>\n",
       "      <td>8</td>\n",
       "      <td>3.7</td>\n",
       "      <td>3.3</td>\n",
       "      <td>1.9</td>\n",
       "    </tr>\n",
       "  </tbody>\n",
       "</table>\n",
       "</div>"
      ],
      "text/plain": [
       "            Hteam     Ateam Month Odd-1 Odd-N Odd-2\n",
       "35751  Sunderland  Man City     8   3.7   3.3   1.9"
      ]
     },
     "execution_count": 21,
     "metadata": {},
     "output_type": "execute_result"
    }
   ],
   "source": [
    "one_row"
   ]
  },
  {
   "cell_type": "code",
   "execution_count": 22,
   "metadata": {},
   "outputs": [
    {
     "data": {
      "application/javascript": [
       "\n",
       "        if (window._pyforest_update_imports_cell) { window._pyforest_update_imports_cell('import pandas as pd'); }\n",
       "    "
      ],
      "text/plain": [
       "<IPython.core.display.Javascript object>"
      ]
     },
     "metadata": {},
     "output_type": "display_data"
    },
    {
     "data": {
      "text/html": [
       "<div>\n",
       "<style scoped>\n",
       "    .dataframe tbody tr th:only-of-type {\n",
       "        vertical-align: middle;\n",
       "    }\n",
       "\n",
       "    .dataframe tbody tr th {\n",
       "        vertical-align: top;\n",
       "    }\n",
       "\n",
       "    .dataframe thead th {\n",
       "        text-align: right;\n",
       "    }\n",
       "</style>\n",
       "<table border=\"1\" class=\"dataframe\">\n",
       "  <thead>\n",
       "    <tr style=\"text-align: right;\">\n",
       "      <th></th>\n",
       "      <th>Hteam</th>\n",
       "      <th>Ateam</th>\n",
       "      <th>Month</th>\n",
       "      <th>Odd-1</th>\n",
       "      <th>Odd-N</th>\n",
       "      <th>Odd-2</th>\n",
       "    </tr>\n",
       "  </thead>\n",
       "  <tbody>\n",
       "    <tr>\n",
       "      <th>0</th>\n",
       "      <td>Chelsea</td>\n",
       "      <td>Everton</td>\n",
       "      <td>4</td>\n",
       "      <td>2.34</td>\n",
       "      <td>3.78</td>\n",
       "      <td>3.03</td>\n",
       "    </tr>\n",
       "  </tbody>\n",
       "</table>\n",
       "</div>"
      ],
      "text/plain": [
       "     Hteam    Ateam Month Odd-1 Odd-N Odd-2\n",
       "0  Chelsea  Everton     4  2.34  3.78  3.03"
      ]
     },
     "execution_count": 22,
     "metadata": {},
     "output_type": "execute_result"
    }
   ],
   "source": [
    "one_row = pd.DataFrame(['Chelsea','Everton',4,2.34,3.78,3.03]).T\n",
    "one_row.columns = ['Hteam','Ateam','Month','Odd-1','Odd-N','Odd-2']\n",
    "one_row"
   ]
  },
  {
   "cell_type": "code",
   "execution_count": 23,
   "metadata": {},
   "outputs": [
    {
     "data": {
      "text/plain": [
       "array([[0.18367347, 0.20408163, 0.6122449 ]])"
      ]
     },
     "execution_count": 23,
     "metadata": {},
     "output_type": "execute_result"
    }
   ],
   "source": [
    "y_pred=pipeline.predict_proba(one_row)\n",
    "y_pred"
   ]
  },
  {
   "cell_type": "code",
   "execution_count": 24,
   "metadata": {},
   "outputs": [],
   "source": [
    "filename = '../foot-odds.pkl'\n",
    "\n",
    "import pickle\n",
    "pickle.dump(pipeline, open(filename, 'wb'))"
   ]
  },
  {
   "cell_type": "code",
   "execution_count": 25,
   "metadata": {},
   "outputs": [
    {
     "name": "stdout",
     "output_type": "stream",
     "text": [
      "[2.]\n"
     ]
    }
   ],
   "source": [
    "loaded_model = pickle.load(open(filename, 'rb'))\n",
    "result = loaded_model.predict(one_row)\n",
    "print(result)"
   ]
  },
  {
   "cell_type": "code",
   "execution_count": 26,
   "metadata": {},
   "outputs": [
    {
     "data": {
      "text/plain": [
       "Hteam    Sunderland\n",
       "Ateam      Man City\n",
       "Month             8\n",
       "Odd-1           3.7\n",
       "Odd-N           3.3\n",
       "Odd-2           1.9\n",
       "Name: 35751, dtype: object"
      ]
     },
     "execution_count": 26,
     "metadata": {},
     "output_type": "execute_result"
    }
   ],
   "source": [
    "X_test.loc[X_test.index[2],:]"
   ]
  },
  {
   "cell_type": "code",
   "execution_count": 27,
   "metadata": {},
   "outputs": [
    {
     "data": {
      "text/html": [
       "<div>\n",
       "<style scoped>\n",
       "    .dataframe tbody tr th:only-of-type {\n",
       "        vertical-align: middle;\n",
       "    }\n",
       "\n",
       "    .dataframe tbody tr th {\n",
       "        vertical-align: top;\n",
       "    }\n",
       "\n",
       "    .dataframe thead th {\n",
       "        text-align: right;\n",
       "    }\n",
       "</style>\n",
       "<table border=\"1\" class=\"dataframe\">\n",
       "  <thead>\n",
       "    <tr style=\"text-align: right;\">\n",
       "      <th></th>\n",
       "      <th>Hteam</th>\n",
       "      <th>Ateam</th>\n",
       "      <th>Month</th>\n",
       "      <th>Odd-1</th>\n",
       "      <th>Odd-N</th>\n",
       "      <th>Odd-2</th>\n",
       "    </tr>\n",
       "  </thead>\n",
       "  <tbody>\n",
       "    <tr>\n",
       "      <th>3913</th>\n",
       "      <td>Tottenham</td>\n",
       "      <td>Fulham</td>\n",
       "      <td>3</td>\n",
       "      <td>1.48</td>\n",
       "      <td>4.25</td>\n",
       "      <td>6.50</td>\n",
       "    </tr>\n",
       "    <tr>\n",
       "      <th>27077</th>\n",
       "      <td>Tottenham</td>\n",
       "      <td>Newcastle</td>\n",
       "      <td>10</td>\n",
       "      <td>1.70</td>\n",
       "      <td>3.60</td>\n",
       "      <td>4.70</td>\n",
       "    </tr>\n",
       "    <tr>\n",
       "      <th>27329</th>\n",
       "      <td>Tottenham</td>\n",
       "      <td>Everton</td>\n",
       "      <td>11</td>\n",
       "      <td>2.38</td>\n",
       "      <td>3.65</td>\n",
       "      <td>3.39</td>\n",
       "    </tr>\n",
       "    <tr>\n",
       "      <th>15989</th>\n",
       "      <td>Tottenham</td>\n",
       "      <td>Crystal Palace</td>\n",
       "      <td>8</td>\n",
       "      <td>1.46</td>\n",
       "      <td>4.48</td>\n",
       "      <td>7.49</td>\n",
       "    </tr>\n",
       "    <tr>\n",
       "      <th>36946</th>\n",
       "      <td>Tottenham</td>\n",
       "      <td>Man United</td>\n",
       "      <td>1</td>\n",
       "      <td>2.84</td>\n",
       "      <td>3.27</td>\n",
       "      <td>2.49</td>\n",
       "    </tr>\n",
       "    <tr>\n",
       "      <th>2652</th>\n",
       "      <td>Tottenham</td>\n",
       "      <td>Wigan</td>\n",
       "      <td>3</td>\n",
       "      <td>1.50</td>\n",
       "      <td>4.33</td>\n",
       "      <td>6.50</td>\n",
       "    </tr>\n",
       "    <tr>\n",
       "      <th>26703</th>\n",
       "      <td>Tottenham</td>\n",
       "      <td>Liverpool</td>\n",
       "      <td>8</td>\n",
       "      <td>2.70</td>\n",
       "      <td>3.50</td>\n",
       "      <td>2.70</td>\n",
       "    </tr>\n",
       "    <tr>\n",
       "      <th>4919</th>\n",
       "      <td>Tottenham</td>\n",
       "      <td>Chelsea</td>\n",
       "      <td>10</td>\n",
       "      <td>2.70</td>\n",
       "      <td>3.00</td>\n",
       "      <td>2.80</td>\n",
       "    </tr>\n",
       "    <tr>\n",
       "      <th>2487</th>\n",
       "      <td>Tottenham</td>\n",
       "      <td>Aston Villa</td>\n",
       "      <td>7</td>\n",
       "      <td>1.45</td>\n",
       "      <td>4.28</td>\n",
       "      <td>7.40</td>\n",
       "    </tr>\n",
       "    <tr>\n",
       "      <th>27549</th>\n",
       "      <td>Tottenham</td>\n",
       "      <td>Burnley</td>\n",
       "      <td>12</td>\n",
       "      <td>1.50</td>\n",
       "      <td>4.00</td>\n",
       "      <td>6.10</td>\n",
       "    </tr>\n",
       "    <tr>\n",
       "      <th>1061</th>\n",
       "      <td>Tottenham</td>\n",
       "      <td>Wolves</td>\n",
       "      <td>12</td>\n",
       "      <td>1.35</td>\n",
       "      <td>5.00</td>\n",
       "      <td>9.50</td>\n",
       "    </tr>\n",
       "    <tr>\n",
       "      <th>29674</th>\n",
       "      <td>Tottenham</td>\n",
       "      <td>Swansea</td>\n",
       "      <td>3</td>\n",
       "      <td>1.35</td>\n",
       "      <td>5.15</td>\n",
       "      <td>9.23</td>\n",
       "    </tr>\n",
       "    <tr>\n",
       "      <th>1926</th>\n",
       "      <td>Tottenham</td>\n",
       "      <td>West Ham</td>\n",
       "      <td>4</td>\n",
       "      <td>1.43</td>\n",
       "      <td>4.91</td>\n",
       "      <td>7.14</td>\n",
       "    </tr>\n",
       "    <tr>\n",
       "      <th>20312</th>\n",
       "      <td>Tottenham</td>\n",
       "      <td>Burnley</td>\n",
       "      <td>9</td>\n",
       "      <td>1.33</td>\n",
       "      <td>5.00</td>\n",
       "      <td>10.00</td>\n",
       "    </tr>\n",
       "    <tr>\n",
       "      <th>34340</th>\n",
       "      <td>Tottenham</td>\n",
       "      <td>Chelsea</td>\n",
       "      <td>12</td>\n",
       "      <td>2.60</td>\n",
       "      <td>3.50</td>\n",
       "      <td>2.75</td>\n",
       "    </tr>\n",
       "    <tr>\n",
       "      <th>34540</th>\n",
       "      <td>Tottenham</td>\n",
       "      <td>Wolves</td>\n",
       "      <td>1</td>\n",
       "      <td>1.27</td>\n",
       "      <td>5.49</td>\n",
       "      <td>10.91</td>\n",
       "    </tr>\n",
       "    <tr>\n",
       "      <th>2040</th>\n",
       "      <td>Tottenham</td>\n",
       "      <td>Everton</td>\n",
       "      <td>12</td>\n",
       "      <td>2.20</td>\n",
       "      <td>3.70</td>\n",
       "      <td>3.80</td>\n",
       "    </tr>\n",
       "    <tr>\n",
       "      <th>2039</th>\n",
       "      <td>Tottenham</td>\n",
       "      <td>Everton</td>\n",
       "      <td>12</td>\n",
       "      <td>2.10</td>\n",
       "      <td>3.50</td>\n",
       "      <td>3.70</td>\n",
       "    </tr>\n",
       "    <tr>\n",
       "      <th>38081</th>\n",
       "      <td>Tottenham</td>\n",
       "      <td>QPR</td>\n",
       "      <td>8</td>\n",
       "      <td>1.50</td>\n",
       "      <td>4.00</td>\n",
       "      <td>7.00</td>\n",
       "    </tr>\n",
       "    <tr>\n",
       "      <th>20031</th>\n",
       "      <td>Tottenham</td>\n",
       "      <td>Liverpool</td>\n",
       "      <td>8</td>\n",
       "      <td>3.20</td>\n",
       "      <td>3.20</td>\n",
       "      <td>2.30</td>\n",
       "    </tr>\n",
       "    <tr>\n",
       "      <th>27436</th>\n",
       "      <td>Tottenham</td>\n",
       "      <td>Crystal Palace</td>\n",
       "      <td>6</td>\n",
       "      <td>1.62</td>\n",
       "      <td>4.20</td>\n",
       "      <td>6.00</td>\n",
       "    </tr>\n",
       "    <tr>\n",
       "      <th>23830</th>\n",
       "      <td>Tottenham</td>\n",
       "      <td>Man City</td>\n",
       "      <td>4</td>\n",
       "      <td>2.50</td>\n",
       "      <td>3.40</td>\n",
       "      <td>2.75</td>\n",
       "    </tr>\n",
       "    <tr>\n",
       "      <th>30476</th>\n",
       "      <td>Tottenham</td>\n",
       "      <td>Southampton</td>\n",
       "      <td>3</td>\n",
       "      <td>1.70</td>\n",
       "      <td>3.90</td>\n",
       "      <td>5.50</td>\n",
       "    </tr>\n",
       "    <tr>\n",
       "      <th>36610</th>\n",
       "      <td>Tottenham</td>\n",
       "      <td>Chelsea</td>\n",
       "      <td>12</td>\n",
       "      <td>2.80</td>\n",
       "      <td>3.20</td>\n",
       "      <td>2.30</td>\n",
       "    </tr>\n",
       "    <tr>\n",
       "      <th>4916</th>\n",
       "      <td>Tottenham</td>\n",
       "      <td>Chelsea</td>\n",
       "      <td>10</td>\n",
       "      <td>2.50</td>\n",
       "      <td>3.40</td>\n",
       "      <td>2.75</td>\n",
       "    </tr>\n",
       "    <tr>\n",
       "      <th>41900</th>\n",
       "      <td>Tottenham</td>\n",
       "      <td>Cardiff</td>\n",
       "      <td>2</td>\n",
       "      <td>1.31</td>\n",
       "      <td>5.00</td>\n",
       "      <td>9.75</td>\n",
       "    </tr>\n",
       "    <tr>\n",
       "      <th>14089</th>\n",
       "      <td>Tottenham</td>\n",
       "      <td>West Ham</td>\n",
       "      <td>6</td>\n",
       "      <td>1.44</td>\n",
       "      <td>4.00</td>\n",
       "      <td>8.00</td>\n",
       "    </tr>\n",
       "    <tr>\n",
       "      <th>25679</th>\n",
       "      <td>Tottenham</td>\n",
       "      <td>Watford</td>\n",
       "      <td>6</td>\n",
       "      <td>1.49</td>\n",
       "      <td>4.22</td>\n",
       "      <td>7.19</td>\n",
       "    </tr>\n",
       "    <tr>\n",
       "      <th>3156</th>\n",
       "      <td>Tottenham</td>\n",
       "      <td>Stoke</td>\n",
       "      <td>12</td>\n",
       "      <td>1.61</td>\n",
       "      <td>3.72</td>\n",
       "      <td>5.89</td>\n",
       "    </tr>\n",
       "    <tr>\n",
       "      <th>5549</th>\n",
       "      <td>Tottenham</td>\n",
       "      <td>Stoke</td>\n",
       "      <td>12</td>\n",
       "      <td>1.67</td>\n",
       "      <td>3.55</td>\n",
       "      <td>5.00</td>\n",
       "    </tr>\n",
       "    <tr>\n",
       "      <th>13370</th>\n",
       "      <td>Tottenham</td>\n",
       "      <td>Arsenal</td>\n",
       "      <td>4</td>\n",
       "      <td>2.80</td>\n",
       "      <td>3.30</td>\n",
       "      <td>2.50</td>\n",
       "    </tr>\n",
       "    <tr>\n",
       "      <th>1533</th>\n",
       "      <td>Tottenham</td>\n",
       "      <td>Arsenal</td>\n",
       "      <td>2</td>\n",
       "      <td>2.00</td>\n",
       "      <td>3.65</td>\n",
       "      <td>3.55</td>\n",
       "    </tr>\n",
       "    <tr>\n",
       "      <th>15151</th>\n",
       "      <td>Tottenham</td>\n",
       "      <td>Everton</td>\n",
       "      <td>9</td>\n",
       "      <td>2.10</td>\n",
       "      <td>3.50</td>\n",
       "      <td>3.75</td>\n",
       "    </tr>\n",
       "    <tr>\n",
       "      <th>21593</th>\n",
       "      <td>Tottenham</td>\n",
       "      <td>Blackburn</td>\n",
       "      <td>3</td>\n",
       "      <td>1.50</td>\n",
       "      <td>3.90</td>\n",
       "      <td>6.50</td>\n",
       "    </tr>\n",
       "    <tr>\n",
       "      <th>7087</th>\n",
       "      <td>Tottenham</td>\n",
       "      <td>Everton</td>\n",
       "      <td>8</td>\n",
       "      <td>1.93</td>\n",
       "      <td>3.70</td>\n",
       "      <td>4.20</td>\n",
       "    </tr>\n",
       "    <tr>\n",
       "      <th>28127</th>\n",
       "      <td>Tottenham</td>\n",
       "      <td>West Ham</td>\n",
       "      <td>2</td>\n",
       "      <td>1.83</td>\n",
       "      <td>3.60</td>\n",
       "      <td>4.00</td>\n",
       "    </tr>\n",
       "    <tr>\n",
       "      <th>33919</th>\n",
       "      <td>Tottenham</td>\n",
       "      <td>QPR</td>\n",
       "      <td>10</td>\n",
       "      <td>1.36</td>\n",
       "      <td>4.75</td>\n",
       "      <td>9.00</td>\n",
       "    </tr>\n",
       "  </tbody>\n",
       "</table>\n",
       "</div>"
      ],
      "text/plain": [
       "           Hteam           Ateam  Month  Odd-1  Odd-N  Odd-2\n",
       "3913   Tottenham          Fulham      3   1.48   4.25   6.50\n",
       "27077  Tottenham       Newcastle     10   1.70   3.60   4.70\n",
       "27329  Tottenham         Everton     11   2.38   3.65   3.39\n",
       "15989  Tottenham  Crystal Palace      8   1.46   4.48   7.49\n",
       "36946  Tottenham      Man United      1   2.84   3.27   2.49\n",
       "2652   Tottenham           Wigan      3   1.50   4.33   6.50\n",
       "26703  Tottenham       Liverpool      8   2.70   3.50   2.70\n",
       "4919   Tottenham         Chelsea     10   2.70   3.00   2.80\n",
       "2487   Tottenham     Aston Villa      7   1.45   4.28   7.40\n",
       "27549  Tottenham         Burnley     12   1.50   4.00   6.10\n",
       "1061   Tottenham          Wolves     12   1.35   5.00   9.50\n",
       "29674  Tottenham         Swansea      3   1.35   5.15   9.23\n",
       "1926   Tottenham        West Ham      4   1.43   4.91   7.14\n",
       "20312  Tottenham         Burnley      9   1.33   5.00  10.00\n",
       "34340  Tottenham         Chelsea     12   2.60   3.50   2.75\n",
       "34540  Tottenham          Wolves      1   1.27   5.49  10.91\n",
       "2040   Tottenham         Everton     12   2.20   3.70   3.80\n",
       "2039   Tottenham         Everton     12   2.10   3.50   3.70\n",
       "38081  Tottenham             QPR      8   1.50   4.00   7.00\n",
       "20031  Tottenham       Liverpool      8   3.20   3.20   2.30\n",
       "27436  Tottenham  Crystal Palace      6   1.62   4.20   6.00\n",
       "23830  Tottenham        Man City      4   2.50   3.40   2.75\n",
       "30476  Tottenham     Southampton      3   1.70   3.90   5.50\n",
       "36610  Tottenham         Chelsea     12   2.80   3.20   2.30\n",
       "4916   Tottenham         Chelsea     10   2.50   3.40   2.75\n",
       "41900  Tottenham         Cardiff      2   1.31   5.00   9.75\n",
       "14089  Tottenham        West Ham      6   1.44   4.00   8.00\n",
       "25679  Tottenham         Watford      6   1.49   4.22   7.19\n",
       "3156   Tottenham           Stoke     12   1.61   3.72   5.89\n",
       "5549   Tottenham           Stoke     12   1.67   3.55   5.00\n",
       "13370  Tottenham         Arsenal      4   2.80   3.30   2.50\n",
       "1533   Tottenham         Arsenal      2   2.00   3.65   3.55\n",
       "15151  Tottenham         Everton      9   2.10   3.50   3.75\n",
       "21593  Tottenham       Blackburn      3   1.50   3.90   6.50\n",
       "7087   Tottenham         Everton      8   1.93   3.70   4.20\n",
       "28127  Tottenham        West Ham      2   1.83   3.60   4.00\n",
       "33919  Tottenham             QPR     10   1.36   4.75   9.00"
      ]
     },
     "execution_count": 27,
     "metadata": {},
     "output_type": "execute_result"
    }
   ],
   "source": [
    "X_test.query('Hteam==\"Tottenham\"')"
   ]
  },
  {
   "cell_type": "code",
   "execution_count": null,
   "metadata": {},
   "outputs": [],
   "source": []
  }
 ],
 "metadata": {
  "kernelspec": {
   "display_name": "display-name",
   "language": "python",
   "name": "daryl_pycaret"
  },
  "language_info": {
   "codemirror_mode": {
    "name": "ipython",
    "version": 3
   },
   "file_extension": ".py",
   "mimetype": "text/x-python",
   "name": "python",
   "nbconvert_exporter": "python",
   "pygments_lexer": "ipython3",
   "version": "3.6.13"
  },
  "toc": {
   "base_numbering": 1,
   "nav_menu": {},
   "number_sections": true,
   "sideBar": true,
   "skip_h1_title": false,
   "title_cell": "Table of Contents",
   "title_sidebar": "Contents",
   "toc_cell": false,
   "toc_position": {},
   "toc_section_display": true,
   "toc_window_display": false
  },
  "widgets": {
   "application/vnd.jupyter.widget-state+json": {
    "state": {},
    "version_major": 2,
    "version_minor": 0
   }
  }
 },
 "nbformat": 4,
 "nbformat_minor": 4
}
