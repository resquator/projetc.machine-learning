{
 "cells": [
  {
   "cell_type": "code",
   "execution_count": null,
   "id": "6ad9534a-9be3-4f52-bcfe-8c8af684b0b2",
   "metadata": {},
   "outputs": [],
   "source": [
    "pip install osxphotos"
   ]
  },
  {
   "cell_type": "code",
   "execution_count": null,
   "id": "0573fd3a-c57c-4bb1-8ba8-28c44ae86117",
   "metadata": {},
   "outputs": [],
   "source": [
    "import osxphotos\n",
    "import pyforest\n",
    "import os"
   ]
  },
  {
   "cell_type": "code",
   "execution_count": null,
   "id": "0dd759c3-ebeb-4937-92de-3273f612a825",
   "metadata": {},
   "outputs": [],
   "source": [
    "def main(albums_name = None):\n",
    "    photosdb = osxphotos.PhotosDB()\n",
    "    #print(photosdb.keywords)\n",
    "    #print(photosdb.persons)\n",
    "    #print(photosdb.album_names)\n",
    "\n",
    "    #print(photosdb.keywords_as_dict)\n",
    "    #print(photosdb.persons_as_dict)\n",
    "    #print(photosdb.albums_as_dict)\n",
    "    albums = photosdb.albums_as_dict\n",
    "    # find all photos with Keyword = Foo and containing John Smith\n",
    "    #photos = photosdb.photos(keywords=[\"Foo\"],persons=[\"John Smith\"])\n",
    "    images = []\n",
    "    \n",
    "    try:\n",
    "        #print(f\"Create {key} folder\")\n",
    "        os.mkdir(f\"./images\")\n",
    "    except:\n",
    "        pass\n",
    "    \n",
    "    for key in albums:\n",
    "\n",
    "\n",
    "        #print(f\"get photos in albums {key}\")\n",
    "        photos = photosdb.photos(albums=[key])\n",
    "        i=0\n",
    "        for p in photos:\n",
    "            images.append(\n",
    "                [key,\n",
    "                p.uuid,\n",
    "                p.filename,\n",
    "                p.original_filename,\n",
    "                p.date, p.date.year, p.date.month,\n",
    "                p.description,\n",
    "                p.title,\n",
    "                p.keywords,\n",
    "                p.albums,\n",
    "                p.persons,\n",
    "                p.path\n",
    "                ]\n",
    "            )\n",
    "            # p.export(f\"./{key}/\")\n",
    "            dest_dir = f\"./images/{p.date.year}/\"\n",
    "            \n",
    "            try:\n",
    "                #print(f\"Create {key} folder\")\n",
    "                os.mkdir(dest_dir)\n",
    "            except:\n",
    "                pass\n",
    "            #print(dest_dir)\n",
    "            #exported = p.export(dest_dir)\n",
    "            #print(exported,f\"{key}/{p.filename}\" )\n",
    "            #dest = f\"images/{p.albums[0]}/{p.albums[0]}_{i}.jpg\"\n",
    "            #os.rename(f\"images/{p.albums[0]}/{p.filename}\",dest)\n",
    "            i=i+1\n",
    "    return images\n"
   ]
  },
  {
   "cell_type": "code",
   "execution_count": null,
   "id": "6c022cfa-2c14-45be-992f-0f81b3cfd4be",
   "metadata": {
    "tags": []
   },
   "outputs": [],
   "source": [
    "images_df = main()"
   ]
  },
  {
   "cell_type": "code",
   "execution_count": null,
   "id": "2ef48a95-9800-4148-b3f2-6ec5b0aa8d2e",
   "metadata": {},
   "outputs": [],
   "source": [
    "images = pd.DataFrame(images_df)\n",
    "images.shape"
   ]
  },
  {
   "cell_type": "code",
   "execution_count": null,
   "id": "b83c2810-4579-406f-b4f6-f1d15e1b5df4",
   "metadata": {},
   "outputs": [],
   "source": [
    "\n",
    "cols = ['key','uid','filename','image_file','created','year','month','attr1','attr2','keywords','shotdate','dummy','filepath']\n",
    "images.columns = cols\n",
    "images.drop(images.query('filepath != filepath').index).filepath"
   ]
  },
  {
   "cell_type": "markdown",
   "id": "63386ecf-95df-41f7-a37c-f951e0ccbb7e",
   "metadata": {},
   "source": [
    "!osxphotos export ./desktop/photoslibrary --convert-to-jpeg  --directory \"{created.year}/{created.month}\" --keyword-template \"{label}\" --keyword-template \"{media_type}\""
   ]
  },
  {
   "cell_type": "code",
   "execution_count": null,
   "id": "7bce727a-41c6-4897-85a1-8a460e6f6898",
   "metadata": {},
   "outputs": [],
   "source": [
    "\n",
    "!osxphotos export --favorite ./bibliotek --convert-to-jpeg --directory \"{created.year}\""
   ]
  },
  {
   "cell_type": "code",
   "execution_count": null,
   "id": "fbad0246-c984-48bd-9ec8-73088ce617b1",
   "metadata": {},
   "outputs": [],
   "source": [
    "!osxphotos help export"
   ]
  },
  {
   "cell_type": "code",
   "execution_count": null,
   "id": "300963af-8a3c-4bdb-baed-d5fe0f168735",
   "metadata": {},
   "outputs": [],
   "source": [
    "slist = !osxphotos dump --deleted-only"
   ]
  },
  {
   "cell_type": "code",
   "execution_count": null,
   "id": "bab7d87d-f112-4d0d-b682-32e09a63b984",
   "metadata": {},
   "outputs": [],
   "source": [
    "slist[2]"
   ]
  },
  {
   "cell_type": "code",
   "execution_count": null,
   "id": "8b9f2632-15df-4d93-9aed-1a5d4486baa1",
   "metadata": {},
   "outputs": [],
   "source": [
    "list_photos = []\n",
    "for i in range(1,len(slist)):\n",
    "    list_photos.append(slist[i].split(','))\n",
    "               "
   ]
  },
  {
   "cell_type": "code",
   "execution_count": null,
   "id": "a14a694f-457a-4028-a4a0-2abd813e8901",
   "metadata": {},
   "outputs": [],
   "source": [
    "pd.DataFrame(list_photos).to_csv('inventory.csv', header=None)\n",
    "photos = pd.read_csv('inventory.csv')\n",
    "photos.shape"
   ]
  },
  {
   "cell_type": "code",
   "execution_count": null,
   "id": "55f55aa2-0161-499c-b656-4434fd941ae1",
   "metadata": {},
   "outputs": [],
   "source": [
    "photos.sample(4)"
   ]
  },
  {
   "cell_type": "code",
   "execution_count": null,
   "id": "8266491c-ddd7-4eec-83ed-ce21596e01f5",
   "metadata": {},
   "outputs": [],
   "source": []
  }
 ],
 "metadata": {
  "kernelspec": {
   "display_name": "Python 3",
   "language": "python",
   "name": "python3"
  },
  "language_info": {
   "codemirror_mode": {
    "name": "ipython",
    "version": 3
   },
   "file_extension": ".py",
   "mimetype": "text/x-python",
   "name": "python",
   "nbconvert_exporter": "python",
   "pygments_lexer": "ipython3",
   "version": "3.8.8"
  },
  "widgets": {
   "application/vnd.jupyter.widget-state+json": {
    "state": {},
    "version_major": 2,
    "version_minor": 0
   }
  }
 },
 "nbformat": 4,
 "nbformat_minor": 5
}
