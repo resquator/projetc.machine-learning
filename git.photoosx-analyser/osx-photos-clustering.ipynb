{
 "cells": [
  {
   "cell_type": "code",
   "execution_count": 1,
   "id": "24bb3ed5-9c8b-4d18-94f4-c6fcaea35ba7",
   "metadata": {},
   "outputs": [],
   "source": [
    "# importing useful libraries\n",
    "\n",
    "import requests\n",
    "import zipfile\n",
    "import os\n",
    "from PIL import Image\n",
    "import matplotlib.pyplot as plt\n",
    "import numpy as np\n",
    "from sklearn.linear_model import LogisticRegression\n",
    "from sklearn.metrics import confusion_matrix\n",
    "import seaborn as sns\n",
    "import osxphotos\n",
    "import pyforest\n",
    "import os\n",
    "np.random.seed(42)"
   ]
  },
  {
   "cell_type": "code",
   "execution_count": 2,
   "id": "f97ae139-a661-4d11-9099-2586b79f8bad",
   "metadata": {},
   "outputs": [
    {
     "name": "stdout",
     "output_type": "stream",
     "text": [
      "Using last opened Photos library: /Users/darylfelix/Pictures/Photos Library.photoslibrary\n",
      "Exporting 28754 photos to /Users/darylfelix/Dropbox/Mon Mac (Mac mini de Daryl)/Documents/development/git.photoosx-analyser/bibliotek...\n",
      "\u001b[?25l  [####################################]  100%          \u001b[?25h\n",
      "Processed: 28754 photos, exported: 370, missing: 28385, error: 0\n",
      "Elapsed time: 282.758 seconds\n"
     ]
    }
   ],
   "source": [
    "\n",
    "!osxphotos export  --not-shared --not-hidden --from-date \"2001-01-01T12:00:00\" --jpeg-ext jpg ./bibliotek --convert-to-jpeg --directory \"{created.year}\""
   ]
  },
  {
   "cell_type": "code",
   "execution_count": null,
   "id": "3f816fa4-ef98-4ffe-ac5e-5ccfc3563d2d",
   "metadata": {},
   "outputs": [],
   "source": [
    "def download(url, file_name):\n",
    "    \"\"\"\n",
    "    Downloads the dataset for project\n",
    "    input:\n",
    "    url (string): url for dataset\n",
    "    file_name (string): file name in which downloaded dataset will be stored\n",
    "    \"\"\"\n",
    "    response = requests.get(url, stream=True)\n",
    "    if response.status_code == 200:\n",
    "        with open(file_name, 'wb') as f:\n",
    "            f.write(response.raw.read())"
   ]
  },
  {
   "cell_type": "code",
   "execution_count": null,
   "id": "d0bd334b-f59d-4eef-ad32-4078a9df88ca",
   "metadata": {},
   "outputs": [],
   "source": [
    "def extract_zip(s_path, d_path):\n",
    "    \"\"\"\n",
    "    Extract (unzip) the compressed dataset for working\n",
    "    input:\n",
    "    s_path (string): path of zipped dataset\n",
    "    d_path (string): path to store the unzipped dataset\n",
    "    \"\"\"\n",
    "    with zipfile.ZipFile(s_path, 'r') as zip_ref:\n",
    "        zip_ref.extractall(d_path)"
   ]
  },
  {
   "cell_type": "code",
   "execution_count": null,
   "id": "ffa2bff1-9692-4d53-8062-9c03c48991e6",
   "metadata": {},
   "outputs": [],
   "source": [
    "def center_crop(image_path, size):\n",
    "    \"\"\"\n",
    "    crop the image from center of the given size\n",
    "    input:\n",
    "    image_path (string): Path of image\n",
    "    size (int): size to which the image being cropped from center\n",
    "    \"\"\"\n",
    "    try:\n",
    "        img = Image.open(image_path)\n",
    "        img = img.resize((size+1,size+1))\n",
    "        x_center = img.width/2\n",
    "        y_center = img.height/2\n",
    "        size = size/2\n",
    "        cr = img.crop((x_center-size, y_center-size, x_center+size, y_center+size))\n",
    "    except:\n",
    "        print('Unable to open', image_path)\n",
    "        cr=None\n",
    "    return cr\n"
   ]
  },
  {
   "cell_type": "code",
   "execution_count": null,
   "id": "ef46e3cb-a884-40bb-852b-739087a4a119",
   "metadata": {},
   "outputs": [],
   "source": [
    "photos_by_year={}\n",
    "for y in range(2020,2023):\n",
    "    try:\n",
    "        photos_by_year[str(y)]= os.listdir(f\"bibliotek/{y}\")\n",
    "    except:\n",
    "        continue\n",
    "        "
   ]
  },
  {
   "cell_type": "code",
   "execution_count": null,
   "id": "ab4cbd56-53d3-434a-bea7-ff14f83b1c97",
   "metadata": {},
   "outputs": [],
   "source": [
    "one_photo = photos_by_year['2021'][11]\n",
    "prefix = 'bibliotek/2021'\n",
    "one_photo"
   ]
  },
  {
   "cell_type": "code",
   "execution_count": null,
   "id": "7803fc7c-da46-4275-894f-9dcf06acf176",
   "metadata": {},
   "outputs": [],
   "source": [
    "import PIL\n",
    "import PIL.Image as PILI\n",
    "#from PIL import Image\n",
    "\n",
    "print(PIL.__version__)"
   ]
  },
  {
   "cell_type": "code",
   "execution_count": null,
   "id": "be8add7e-9d7b-41e0-98a2-39f924db8f0e",
   "metadata": {},
   "outputs": [],
   "source": [
    "img_path = f'{prefix}/{one_photo}'\n",
    "with Image.open(img_path) as img:\n",
    "    print(img)\n",
    "\n",
    "\n",
    "img = PILI.open(img_path).convert('RGB')\n",
    "\n",
    "print(img)"
   ]
  },
  {
   "cell_type": "code",
   "execution_count": null,
   "id": "f81db017-270c-40c3-9b04-7d0d5419cf44",
   "metadata": {},
   "outputs": [],
   "source": [
    "plt.imshow(img)"
   ]
  },
  {
   "cell_type": "code",
   "execution_count": null,
   "id": "5092b5c5-10c0-4b06-a989-7b80c06b4f48",
   "metadata": {},
   "outputs": [],
   "source": [
    "all_photos = []\n",
    "# create dataset with all photos\n",
    "for key in photos_by_year:\n",
    "    list_of_year = photos_by_year[key]\n",
    "    \n",
    "    for i in list_of_year:\n",
    "        if 'mov' not in i and 'edited' not in i and '(1)' not in i:\n",
    "            all_photos.append(f\"bibliotek/{key}/{i}\")\n",
    "        \n",
    "len(all_photos)\n",
    "train_list=all_photos\n",
    "train_list[:5]"
   ]
  },
  {
   "cell_type": "code",
   "execution_count": null,
   "id": "e90e6c67-1b39-4a52-98ab-46e2a55863a1",
   "metadata": {},
   "outputs": [],
   "source": [
    "np.random.shuffle(train_list)\n",
    "try:\n",
    "    train_list.remove('.ipynb_checkpoints')\n",
    "    train_list.remove('.ipynb_checkpoints')\n",
    "except:\n",
    "    pass\n",
    "train_list[:4]"
   ]
  },
  {
   "cell_type": "code",
   "execution_count": null,
   "id": "547769fd-1e6b-4669-b2df-972918dd29a3",
   "metadata": {},
   "outputs": [],
   "source": [
    "l=len(train_list)\n",
    "l"
   ]
  },
  {
   "cell_type": "code",
   "execution_count": null,
   "id": "bf28cb76-bc77-44f4-ad4b-5352134f9a01",
   "metadata": {},
   "outputs": [],
   "source": [
    "train_data = np.zeros((l,100*100*3))"
   ]
  },
  {
   "cell_type": "code",
   "execution_count": null,
   "id": "300f1111-640c-4fb9-a798-35464b03fafd",
   "metadata": {},
   "outputs": [],
   "source": [
    "i=0\n",
    "for key in train_list:\n",
    "    image_name =key\n",
    "    image_path = f\"{image_name}\"\n",
    "    try:\n",
    "        crp_img = center_crop(image_path,100)\n",
    "        crp_arr = np.array(crp_img).reshape(-1)\n",
    "        train_data[i] = crp_arr\n",
    "    except ValueError:\n",
    "        print(f\"unable to open {image_name} - {ValueError}\")\n",
    "        continue\n",
    "    i=i+1"
   ]
  },
  {
   "cell_type": "code",
   "execution_count": null,
   "id": "c04990f8-c0db-421b-bd8e-c94a9336b15d",
   "metadata": {},
   "outputs": [],
   "source": [
    "train_data[0]"
   ]
  },
  {
   "cell_type": "code",
   "execution_count": null,
   "id": "c4f61bcc-1aac-49f4-b357-e15936b4d395",
   "metadata": {},
   "outputs": [],
   "source": [
    "from sklearn.cluster import KMeans\n",
    "kmeans = KMeans(n_clusters=25, random_state=0).fit(train_data[:3000])"
   ]
  },
  {
   "cell_type": "code",
   "execution_count": null,
   "id": "aa6f9118-b70a-4a4c-b62f-64777277907f",
   "metadata": {},
   "outputs": [],
   "source": [
    "predict=kmeans.predict(train_data)\n",
    "predict"
   ]
  },
  {
   "cell_type": "code",
   "execution_count": null,
   "id": "e999ef34-6172-4a0b-bc81-a7e5211d11c0",
   "metadata": {},
   "outputs": [],
   "source": [
    "pd.DataFrame(predict).value_counts()"
   ]
  },
  {
   "cell_type": "code",
   "execution_count": null,
   "id": "013050c6-d965-45e5-87b9-7966cc0aa04f",
   "metadata": {},
   "outputs": [],
   "source": [
    "for c in range(1,31):\n",
    "    new_folder = f\"cluster/{c}\"\n",
    "    os.mkdir(new_folder)\n"
   ]
  },
  {
   "cell_type": "code",
   "execution_count": null,
   "id": "16b59b82-dd2e-4433-b00c-f829dbdbdce0",
   "metadata": {},
   "outputs": [],
   "source": [
    "from shutil import copyfile\n",
    "idx=0\n",
    "for file in train_list:\n",
    "\n",
    "\n",
    "    filename = file.split('/')[2]\n",
    "    dest_file = f'cluster/{predict[idx]+1}/{filename}'\n",
    "    \n",
    "    copyfile(file, dest_file)\n",
    "    idx+=1"
   ]
  },
  {
   "cell_type": "code",
   "execution_count": null,
   "id": "61c53e92-69f3-4890-a13b-5179a7eacca1",
   "metadata": {},
   "outputs": [],
   "source": []
  }
 ],
 "metadata": {
  "kernelspec": {
   "display_name": "Python 3",
   "language": "python",
   "name": "python3"
  },
  "language_info": {
   "codemirror_mode": {
    "name": "ipython",
    "version": 3
   },
   "file_extension": ".py",
   "mimetype": "text/x-python",
   "name": "python",
   "nbconvert_exporter": "python",
   "pygments_lexer": "ipython3",
   "version": "3.8.8"
  },
  "widgets": {
   "application/vnd.jupyter.widget-state+json": {
    "state": {},
    "version_major": 2,
    "version_minor": 0
   }
  }
 },
 "nbformat": 4,
 "nbformat_minor": 5
}
