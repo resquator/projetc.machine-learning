{
 "cells": [
  {
   "cell_type": "markdown",
   "id": "43310146-246c-494f-b145-ea6281d39b73",
   "metadata": {},
   "source": [
    "# Extract Golf Score Tag Heuer\n",
    "\n",
    "This program extract data form tag Heuer json file. The data extracted is for 1 payer (email, or name give as a key).\n",
    "\n",
    "The outcome will be:\n",
    "- row number\n",
    "- round id\n",
    "- round date\n",
    "- course\n",
    "- player index\n",
    "- hole\n",
    "- handicap\n",
    "- par (normal for the hole)\n",
    "- strokes\n",
    "- putts\n",
    "- penalties\n",
    "- fairwayHit\n",
    "- bunkerHit\n",
    "\n",
    "\n",
    "The Class will implement a fit transform method. Initialization will be done with the json file.\n",
    "Init mthod read the json and normalize.\n",
    "Fit method prepare features.\n",
    "Transform returns pandas dataset with all holes payed."
   ]
  },
  {
   "cell_type": "code",
   "execution_count": 22,
   "id": "a2fdf1d3-cdc9-4f3f-a3c0-d8c449e14694",
   "metadata": {},
   "outputs": [],
   "source": [
    "\"\"\"\n",
    "This library specific to golf data extracted from the Tag Heuer App.\n",
    "The library creates a pandas dataframe and gives some statistical and\n",
    "analyticals KPIs.\n",
    "\n",
    "\"\"\"\n",
    "\n",
    "from datetime import datetime\n",
    "import json\n",
    "from pandas.io.json import json_normalize\n",
    "from collections import OrderedDict\n",
    "import pandas as pd\n",
    "import numpy as np\n",
    "\n",
    "class TagHeuerData:\n",
    "    def __init__(self, filename = None, player = None, courses = None):\n",
    "\n",
    "        \"\"\"\n",
    "        Initialize the collection with a user.json file extracted from Tag Heuer App.\n",
    "        \n",
    "        Parameter:\n",
    "        - filename: str, location of the source file\n",
    "        - player: str, email of the player to filter on one player\n",
    "        - courses: dataframe, a df which contains courses definition\n",
    "        \n",
    "        \"\"\"\n",
    "        \n",
    "        self.holes_played = None\n",
    "        self.first_date_round = None\n",
    "        self.last_date_round = None\n",
    "        \n",
    "        \n",
    "        with open(filename) as data_file:\n",
    "            data = json.load(data_file, object_pairs_hook=OrderedDict)\n",
    "        \n",
    "        \n",
    "        \"\"\"\n",
    "        Extract scorecards from data\n",
    "        \n",
    "        \"\"\"\n",
    "        rounds=pd.json_normalize(data['rounds'])\n",
    "        self.rounds = rounds\n",
    "        scorecards=rounds['scorecard.players']\n",
    "        sc=scorecards\n",
    "        df = pd.DataFrame()\n",
    "        for i in range(0,int(sc.size)):\n",
    "            one = sc[i]            \n",
    "            temp=pd.json_normalize(one, errors='ignore')\n",
    "            score=pd.json_normalize(temp.scores[0]).sort_values('holeNumber')\n",
    "            rp=pd.json_normalize(one, errors='ignore')\n",
    "\n",
    "            for idx, r in score.iterrows():\n",
    "                score['rounddate']=datetime.fromtimestamp(r.date).strftime('%Y-%m-%d')\n",
    "            \n",
    "            score['golfCourse']=rounds.iloc[i,0]   \n",
    "            score['firstName']=rp['roundPlayer.firstName'][0]\n",
    "            score['lastName']=rp['roundPlayer.lastName'][0]\n",
    "            score['email']=rp['roundPlayer.email'][0]\n",
    "            df=pd.concat([df,score])\n",
    "            df=df.drop('date',axis=1)\n",
    "\n",
    "        df=df.reset_index(drop=True)\n",
    "        \n",
    "        if isinstance(courses, pd.DataFrame):\n",
    "            #merge with courses\n",
    "            df = df.merge(courses, left_on='holeNumber', right_on='hole')\n",
    "            df['stroke'] = df['score.strokes']-df['par']\n",
    "            self.with_courses_data = True\n",
    "        else:\n",
    "            self.with_courses_data = False\n",
    "\n",
    "        self.holes_played = df\n",
    "        self.first_date_round = df.rounddate.min()\n",
    "        self.last_date_round = df.rounddate.max()\n",
    "    \n",
    "    def holesScores(self, datefrom=None, dateto=None, chart=False):\n",
    "        if self.with_courses_data == False:\n",
    "            print('You must instanciate the class with course parameter')\n",
    "            return False\n",
    "        \n",
    "        t = self.holes_played.copy()\n",
    "        if datefrom == None:\n",
    "            datefrom = self.first_date_round\n",
    "        if dateto == None:\n",
    "            dateto = self.last_date_round\n",
    "            \n",
    "        # query t\n",
    "        scope = t.query('rounddate>=@datefrom and rounddate<=@dateto')\n",
    "        return scope[['par','stroke','score.strokes']].groupby('par').mean()\n",
    "        \n",
    " "
   ]
  },
  {
   "cell_type": "code",
   "execution_count": 25,
   "id": "87ff36c3-437d-48e6-80e2-b933bdf1a560",
   "metadata": {
    "tags": []
   },
   "outputs": [
    {
     "data": {
      "text/html": [
       "<div>\n",
       "<style scoped>\n",
       "    .dataframe tbody tr th:only-of-type {\n",
       "        vertical-align: middle;\n",
       "    }\n",
       "\n",
       "    .dataframe tbody tr th {\n",
       "        vertical-align: top;\n",
       "    }\n",
       "\n",
       "    .dataframe thead th {\n",
       "        text-align: right;\n",
       "    }\n",
       "</style>\n",
       "<table border=\"1\" class=\"dataframe\">\n",
       "  <thead>\n",
       "    <tr style=\"text-align: right;\">\n",
       "      <th></th>\n",
       "      <th>holeNumber</th>\n",
       "      <th>score.strokes</th>\n",
       "      <th>score.putts</th>\n",
       "      <th>score.penalties</th>\n",
       "      <th>score.fairwayHit</th>\n",
       "      <th>score.bunkerHit</th>\n",
       "      <th>rounddate</th>\n",
       "      <th>golfCourse</th>\n",
       "      <th>firstName</th>\n",
       "      <th>lastName</th>\n",
       "      <th>email</th>\n",
       "      <th>id</th>\n",
       "      <th>hole</th>\n",
       "      <th>course</th>\n",
       "      <th>courseid</th>\n",
       "      <th>par</th>\n",
       "      <th>distance</th>\n",
       "      <th>handicap</th>\n",
       "      <th>stroke</th>\n",
       "    </tr>\n",
       "  </thead>\n",
       "  <tbody>\n",
       "    <tr>\n",
       "      <th>0</th>\n",
       "      <td>1</td>\n",
       "      <td>6</td>\n",
       "      <td>2.0</td>\n",
       "      <td>0</td>\n",
       "      <td>None</td>\n",
       "      <td>None</td>\n",
       "      <td>2019-11-10</td>\n",
       "      <td>Golf de Gonville</td>\n",
       "      <td>Daryl</td>\n",
       "      <td>Felix</td>\n",
       "      <td>resquatordaryl@gmail.com</td>\n",
       "      <td>1</td>\n",
       "      <td>1</td>\n",
       "      <td>Golf de Gonville</td>\n",
       "      <td>1</td>\n",
       "      <td>5</td>\n",
       "      <td>480</td>\n",
       "      <td>1</td>\n",
       "      <td>1</td>\n",
       "    </tr>\n",
       "    <tr>\n",
       "      <th>1</th>\n",
       "      <td>1</td>\n",
       "      <td>6</td>\n",
       "      <td>3.0</td>\n",
       "      <td>0</td>\n",
       "      <td>None</td>\n",
       "      <td>None</td>\n",
       "      <td>2020-05-17</td>\n",
       "      <td>Golf Club Montreux</td>\n",
       "      <td>Daryl</td>\n",
       "      <td>Felix</td>\n",
       "      <td>resquatordaryl@gmail.com</td>\n",
       "      <td>1</td>\n",
       "      <td>1</td>\n",
       "      <td>Golf de Gonville</td>\n",
       "      <td>1</td>\n",
       "      <td>5</td>\n",
       "      <td>480</td>\n",
       "      <td>1</td>\n",
       "      <td>1</td>\n",
       "    </tr>\n",
       "    <tr>\n",
       "      <th>2</th>\n",
       "      <td>1</td>\n",
       "      <td>6</td>\n",
       "      <td>1.0</td>\n",
       "      <td>0</td>\n",
       "      <td>None</td>\n",
       "      <td>None</td>\n",
       "      <td>2020-05-21</td>\n",
       "      <td>Golf Parc du Signal de Bougy</td>\n",
       "      <td>Daryl</td>\n",
       "      <td>Felix</td>\n",
       "      <td>resquatordaryl@gmail.com</td>\n",
       "      <td>1</td>\n",
       "      <td>1</td>\n",
       "      <td>Golf de Gonville</td>\n",
       "      <td>1</td>\n",
       "      <td>5</td>\n",
       "      <td>480</td>\n",
       "      <td>1</td>\n",
       "      <td>1</td>\n",
       "    </tr>\n",
       "    <tr>\n",
       "      <th>3</th>\n",
       "      <td>1</td>\n",
       "      <td>5</td>\n",
       "      <td>2.0</td>\n",
       "      <td>0</td>\n",
       "      <td>None</td>\n",
       "      <td>None</td>\n",
       "      <td>2020-05-22</td>\n",
       "      <td>Golf Club Montreux</td>\n",
       "      <td>Daryl</td>\n",
       "      <td>Felix</td>\n",
       "      <td>resquatordaryl@gmail.com</td>\n",
       "      <td>1</td>\n",
       "      <td>1</td>\n",
       "      <td>Golf de Gonville</td>\n",
       "      <td>1</td>\n",
       "      <td>5</td>\n",
       "      <td>480</td>\n",
       "      <td>1</td>\n",
       "      <td>0</td>\n",
       "    </tr>\n",
       "    <tr>\n",
       "      <th>4</th>\n",
       "      <td>1</td>\n",
       "      <td>7</td>\n",
       "      <td>2.0</td>\n",
       "      <td>0</td>\n",
       "      <td>None</td>\n",
       "      <td>None</td>\n",
       "      <td>2020-05-24</td>\n",
       "      <td>Golf Club Montreux</td>\n",
       "      <td>Daryl</td>\n",
       "      <td>Felix</td>\n",
       "      <td>resquatordaryl@gmail.com</td>\n",
       "      <td>1</td>\n",
       "      <td>1</td>\n",
       "      <td>Golf de Gonville</td>\n",
       "      <td>1</td>\n",
       "      <td>5</td>\n",
       "      <td>480</td>\n",
       "      <td>1</td>\n",
       "      <td>2</td>\n",
       "    </tr>\n",
       "  </tbody>\n",
       "</table>\n",
       "</div>"
      ],
      "text/plain": [
       "   holeNumber  score.strokes  score.putts  score.penalties score.fairwayHit  \\\n",
       "0           1              6          2.0                0             None   \n",
       "1           1              6          3.0                0             None   \n",
       "2           1              6          1.0                0             None   \n",
       "3           1              5          2.0                0             None   \n",
       "4           1              7          2.0                0             None   \n",
       "\n",
       "  score.bunkerHit   rounddate                    golfCourse firstName  \\\n",
       "0            None  2019-11-10              Golf de Gonville     Daryl   \n",
       "1            None  2020-05-17            Golf Club Montreux     Daryl   \n",
       "2            None  2020-05-21  Golf Parc du Signal de Bougy     Daryl   \n",
       "3            None  2020-05-22            Golf Club Montreux     Daryl   \n",
       "4            None  2020-05-24            Golf Club Montreux     Daryl   \n",
       "\n",
       "  lastName                     email  id  hole            course  courseid  \\\n",
       "0    Felix  resquatordaryl@gmail.com   1     1  Golf de Gonville         1   \n",
       "1    Felix  resquatordaryl@gmail.com   1     1  Golf de Gonville         1   \n",
       "2    Felix  resquatordaryl@gmail.com   1     1  Golf de Gonville         1   \n",
       "3    Felix  resquatordaryl@gmail.com   1     1  Golf de Gonville         1   \n",
       "4    Felix  resquatordaryl@gmail.com   1     1  Golf de Gonville         1   \n",
       "\n",
       "   par  distance  handicap  stroke  \n",
       "0    5       480         1       1  \n",
       "1    5       480         1       1  \n",
       "2    5       480         1       1  \n",
       "3    5       480         1       0  \n",
       "4    5       480         1       2  "
      ]
     },
     "execution_count": 25,
     "metadata": {},
     "output_type": "execute_result"
    }
   ],
   "source": [
    "coursesdata = pd.read_csv('data/courses.csv')\n",
    "coursesdata.shape\n",
    "df = TagHeuerData('data/user.json','Daryl', courses=coursesdata)\n",
    "df.holes_played.head()"
   ]
  },
  {
   "cell_type": "code",
   "execution_count": 31,
   "id": "ce427dc2-0555-4f27-909a-b2be27b98cd9",
   "metadata": {},
   "outputs": [
    {
     "data": {
      "text/html": [
       "<div>\n",
       "<style scoped>\n",
       "    .dataframe tbody tr th:only-of-type {\n",
       "        vertical-align: middle;\n",
       "    }\n",
       "\n",
       "    .dataframe tbody tr th {\n",
       "        vertical-align: top;\n",
       "    }\n",
       "\n",
       "    .dataframe thead th {\n",
       "        text-align: right;\n",
       "    }\n",
       "</style>\n",
       "<table border=\"1\" class=\"dataframe\">\n",
       "  <thead>\n",
       "    <tr style=\"text-align: right;\">\n",
       "      <th></th>\n",
       "      <th>stroke</th>\n",
       "      <th>score.strokes</th>\n",
       "    </tr>\n",
       "    <tr>\n",
       "      <th>par</th>\n",
       "      <th></th>\n",
       "      <th></th>\n",
       "    </tr>\n",
       "  </thead>\n",
       "  <tbody>\n",
       "    <tr>\n",
       "      <th>3</th>\n",
       "      <td>1.085714</td>\n",
       "      <td>4.085714</td>\n",
       "    </tr>\n",
       "    <tr>\n",
       "      <th>4</th>\n",
       "      <td>0.891837</td>\n",
       "      <td>4.891837</td>\n",
       "    </tr>\n",
       "    <tr>\n",
       "      <th>5</th>\n",
       "      <td>0.766667</td>\n",
       "      <td>5.766667</td>\n",
       "    </tr>\n",
       "  </tbody>\n",
       "</table>\n",
       "</div>"
      ],
      "text/plain": [
       "       stroke  score.strokes\n",
       "par                         \n",
       "3    1.085714       4.085714\n",
       "4    0.891837       4.891837\n",
       "5    0.766667       5.766667"
      ]
     },
     "execution_count": 31,
     "metadata": {},
     "output_type": "execute_result"
    }
   ],
   "source": [
    "df.holesScores()"
   ]
  },
  {
   "cell_type": "code",
   "execution_count": 17,
   "id": "ad6f9323-fd30-43c0-a88d-9f1e9654a40c",
   "metadata": {},
   "outputs": [
    {
     "name": "stdout",
     "output_type": "stream",
     "text": [
      "<class 'pandas.core.frame.DataFrame'>\n"
     ]
    }
   ],
   "source": [
    "ty=str(type(coursesdata))\n",
    "print(ty)\n",
    "if 'DataFrame' in ty:\n",
    "    True"
   ]
  },
  {
   "cell_type": "code",
   "execution_count": 3,
   "id": "0ca0226d-7211-4dd9-a623-f06a31927c32",
   "metadata": {},
   "outputs": [
    {
     "data": {
      "text/plain": [
       "'2019-11-10'"
      ]
     },
     "execution_count": 3,
     "metadata": {},
     "output_type": "execute_result"
    }
   ],
   "source": [
    "holes = df.holes_played\n",
    "holes.rounddate.min()"
   ]
  },
  {
   "cell_type": "code",
   "execution_count": null,
   "id": "c5373be5-c4e1-4e0f-9332-657c39cab1a6",
   "metadata": {},
   "outputs": [],
   "source": [
    "hp_gonville = df.scorecards.query('golfCourse == \"Golf de Gonville\"')"
   ]
  },
  {
   "cell_type": "code",
   "execution_count": null,
   "id": "ed21cd41-5e3a-4289-bb48-ba75830839ea",
   "metadata": {},
   "outputs": [],
   "source": [
    "hp_gonville.describe()"
   ]
  },
  {
   "cell_type": "code",
   "execution_count": null,
   "id": "6066d2e8-e93c-488c-9bf3-ae9474efdf40",
   "metadata": {},
   "outputs": [],
   "source": [
    "courses = pd.read_csv('data/courses.csv')\n",
    "courses.shape"
   ]
  },
  {
   "cell_type": "code",
   "execution_count": null,
   "id": "d88480cf-0c9d-4de2-8493-b37540a8c423",
   "metadata": {},
   "outputs": [],
   "source": [
    "scores=hp_gonville.merge(courses, left_on = 'holeNumber', right_on= 'hole')\n",
    "scores.sort_values(['rounddate','holeNumber'], inplace=True)"
   ]
  },
  {
   "cell_type": "code",
   "execution_count": null,
   "id": "cb3a9560-cd4c-4171-8e41-f77747d8e6ba",
   "metadata": {},
   "outputs": [],
   "source": [
    "scores"
   ]
  },
  {
   "cell_type": "code",
   "execution_count": null,
   "id": "f75f7355-b8bf-4207-819e-ec2f01d46675",
   "metadata": {},
   "outputs": [],
   "source": [
    "scores.columns.tolist()"
   ]
  },
  {
   "cell_type": "code",
   "execution_count": null,
   "id": "2d420dde-986c-4229-a552-1ed603f2379d",
   "metadata": {},
   "outputs": [],
   "source": [
    "features = ['rounddate','holeNumber','par','distance','handicap',\n",
    "            'score.strokes','score.putts','score.penalties']"
   ]
  },
  {
   "cell_type": "code",
   "execution_count": null,
   "id": "1deff40b-7a82-4a42-8df9-f3cd674b116e",
   "metadata": {},
   "outputs": [],
   "source": [
    "scores=scores[features]\n",
    "scores['stroke']=scores['score.strokes']-scores['par']\n",
    "scores"
   ]
  },
  {
   "cell_type": "code",
   "execution_count": null,
   "id": "8592f37b-acf5-4dc9-91e9-99ed20fb3ae0",
   "metadata": {},
   "outputs": [],
   "source": [
    "scores.query('rounddate > \"2000-02-01\"').groupby('holeNumber').mean()['stroke'].cumsum().plot()\n",
    "scores.query('rounddate > \"2020-02-01\"').groupby('holeNumber').mean()['stroke'].cumsum().plot()\n",
    "scores.query('rounddate > \"2021-02-01\"').groupby('holeNumber').mean()['stroke'].cumsum().plot()\n",
    "scores.query('rounddate > \"2022-02-01\"').groupby('holeNumber').mean()['stroke'].cumsum().plot()"
   ]
  },
  {
   "cell_type": "code",
   "execution_count": null,
   "id": "93b8182d-f5f9-4877-9949-e642e89703d9",
   "metadata": {},
   "outputs": [],
   "source": [
    "pd.DataFrame(scores.groupby('holeNumber').mean()['stroke']).hist()\n",
    "plt.title('Cumulative score')\n",
    "plt.show()"
   ]
  },
  {
   "cell_type": "code",
   "execution_count": null,
   "id": "51646d97-016f-42fb-8e93-802544cc821b",
   "metadata": {},
   "outputs": [],
   "source": [
    "scores.groupby('holeNumber').mean()['stroke'].cumsum().plot()"
   ]
  },
  {
   "cell_type": "code",
   "execution_count": null,
   "id": "9228f632-a646-44a7-97fc-f83ef0872682",
   "metadata": {},
   "outputs": [],
   "source": []
  }
 ],
 "metadata": {
  "kernelspec": {
   "display_name": "Python 3",
   "language": "python",
   "name": "python3"
  },
  "language_info": {
   "codemirror_mode": {
    "name": "ipython",
    "version": 3
   },
   "file_extension": ".py",
   "mimetype": "text/x-python",
   "name": "python",
   "nbconvert_exporter": "python",
   "pygments_lexer": "ipython3",
   "version": "3.8.8"
  },
  "toc-showtags": false,
  "widgets": {
   "application/vnd.jupyter.widget-state+json": {
    "state": {},
    "version_major": 2,
    "version_minor": 0
   }
  }
 },
 "nbformat": 4,
 "nbformat_minor": 5
}
